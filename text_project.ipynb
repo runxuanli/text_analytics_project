{
  "nbformat": 4,
  "nbformat_minor": 0,
  "metadata": {
    "colab": {
      "provenance": [],
      "gpuType": "T4"
    },
    "kernelspec": {
      "name": "python3",
      "display_name": "Python 3"
    },
    "language_info": {
      "name": "python"
    },
    "widgets": {
      "application/vnd.jupyter.widget-state+json": {
        "6721889693b04558b4618c4ac658d313": {
          "model_module": "@jupyter-widgets/controls",
          "model_name": "HBoxModel",
          "model_module_version": "1.5.0",
          "state": {
            "_dom_classes": [],
            "_model_module": "@jupyter-widgets/controls",
            "_model_module_version": "1.5.0",
            "_model_name": "HBoxModel",
            "_view_count": null,
            "_view_module": "@jupyter-widgets/controls",
            "_view_module_version": "1.5.0",
            "_view_name": "HBoxView",
            "box_style": "",
            "children": [
              "IPY_MODEL_53fdff721ea649318e415a04f1463bf9",
              "IPY_MODEL_fdadf302599e48db9176143f6a3b053f",
              "IPY_MODEL_904ec1d2cad84b8d8d24c9a5c64b5398"
            ],
            "layout": "IPY_MODEL_bab8099a7777442682b7b45c90b6889e"
          }
        },
        "53fdff721ea649318e415a04f1463bf9": {
          "model_module": "@jupyter-widgets/controls",
          "model_name": "HTMLModel",
          "model_module_version": "1.5.0",
          "state": {
            "_dom_classes": [],
            "_model_module": "@jupyter-widgets/controls",
            "_model_module_version": "1.5.0",
            "_model_name": "HTMLModel",
            "_view_count": null,
            "_view_module": "@jupyter-widgets/controls",
            "_view_module_version": "1.5.0",
            "_view_name": "HTMLView",
            "description": "",
            "description_tooltip": null,
            "layout": "IPY_MODEL_f12f1b7b94324328ab166f2af0ac87c8",
            "placeholder": "​",
            "style": "IPY_MODEL_811f0cd882d3412dae78ed28dfee8994",
            "value": "config.json: 100%"
          }
        },
        "fdadf302599e48db9176143f6a3b053f": {
          "model_module": "@jupyter-widgets/controls",
          "model_name": "FloatProgressModel",
          "model_module_version": "1.5.0",
          "state": {
            "_dom_classes": [],
            "_model_module": "@jupyter-widgets/controls",
            "_model_module_version": "1.5.0",
            "_model_name": "FloatProgressModel",
            "_view_count": null,
            "_view_module": "@jupyter-widgets/controls",
            "_view_module_version": "1.5.0",
            "_view_name": "ProgressView",
            "bar_style": "success",
            "description": "",
            "description_tooltip": null,
            "layout": "IPY_MODEL_a3b7ac9901ad4d59ae203006661b1be0",
            "max": 1120,
            "min": 0,
            "orientation": "horizontal",
            "style": "IPY_MODEL_eb47bff994c64c88962fbff30e6c6b13",
            "value": 1120
          }
        },
        "904ec1d2cad84b8d8d24c9a5c64b5398": {
          "model_module": "@jupyter-widgets/controls",
          "model_name": "HTMLModel",
          "model_module_version": "1.5.0",
          "state": {
            "_dom_classes": [],
            "_model_module": "@jupyter-widgets/controls",
            "_model_module_version": "1.5.0",
            "_model_name": "HTMLModel",
            "_view_count": null,
            "_view_module": "@jupyter-widgets/controls",
            "_view_module_version": "1.5.0",
            "_view_name": "HTMLView",
            "description": "",
            "description_tooltip": null,
            "layout": "IPY_MODEL_c7c816e9b2dd4d56aa24cb9145d91168",
            "placeholder": "​",
            "style": "IPY_MODEL_1ed617f690934daa8e7c4375b6527281",
            "value": " 1.12k/1.12k [00:00&lt;00:00, 90.3kB/s]"
          }
        },
        "bab8099a7777442682b7b45c90b6889e": {
          "model_module": "@jupyter-widgets/base",
          "model_name": "LayoutModel",
          "model_module_version": "1.2.0",
          "state": {
            "_model_module": "@jupyter-widgets/base",
            "_model_module_version": "1.2.0",
            "_model_name": "LayoutModel",
            "_view_count": null,
            "_view_module": "@jupyter-widgets/base",
            "_view_module_version": "1.2.0",
            "_view_name": "LayoutView",
            "align_content": null,
            "align_items": null,
            "align_self": null,
            "border": null,
            "bottom": null,
            "display": null,
            "flex": null,
            "flex_flow": null,
            "grid_area": null,
            "grid_auto_columns": null,
            "grid_auto_flow": null,
            "grid_auto_rows": null,
            "grid_column": null,
            "grid_gap": null,
            "grid_row": null,
            "grid_template_areas": null,
            "grid_template_columns": null,
            "grid_template_rows": null,
            "height": null,
            "justify_content": null,
            "justify_items": null,
            "left": null,
            "margin": null,
            "max_height": null,
            "max_width": null,
            "min_height": null,
            "min_width": null,
            "object_fit": null,
            "object_position": null,
            "order": null,
            "overflow": null,
            "overflow_x": null,
            "overflow_y": null,
            "padding": null,
            "right": null,
            "top": null,
            "visibility": null,
            "width": null
          }
        },
        "f12f1b7b94324328ab166f2af0ac87c8": {
          "model_module": "@jupyter-widgets/base",
          "model_name": "LayoutModel",
          "model_module_version": "1.2.0",
          "state": {
            "_model_module": "@jupyter-widgets/base",
            "_model_module_version": "1.2.0",
            "_model_name": "LayoutModel",
            "_view_count": null,
            "_view_module": "@jupyter-widgets/base",
            "_view_module_version": "1.2.0",
            "_view_name": "LayoutView",
            "align_content": null,
            "align_items": null,
            "align_self": null,
            "border": null,
            "bottom": null,
            "display": null,
            "flex": null,
            "flex_flow": null,
            "grid_area": null,
            "grid_auto_columns": null,
            "grid_auto_flow": null,
            "grid_auto_rows": null,
            "grid_column": null,
            "grid_gap": null,
            "grid_row": null,
            "grid_template_areas": null,
            "grid_template_columns": null,
            "grid_template_rows": null,
            "height": null,
            "justify_content": null,
            "justify_items": null,
            "left": null,
            "margin": null,
            "max_height": null,
            "max_width": null,
            "min_height": null,
            "min_width": null,
            "object_fit": null,
            "object_position": null,
            "order": null,
            "overflow": null,
            "overflow_x": null,
            "overflow_y": null,
            "padding": null,
            "right": null,
            "top": null,
            "visibility": null,
            "width": null
          }
        },
        "811f0cd882d3412dae78ed28dfee8994": {
          "model_module": "@jupyter-widgets/controls",
          "model_name": "DescriptionStyleModel",
          "model_module_version": "1.5.0",
          "state": {
            "_model_module": "@jupyter-widgets/controls",
            "_model_module_version": "1.5.0",
            "_model_name": "DescriptionStyleModel",
            "_view_count": null,
            "_view_module": "@jupyter-widgets/base",
            "_view_module_version": "1.2.0",
            "_view_name": "StyleView",
            "description_width": ""
          }
        },
        "a3b7ac9901ad4d59ae203006661b1be0": {
          "model_module": "@jupyter-widgets/base",
          "model_name": "LayoutModel",
          "model_module_version": "1.2.0",
          "state": {
            "_model_module": "@jupyter-widgets/base",
            "_model_module_version": "1.2.0",
            "_model_name": "LayoutModel",
            "_view_count": null,
            "_view_module": "@jupyter-widgets/base",
            "_view_module_version": "1.2.0",
            "_view_name": "LayoutView",
            "align_content": null,
            "align_items": null,
            "align_self": null,
            "border": null,
            "bottom": null,
            "display": null,
            "flex": null,
            "flex_flow": null,
            "grid_area": null,
            "grid_auto_columns": null,
            "grid_auto_flow": null,
            "grid_auto_rows": null,
            "grid_column": null,
            "grid_gap": null,
            "grid_row": null,
            "grid_template_areas": null,
            "grid_template_columns": null,
            "grid_template_rows": null,
            "height": null,
            "justify_content": null,
            "justify_items": null,
            "left": null,
            "margin": null,
            "max_height": null,
            "max_width": null,
            "min_height": null,
            "min_width": null,
            "object_fit": null,
            "object_position": null,
            "order": null,
            "overflow": null,
            "overflow_x": null,
            "overflow_y": null,
            "padding": null,
            "right": null,
            "top": null,
            "visibility": null,
            "width": null
          }
        },
        "eb47bff994c64c88962fbff30e6c6b13": {
          "model_module": "@jupyter-widgets/controls",
          "model_name": "ProgressStyleModel",
          "model_module_version": "1.5.0",
          "state": {
            "_model_module": "@jupyter-widgets/controls",
            "_model_module_version": "1.5.0",
            "_model_name": "ProgressStyleModel",
            "_view_count": null,
            "_view_module": "@jupyter-widgets/base",
            "_view_module_version": "1.2.0",
            "_view_name": "StyleView",
            "bar_color": null,
            "description_width": ""
          }
        },
        "c7c816e9b2dd4d56aa24cb9145d91168": {
          "model_module": "@jupyter-widgets/base",
          "model_name": "LayoutModel",
          "model_module_version": "1.2.0",
          "state": {
            "_model_module": "@jupyter-widgets/base",
            "_model_module_version": "1.2.0",
            "_model_name": "LayoutModel",
            "_view_count": null,
            "_view_module": "@jupyter-widgets/base",
            "_view_module_version": "1.2.0",
            "_view_name": "LayoutView",
            "align_content": null,
            "align_items": null,
            "align_self": null,
            "border": null,
            "bottom": null,
            "display": null,
            "flex": null,
            "flex_flow": null,
            "grid_area": null,
            "grid_auto_columns": null,
            "grid_auto_flow": null,
            "grid_auto_rows": null,
            "grid_column": null,
            "grid_gap": null,
            "grid_row": null,
            "grid_template_areas": null,
            "grid_template_columns": null,
            "grid_template_rows": null,
            "height": null,
            "justify_content": null,
            "justify_items": null,
            "left": null,
            "margin": null,
            "max_height": null,
            "max_width": null,
            "min_height": null,
            "min_width": null,
            "object_fit": null,
            "object_position": null,
            "order": null,
            "overflow": null,
            "overflow_x": null,
            "overflow_y": null,
            "padding": null,
            "right": null,
            "top": null,
            "visibility": null,
            "width": null
          }
        },
        "1ed617f690934daa8e7c4375b6527281": {
          "model_module": "@jupyter-widgets/controls",
          "model_name": "DescriptionStyleModel",
          "model_module_version": "1.5.0",
          "state": {
            "_model_module": "@jupyter-widgets/controls",
            "_model_module_version": "1.5.0",
            "_model_name": "DescriptionStyleModel",
            "_view_count": null,
            "_view_module": "@jupyter-widgets/base",
            "_view_module_version": "1.2.0",
            "_view_name": "StyleView",
            "description_width": ""
          }
        },
        "1f5a1d12037e48aa8902f8fca121c983": {
          "model_module": "@jupyter-widgets/controls",
          "model_name": "HBoxModel",
          "model_module_version": "1.5.0",
          "state": {
            "_dom_classes": [],
            "_model_module": "@jupyter-widgets/controls",
            "_model_module_version": "1.5.0",
            "_model_name": "HBoxModel",
            "_view_count": null,
            "_view_module": "@jupyter-widgets/controls",
            "_view_module_version": "1.5.0",
            "_view_name": "HBoxView",
            "box_style": "",
            "children": [
              "IPY_MODEL_34d1d0e64324430ba7b7542a6ecff1a5",
              "IPY_MODEL_a191d78b6c584d61a213450d0e8233c2",
              "IPY_MODEL_6f1b2b25cb28428789f3dcb9bb4e69d5"
            ],
            "layout": "IPY_MODEL_98503acbe25c4505aef06f0415d772c6"
          }
        },
        "34d1d0e64324430ba7b7542a6ecff1a5": {
          "model_module": "@jupyter-widgets/controls",
          "model_name": "HTMLModel",
          "model_module_version": "1.5.0",
          "state": {
            "_dom_classes": [],
            "_model_module": "@jupyter-widgets/controls",
            "_model_module_version": "1.5.0",
            "_model_name": "HTMLModel",
            "_view_count": null,
            "_view_module": "@jupyter-widgets/controls",
            "_view_module_version": "1.5.0",
            "_view_name": "HTMLView",
            "description": "",
            "description_tooltip": null,
            "layout": "IPY_MODEL_5d79456bf9634e02bae37ff3249ba597",
            "placeholder": "​",
            "style": "IPY_MODEL_c34616f55550429fbc19f2bcc6eeec0b",
            "value": "pytorch_model.bin: 100%"
          }
        },
        "a191d78b6c584d61a213450d0e8233c2": {
          "model_module": "@jupyter-widgets/controls",
          "model_name": "FloatProgressModel",
          "model_module_version": "1.5.0",
          "state": {
            "_dom_classes": [],
            "_model_module": "@jupyter-widgets/controls",
            "_model_module_version": "1.5.0",
            "_model_name": "FloatProgressModel",
            "_view_count": null,
            "_view_module": "@jupyter-widgets/controls",
            "_view_module_version": "1.5.0",
            "_view_name": "ProgressView",
            "bar_style": "success",
            "description": "",
            "description_tooltip": null,
            "layout": "IPY_MODEL_c364c8c14bb4443b9ddd318dbeab65ff",
            "max": 2275327883,
            "min": 0,
            "orientation": "horizontal",
            "style": "IPY_MODEL_a134968dad5b41ecb8f7b494e47d893d",
            "value": 2275327883
          }
        },
        "6f1b2b25cb28428789f3dcb9bb4e69d5": {
          "model_module": "@jupyter-widgets/controls",
          "model_name": "HTMLModel",
          "model_module_version": "1.5.0",
          "state": {
            "_dom_classes": [],
            "_model_module": "@jupyter-widgets/controls",
            "_model_module_version": "1.5.0",
            "_model_name": "HTMLModel",
            "_view_count": null,
            "_view_module": "@jupyter-widgets/controls",
            "_view_module_version": "1.5.0",
            "_view_name": "HTMLView",
            "description": "",
            "description_tooltip": null,
            "layout": "IPY_MODEL_a8915a1fbc214a8493ac8657089ceb77",
            "placeholder": "​",
            "style": "IPY_MODEL_0cdc43977120467081eb876ed4980fb1",
            "value": " 2.28G/2.28G [00:26&lt;00:00, 24.7MB/s]"
          }
        },
        "98503acbe25c4505aef06f0415d772c6": {
          "model_module": "@jupyter-widgets/base",
          "model_name": "LayoutModel",
          "model_module_version": "1.2.0",
          "state": {
            "_model_module": "@jupyter-widgets/base",
            "_model_module_version": "1.2.0",
            "_model_name": "LayoutModel",
            "_view_count": null,
            "_view_module": "@jupyter-widgets/base",
            "_view_module_version": "1.2.0",
            "_view_name": "LayoutView",
            "align_content": null,
            "align_items": null,
            "align_self": null,
            "border": null,
            "bottom": null,
            "display": null,
            "flex": null,
            "flex_flow": null,
            "grid_area": null,
            "grid_auto_columns": null,
            "grid_auto_flow": null,
            "grid_auto_rows": null,
            "grid_column": null,
            "grid_gap": null,
            "grid_row": null,
            "grid_template_areas": null,
            "grid_template_columns": null,
            "grid_template_rows": null,
            "height": null,
            "justify_content": null,
            "justify_items": null,
            "left": null,
            "margin": null,
            "max_height": null,
            "max_width": null,
            "min_height": null,
            "min_width": null,
            "object_fit": null,
            "object_position": null,
            "order": null,
            "overflow": null,
            "overflow_x": null,
            "overflow_y": null,
            "padding": null,
            "right": null,
            "top": null,
            "visibility": null,
            "width": null
          }
        },
        "5d79456bf9634e02bae37ff3249ba597": {
          "model_module": "@jupyter-widgets/base",
          "model_name": "LayoutModel",
          "model_module_version": "1.2.0",
          "state": {
            "_model_module": "@jupyter-widgets/base",
            "_model_module_version": "1.2.0",
            "_model_name": "LayoutModel",
            "_view_count": null,
            "_view_module": "@jupyter-widgets/base",
            "_view_module_version": "1.2.0",
            "_view_name": "LayoutView",
            "align_content": null,
            "align_items": null,
            "align_self": null,
            "border": null,
            "bottom": null,
            "display": null,
            "flex": null,
            "flex_flow": null,
            "grid_area": null,
            "grid_auto_columns": null,
            "grid_auto_flow": null,
            "grid_auto_rows": null,
            "grid_column": null,
            "grid_gap": null,
            "grid_row": null,
            "grid_template_areas": null,
            "grid_template_columns": null,
            "grid_template_rows": null,
            "height": null,
            "justify_content": null,
            "justify_items": null,
            "left": null,
            "margin": null,
            "max_height": null,
            "max_width": null,
            "min_height": null,
            "min_width": null,
            "object_fit": null,
            "object_position": null,
            "order": null,
            "overflow": null,
            "overflow_x": null,
            "overflow_y": null,
            "padding": null,
            "right": null,
            "top": null,
            "visibility": null,
            "width": null
          }
        },
        "c34616f55550429fbc19f2bcc6eeec0b": {
          "model_module": "@jupyter-widgets/controls",
          "model_name": "DescriptionStyleModel",
          "model_module_version": "1.5.0",
          "state": {
            "_model_module": "@jupyter-widgets/controls",
            "_model_module_version": "1.5.0",
            "_model_name": "DescriptionStyleModel",
            "_view_count": null,
            "_view_module": "@jupyter-widgets/base",
            "_view_module_version": "1.2.0",
            "_view_name": "StyleView",
            "description_width": ""
          }
        },
        "c364c8c14bb4443b9ddd318dbeab65ff": {
          "model_module": "@jupyter-widgets/base",
          "model_name": "LayoutModel",
          "model_module_version": "1.2.0",
          "state": {
            "_model_module": "@jupyter-widgets/base",
            "_model_module_version": "1.2.0",
            "_model_name": "LayoutModel",
            "_view_count": null,
            "_view_module": "@jupyter-widgets/base",
            "_view_module_version": "1.2.0",
            "_view_name": "LayoutView",
            "align_content": null,
            "align_items": null,
            "align_self": null,
            "border": null,
            "bottom": null,
            "display": null,
            "flex": null,
            "flex_flow": null,
            "grid_area": null,
            "grid_auto_columns": null,
            "grid_auto_flow": null,
            "grid_auto_rows": null,
            "grid_column": null,
            "grid_gap": null,
            "grid_row": null,
            "grid_template_areas": null,
            "grid_template_columns": null,
            "grid_template_rows": null,
            "height": null,
            "justify_content": null,
            "justify_items": null,
            "left": null,
            "margin": null,
            "max_height": null,
            "max_width": null,
            "min_height": null,
            "min_width": null,
            "object_fit": null,
            "object_position": null,
            "order": null,
            "overflow": null,
            "overflow_x": null,
            "overflow_y": null,
            "padding": null,
            "right": null,
            "top": null,
            "visibility": null,
            "width": null
          }
        },
        "a134968dad5b41ecb8f7b494e47d893d": {
          "model_module": "@jupyter-widgets/controls",
          "model_name": "ProgressStyleModel",
          "model_module_version": "1.5.0",
          "state": {
            "_model_module": "@jupyter-widgets/controls",
            "_model_module_version": "1.5.0",
            "_model_name": "ProgressStyleModel",
            "_view_count": null,
            "_view_module": "@jupyter-widgets/base",
            "_view_module_version": "1.2.0",
            "_view_name": "StyleView",
            "bar_color": null,
            "description_width": ""
          }
        },
        "a8915a1fbc214a8493ac8657089ceb77": {
          "model_module": "@jupyter-widgets/base",
          "model_name": "LayoutModel",
          "model_module_version": "1.2.0",
          "state": {
            "_model_module": "@jupyter-widgets/base",
            "_model_module_version": "1.2.0",
            "_model_name": "LayoutModel",
            "_view_count": null,
            "_view_module": "@jupyter-widgets/base",
            "_view_module_version": "1.2.0",
            "_view_name": "LayoutView",
            "align_content": null,
            "align_items": null,
            "align_self": null,
            "border": null,
            "bottom": null,
            "display": null,
            "flex": null,
            "flex_flow": null,
            "grid_area": null,
            "grid_auto_columns": null,
            "grid_auto_flow": null,
            "grid_auto_rows": null,
            "grid_column": null,
            "grid_gap": null,
            "grid_row": null,
            "grid_template_areas": null,
            "grid_template_columns": null,
            "grid_template_rows": null,
            "height": null,
            "justify_content": null,
            "justify_items": null,
            "left": null,
            "margin": null,
            "max_height": null,
            "max_width": null,
            "min_height": null,
            "min_width": null,
            "object_fit": null,
            "object_position": null,
            "order": null,
            "overflow": null,
            "overflow_x": null,
            "overflow_y": null,
            "padding": null,
            "right": null,
            "top": null,
            "visibility": null,
            "width": null
          }
        },
        "0cdc43977120467081eb876ed4980fb1": {
          "model_module": "@jupyter-widgets/controls",
          "model_name": "DescriptionStyleModel",
          "model_module_version": "1.5.0",
          "state": {
            "_model_module": "@jupyter-widgets/controls",
            "_model_module_version": "1.5.0",
            "_model_name": "DescriptionStyleModel",
            "_view_count": null,
            "_view_module": "@jupyter-widgets/base",
            "_view_module_version": "1.2.0",
            "_view_name": "StyleView",
            "description_width": ""
          }
        },
        "ee1204ce7ba648fdad7334b2f28176a9": {
          "model_module": "@jupyter-widgets/controls",
          "model_name": "HBoxModel",
          "model_module_version": "1.5.0",
          "state": {
            "_dom_classes": [],
            "_model_module": "@jupyter-widgets/controls",
            "_model_module_version": "1.5.0",
            "_model_name": "HBoxModel",
            "_view_count": null,
            "_view_module": "@jupyter-widgets/controls",
            "_view_module_version": "1.5.0",
            "_view_name": "HBoxView",
            "box_style": "",
            "children": [
              "IPY_MODEL_e52cec7bcbba4c159fc83788d5d1ef3d",
              "IPY_MODEL_157035b67a194fefb2de8f07a546953d",
              "IPY_MODEL_58c2434c8cc549cdb05564c674da986e"
            ],
            "layout": "IPY_MODEL_82facc790c0e43219c162bd1dc10bfc7"
          }
        },
        "e52cec7bcbba4c159fc83788d5d1ef3d": {
          "model_module": "@jupyter-widgets/controls",
          "model_name": "HTMLModel",
          "model_module_version": "1.5.0",
          "state": {
            "_dom_classes": [],
            "_model_module": "@jupyter-widgets/controls",
            "_model_module_version": "1.5.0",
            "_model_name": "HTMLModel",
            "_view_count": null,
            "_view_module": "@jupyter-widgets/controls",
            "_view_module_version": "1.5.0",
            "_view_name": "HTMLView",
            "description": "",
            "description_tooltip": null,
            "layout": "IPY_MODEL_12388fb7c4d2479ab125b833ef031141",
            "placeholder": "​",
            "style": "IPY_MODEL_e55138145085403fa56f955f85e82e8b",
            "value": "model.safetensors: 100%"
          }
        },
        "157035b67a194fefb2de8f07a546953d": {
          "model_module": "@jupyter-widgets/controls",
          "model_name": "FloatProgressModel",
          "model_module_version": "1.5.0",
          "state": {
            "_dom_classes": [],
            "_model_module": "@jupyter-widgets/controls",
            "_model_module_version": "1.5.0",
            "_model_name": "FloatProgressModel",
            "_view_count": null,
            "_view_module": "@jupyter-widgets/controls",
            "_view_module_version": "1.5.0",
            "_view_name": "ProgressView",
            "bar_style": "success",
            "description": "",
            "description_tooltip": null,
            "layout": "IPY_MODEL_7698f0c7e40a466897767b2d57278f8f",
            "max": 2275264008,
            "min": 0,
            "orientation": "horizontal",
            "style": "IPY_MODEL_ae2ab43c938848eea11c63357b3180bf",
            "value": 2275264008
          }
        },
        "58c2434c8cc549cdb05564c674da986e": {
          "model_module": "@jupyter-widgets/controls",
          "model_name": "HTMLModel",
          "model_module_version": "1.5.0",
          "state": {
            "_dom_classes": [],
            "_model_module": "@jupyter-widgets/controls",
            "_model_module_version": "1.5.0",
            "_model_name": "HTMLModel",
            "_view_count": null,
            "_view_module": "@jupyter-widgets/controls",
            "_view_module_version": "1.5.0",
            "_view_name": "HTMLView",
            "description": "",
            "description_tooltip": null,
            "layout": "IPY_MODEL_e2ac9bd18b4c4c3d850659ad5d8845ab",
            "placeholder": "​",
            "style": "IPY_MODEL_b5972b861db14b93962122357714b9c3",
            "value": " 2.28G/2.28G [00:36&lt;00:00, 127MB/s]"
          }
        },
        "82facc790c0e43219c162bd1dc10bfc7": {
          "model_module": "@jupyter-widgets/base",
          "model_name": "LayoutModel",
          "model_module_version": "1.2.0",
          "state": {
            "_model_module": "@jupyter-widgets/base",
            "_model_module_version": "1.2.0",
            "_model_name": "LayoutModel",
            "_view_count": null,
            "_view_module": "@jupyter-widgets/base",
            "_view_module_version": "1.2.0",
            "_view_name": "LayoutView",
            "align_content": null,
            "align_items": null,
            "align_self": null,
            "border": null,
            "bottom": null,
            "display": null,
            "flex": null,
            "flex_flow": null,
            "grid_area": null,
            "grid_auto_columns": null,
            "grid_auto_flow": null,
            "grid_auto_rows": null,
            "grid_column": null,
            "grid_gap": null,
            "grid_row": null,
            "grid_template_areas": null,
            "grid_template_columns": null,
            "grid_template_rows": null,
            "height": null,
            "justify_content": null,
            "justify_items": null,
            "left": null,
            "margin": null,
            "max_height": null,
            "max_width": null,
            "min_height": null,
            "min_width": null,
            "object_fit": null,
            "object_position": null,
            "order": null,
            "overflow": null,
            "overflow_x": null,
            "overflow_y": null,
            "padding": null,
            "right": null,
            "top": null,
            "visibility": null,
            "width": null
          }
        },
        "12388fb7c4d2479ab125b833ef031141": {
          "model_module": "@jupyter-widgets/base",
          "model_name": "LayoutModel",
          "model_module_version": "1.2.0",
          "state": {
            "_model_module": "@jupyter-widgets/base",
            "_model_module_version": "1.2.0",
            "_model_name": "LayoutModel",
            "_view_count": null,
            "_view_module": "@jupyter-widgets/base",
            "_view_module_version": "1.2.0",
            "_view_name": "LayoutView",
            "align_content": null,
            "align_items": null,
            "align_self": null,
            "border": null,
            "bottom": null,
            "display": null,
            "flex": null,
            "flex_flow": null,
            "grid_area": null,
            "grid_auto_columns": null,
            "grid_auto_flow": null,
            "grid_auto_rows": null,
            "grid_column": null,
            "grid_gap": null,
            "grid_row": null,
            "grid_template_areas": null,
            "grid_template_columns": null,
            "grid_template_rows": null,
            "height": null,
            "justify_content": null,
            "justify_items": null,
            "left": null,
            "margin": null,
            "max_height": null,
            "max_width": null,
            "min_height": null,
            "min_width": null,
            "object_fit": null,
            "object_position": null,
            "order": null,
            "overflow": null,
            "overflow_x": null,
            "overflow_y": null,
            "padding": null,
            "right": null,
            "top": null,
            "visibility": null,
            "width": null
          }
        },
        "e55138145085403fa56f955f85e82e8b": {
          "model_module": "@jupyter-widgets/controls",
          "model_name": "DescriptionStyleModel",
          "model_module_version": "1.5.0",
          "state": {
            "_model_module": "@jupyter-widgets/controls",
            "_model_module_version": "1.5.0",
            "_model_name": "DescriptionStyleModel",
            "_view_count": null,
            "_view_module": "@jupyter-widgets/base",
            "_view_module_version": "1.2.0",
            "_view_name": "StyleView",
            "description_width": ""
          }
        },
        "7698f0c7e40a466897767b2d57278f8f": {
          "model_module": "@jupyter-widgets/base",
          "model_name": "LayoutModel",
          "model_module_version": "1.2.0",
          "state": {
            "_model_module": "@jupyter-widgets/base",
            "_model_module_version": "1.2.0",
            "_model_name": "LayoutModel",
            "_view_count": null,
            "_view_module": "@jupyter-widgets/base",
            "_view_module_version": "1.2.0",
            "_view_name": "LayoutView",
            "align_content": null,
            "align_items": null,
            "align_self": null,
            "border": null,
            "bottom": null,
            "display": null,
            "flex": null,
            "flex_flow": null,
            "grid_area": null,
            "grid_auto_columns": null,
            "grid_auto_flow": null,
            "grid_auto_rows": null,
            "grid_column": null,
            "grid_gap": null,
            "grid_row": null,
            "grid_template_areas": null,
            "grid_template_columns": null,
            "grid_template_rows": null,
            "height": null,
            "justify_content": null,
            "justify_items": null,
            "left": null,
            "margin": null,
            "max_height": null,
            "max_width": null,
            "min_height": null,
            "min_width": null,
            "object_fit": null,
            "object_position": null,
            "order": null,
            "overflow": null,
            "overflow_x": null,
            "overflow_y": null,
            "padding": null,
            "right": null,
            "top": null,
            "visibility": null,
            "width": null
          }
        },
        "ae2ab43c938848eea11c63357b3180bf": {
          "model_module": "@jupyter-widgets/controls",
          "model_name": "ProgressStyleModel",
          "model_module_version": "1.5.0",
          "state": {
            "_model_module": "@jupyter-widgets/controls",
            "_model_module_version": "1.5.0",
            "_model_name": "ProgressStyleModel",
            "_view_count": null,
            "_view_module": "@jupyter-widgets/base",
            "_view_module_version": "1.2.0",
            "_view_name": "StyleView",
            "bar_color": null,
            "description_width": ""
          }
        },
        "e2ac9bd18b4c4c3d850659ad5d8845ab": {
          "model_module": "@jupyter-widgets/base",
          "model_name": "LayoutModel",
          "model_module_version": "1.2.0",
          "state": {
            "_model_module": "@jupyter-widgets/base",
            "_model_module_version": "1.2.0",
            "_model_name": "LayoutModel",
            "_view_count": null,
            "_view_module": "@jupyter-widgets/base",
            "_view_module_version": "1.2.0",
            "_view_name": "LayoutView",
            "align_content": null,
            "align_items": null,
            "align_self": null,
            "border": null,
            "bottom": null,
            "display": null,
            "flex": null,
            "flex_flow": null,
            "grid_area": null,
            "grid_auto_columns": null,
            "grid_auto_flow": null,
            "grid_auto_rows": null,
            "grid_column": null,
            "grid_gap": null,
            "grid_row": null,
            "grid_template_areas": null,
            "grid_template_columns": null,
            "grid_template_rows": null,
            "height": null,
            "justify_content": null,
            "justify_items": null,
            "left": null,
            "margin": null,
            "max_height": null,
            "max_width": null,
            "min_height": null,
            "min_width": null,
            "object_fit": null,
            "object_position": null,
            "order": null,
            "overflow": null,
            "overflow_x": null,
            "overflow_y": null,
            "padding": null,
            "right": null,
            "top": null,
            "visibility": null,
            "width": null
          }
        },
        "b5972b861db14b93962122357714b9c3": {
          "model_module": "@jupyter-widgets/controls",
          "model_name": "DescriptionStyleModel",
          "model_module_version": "1.5.0",
          "state": {
            "_model_module": "@jupyter-widgets/controls",
            "_model_module_version": "1.5.0",
            "_model_name": "DescriptionStyleModel",
            "_view_count": null,
            "_view_module": "@jupyter-widgets/base",
            "_view_module_version": "1.2.0",
            "_view_name": "StyleView",
            "description_width": ""
          }
        },
        "dfa084a048574182a5a0893a45ed5b04": {
          "model_module": "@jupyter-widgets/controls",
          "model_name": "HBoxModel",
          "model_module_version": "1.5.0",
          "state": {
            "_dom_classes": [],
            "_model_module": "@jupyter-widgets/controls",
            "_model_module_version": "1.5.0",
            "_model_name": "HBoxModel",
            "_view_count": null,
            "_view_module": "@jupyter-widgets/controls",
            "_view_module_version": "1.5.0",
            "_view_name": "HBoxView",
            "box_style": "",
            "children": [
              "IPY_MODEL_0c03e67959884a2abd710a4c8f371bdd",
              "IPY_MODEL_0ccb14de302844259228da761bd6921c",
              "IPY_MODEL_b7a3411b75dc4fd2a4889c2e64326696"
            ],
            "layout": "IPY_MODEL_4016add14c924fdd9487f43d99c765f5"
          }
        },
        "0c03e67959884a2abd710a4c8f371bdd": {
          "model_module": "@jupyter-widgets/controls",
          "model_name": "HTMLModel",
          "model_module_version": "1.5.0",
          "state": {
            "_dom_classes": [],
            "_model_module": "@jupyter-widgets/controls",
            "_model_module_version": "1.5.0",
            "_model_name": "HTMLModel",
            "_view_count": null,
            "_view_module": "@jupyter-widgets/controls",
            "_view_module_version": "1.5.0",
            "_view_name": "HTMLView",
            "description": "",
            "description_tooltip": null,
            "layout": "IPY_MODEL_8f661fc0ed8541b58614220d6bce04e9",
            "placeholder": "​",
            "style": "IPY_MODEL_ef842fc472f24d29979f76982902a1b2",
            "value": "generation_config.json: 100%"
          }
        },
        "0ccb14de302844259228da761bd6921c": {
          "model_module": "@jupyter-widgets/controls",
          "model_name": "FloatProgressModel",
          "model_module_version": "1.5.0",
          "state": {
            "_dom_classes": [],
            "_model_module": "@jupyter-widgets/controls",
            "_model_module_version": "1.5.0",
            "_model_name": "FloatProgressModel",
            "_view_count": null,
            "_view_module": "@jupyter-widgets/controls",
            "_view_module_version": "1.5.0",
            "_view_name": "ProgressView",
            "bar_style": "success",
            "description": "",
            "description_tooltip": null,
            "layout": "IPY_MODEL_f7d720e7f5df4e0cac4b11770e5b7d36",
            "max": 280,
            "min": 0,
            "orientation": "horizontal",
            "style": "IPY_MODEL_dd7f69470c9a458aafec3b5531db8014",
            "value": 280
          }
        },
        "b7a3411b75dc4fd2a4889c2e64326696": {
          "model_module": "@jupyter-widgets/controls",
          "model_name": "HTMLModel",
          "model_module_version": "1.5.0",
          "state": {
            "_dom_classes": [],
            "_model_module": "@jupyter-widgets/controls",
            "_model_module_version": "1.5.0",
            "_model_name": "HTMLModel",
            "_view_count": null,
            "_view_module": "@jupyter-widgets/controls",
            "_view_module_version": "1.5.0",
            "_view_name": "HTMLView",
            "description": "",
            "description_tooltip": null,
            "layout": "IPY_MODEL_b7f7a9a61deb4e429c2a8628eecda3c2",
            "placeholder": "​",
            "style": "IPY_MODEL_37d930c39cd5466f9c66a529d13ef2d9",
            "value": " 280/280 [00:00&lt;00:00, 11.2kB/s]"
          }
        },
        "4016add14c924fdd9487f43d99c765f5": {
          "model_module": "@jupyter-widgets/base",
          "model_name": "LayoutModel",
          "model_module_version": "1.2.0",
          "state": {
            "_model_module": "@jupyter-widgets/base",
            "_model_module_version": "1.2.0",
            "_model_name": "LayoutModel",
            "_view_count": null,
            "_view_module": "@jupyter-widgets/base",
            "_view_module_version": "1.2.0",
            "_view_name": "LayoutView",
            "align_content": null,
            "align_items": null,
            "align_self": null,
            "border": null,
            "bottom": null,
            "display": null,
            "flex": null,
            "flex_flow": null,
            "grid_area": null,
            "grid_auto_columns": null,
            "grid_auto_flow": null,
            "grid_auto_rows": null,
            "grid_column": null,
            "grid_gap": null,
            "grid_row": null,
            "grid_template_areas": null,
            "grid_template_columns": null,
            "grid_template_rows": null,
            "height": null,
            "justify_content": null,
            "justify_items": null,
            "left": null,
            "margin": null,
            "max_height": null,
            "max_width": null,
            "min_height": null,
            "min_width": null,
            "object_fit": null,
            "object_position": null,
            "order": null,
            "overflow": null,
            "overflow_x": null,
            "overflow_y": null,
            "padding": null,
            "right": null,
            "top": null,
            "visibility": null,
            "width": null
          }
        },
        "8f661fc0ed8541b58614220d6bce04e9": {
          "model_module": "@jupyter-widgets/base",
          "model_name": "LayoutModel",
          "model_module_version": "1.2.0",
          "state": {
            "_model_module": "@jupyter-widgets/base",
            "_model_module_version": "1.2.0",
            "_model_name": "LayoutModel",
            "_view_count": null,
            "_view_module": "@jupyter-widgets/base",
            "_view_module_version": "1.2.0",
            "_view_name": "LayoutView",
            "align_content": null,
            "align_items": null,
            "align_self": null,
            "border": null,
            "bottom": null,
            "display": null,
            "flex": null,
            "flex_flow": null,
            "grid_area": null,
            "grid_auto_columns": null,
            "grid_auto_flow": null,
            "grid_auto_rows": null,
            "grid_column": null,
            "grid_gap": null,
            "grid_row": null,
            "grid_template_areas": null,
            "grid_template_columns": null,
            "grid_template_rows": null,
            "height": null,
            "justify_content": null,
            "justify_items": null,
            "left": null,
            "margin": null,
            "max_height": null,
            "max_width": null,
            "min_height": null,
            "min_width": null,
            "object_fit": null,
            "object_position": null,
            "order": null,
            "overflow": null,
            "overflow_x": null,
            "overflow_y": null,
            "padding": null,
            "right": null,
            "top": null,
            "visibility": null,
            "width": null
          }
        },
        "ef842fc472f24d29979f76982902a1b2": {
          "model_module": "@jupyter-widgets/controls",
          "model_name": "DescriptionStyleModel",
          "model_module_version": "1.5.0",
          "state": {
            "_model_module": "@jupyter-widgets/controls",
            "_model_module_version": "1.5.0",
            "_model_name": "DescriptionStyleModel",
            "_view_count": null,
            "_view_module": "@jupyter-widgets/base",
            "_view_module_version": "1.2.0",
            "_view_name": "StyleView",
            "description_width": ""
          }
        },
        "f7d720e7f5df4e0cac4b11770e5b7d36": {
          "model_module": "@jupyter-widgets/base",
          "model_name": "LayoutModel",
          "model_module_version": "1.2.0",
          "state": {
            "_model_module": "@jupyter-widgets/base",
            "_model_module_version": "1.2.0",
            "_model_name": "LayoutModel",
            "_view_count": null,
            "_view_module": "@jupyter-widgets/base",
            "_view_module_version": "1.2.0",
            "_view_name": "LayoutView",
            "align_content": null,
            "align_items": null,
            "align_self": null,
            "border": null,
            "bottom": null,
            "display": null,
            "flex": null,
            "flex_flow": null,
            "grid_area": null,
            "grid_auto_columns": null,
            "grid_auto_flow": null,
            "grid_auto_rows": null,
            "grid_column": null,
            "grid_gap": null,
            "grid_row": null,
            "grid_template_areas": null,
            "grid_template_columns": null,
            "grid_template_rows": null,
            "height": null,
            "justify_content": null,
            "justify_items": null,
            "left": null,
            "margin": null,
            "max_height": null,
            "max_width": null,
            "min_height": null,
            "min_width": null,
            "object_fit": null,
            "object_position": null,
            "order": null,
            "overflow": null,
            "overflow_x": null,
            "overflow_y": null,
            "padding": null,
            "right": null,
            "top": null,
            "visibility": null,
            "width": null
          }
        },
        "dd7f69470c9a458aafec3b5531db8014": {
          "model_module": "@jupyter-widgets/controls",
          "model_name": "ProgressStyleModel",
          "model_module_version": "1.5.0",
          "state": {
            "_model_module": "@jupyter-widgets/controls",
            "_model_module_version": "1.5.0",
            "_model_name": "ProgressStyleModel",
            "_view_count": null,
            "_view_module": "@jupyter-widgets/base",
            "_view_module_version": "1.2.0",
            "_view_name": "StyleView",
            "bar_color": null,
            "description_width": ""
          }
        },
        "b7f7a9a61deb4e429c2a8628eecda3c2": {
          "model_module": "@jupyter-widgets/base",
          "model_name": "LayoutModel",
          "model_module_version": "1.2.0",
          "state": {
            "_model_module": "@jupyter-widgets/base",
            "_model_module_version": "1.2.0",
            "_model_name": "LayoutModel",
            "_view_count": null,
            "_view_module": "@jupyter-widgets/base",
            "_view_module_version": "1.2.0",
            "_view_name": "LayoutView",
            "align_content": null,
            "align_items": null,
            "align_self": null,
            "border": null,
            "bottom": null,
            "display": null,
            "flex": null,
            "flex_flow": null,
            "grid_area": null,
            "grid_auto_columns": null,
            "grid_auto_flow": null,
            "grid_auto_rows": null,
            "grid_column": null,
            "grid_gap": null,
            "grid_row": null,
            "grid_template_areas": null,
            "grid_template_columns": null,
            "grid_template_rows": null,
            "height": null,
            "justify_content": null,
            "justify_items": null,
            "left": null,
            "margin": null,
            "max_height": null,
            "max_width": null,
            "min_height": null,
            "min_width": null,
            "object_fit": null,
            "object_position": null,
            "order": null,
            "overflow": null,
            "overflow_x": null,
            "overflow_y": null,
            "padding": null,
            "right": null,
            "top": null,
            "visibility": null,
            "width": null
          }
        },
        "37d930c39cd5466f9c66a529d13ef2d9": {
          "model_module": "@jupyter-widgets/controls",
          "model_name": "DescriptionStyleModel",
          "model_module_version": "1.5.0",
          "state": {
            "_model_module": "@jupyter-widgets/controls",
            "_model_module_version": "1.5.0",
            "_model_name": "DescriptionStyleModel",
            "_view_count": null,
            "_view_module": "@jupyter-widgets/base",
            "_view_module_version": "1.2.0",
            "_view_name": "StyleView",
            "description_width": ""
          }
        },
        "af771d26dfc343bdb9762288760a7c63": {
          "model_module": "@jupyter-widgets/controls",
          "model_name": "HBoxModel",
          "model_module_version": "1.5.0",
          "state": {
            "_dom_classes": [],
            "_model_module": "@jupyter-widgets/controls",
            "_model_module_version": "1.5.0",
            "_model_name": "HBoxModel",
            "_view_count": null,
            "_view_module": "@jupyter-widgets/controls",
            "_view_module_version": "1.5.0",
            "_view_name": "HBoxView",
            "box_style": "",
            "children": [
              "IPY_MODEL_fd075f2746924ccc88df7f971db756b2",
              "IPY_MODEL_0acc0404a9174c8a9b63051b0010a488",
              "IPY_MODEL_19e3105829054e28ab73d8fcfb09ce65"
            ],
            "layout": "IPY_MODEL_9b45605f085d432290bb996b91e7f962"
          }
        },
        "fd075f2746924ccc88df7f971db756b2": {
          "model_module": "@jupyter-widgets/controls",
          "model_name": "HTMLModel",
          "model_module_version": "1.5.0",
          "state": {
            "_dom_classes": [],
            "_model_module": "@jupyter-widgets/controls",
            "_model_module_version": "1.5.0",
            "_model_name": "HTMLModel",
            "_view_count": null,
            "_view_module": "@jupyter-widgets/controls",
            "_view_module_version": "1.5.0",
            "_view_name": "HTMLView",
            "description": "",
            "description_tooltip": null,
            "layout": "IPY_MODEL_1be722349eda4386b83730a410574212",
            "placeholder": "​",
            "style": "IPY_MODEL_a2dd5c1eb3a64f75ab1eb538f673f4ca",
            "value": "tokenizer_config.json: 100%"
          }
        },
        "0acc0404a9174c8a9b63051b0010a488": {
          "model_module": "@jupyter-widgets/controls",
          "model_name": "FloatProgressModel",
          "model_module_version": "1.5.0",
          "state": {
            "_dom_classes": [],
            "_model_module": "@jupyter-widgets/controls",
            "_model_module_version": "1.5.0",
            "_model_name": "FloatProgressModel",
            "_view_count": null,
            "_view_module": "@jupyter-widgets/controls",
            "_view_module_version": "1.5.0",
            "_view_name": "ProgressView",
            "bar_style": "success",
            "description": "",
            "description_tooltip": null,
            "layout": "IPY_MODEL_147664e5015040ffa6f879d181720fb4",
            "max": 88,
            "min": 0,
            "orientation": "horizontal",
            "style": "IPY_MODEL_0ca9ceea3d334593ae147d4afe7603cd",
            "value": 88
          }
        },
        "19e3105829054e28ab73d8fcfb09ce65": {
          "model_module": "@jupyter-widgets/controls",
          "model_name": "HTMLModel",
          "model_module_version": "1.5.0",
          "state": {
            "_dom_classes": [],
            "_model_module": "@jupyter-widgets/controls",
            "_model_module_version": "1.5.0",
            "_model_name": "HTMLModel",
            "_view_count": null,
            "_view_module": "@jupyter-widgets/controls",
            "_view_module_version": "1.5.0",
            "_view_name": "HTMLView",
            "description": "",
            "description_tooltip": null,
            "layout": "IPY_MODEL_3328435b3ecc49ec82f17135d9a01ac5",
            "placeholder": "​",
            "style": "IPY_MODEL_17406bdf72cb46fabdd644afa72ebd3d",
            "value": " 88.0/88.0 [00:00&lt;00:00, 4.39kB/s]"
          }
        },
        "9b45605f085d432290bb996b91e7f962": {
          "model_module": "@jupyter-widgets/base",
          "model_name": "LayoutModel",
          "model_module_version": "1.2.0",
          "state": {
            "_model_module": "@jupyter-widgets/base",
            "_model_module_version": "1.2.0",
            "_model_name": "LayoutModel",
            "_view_count": null,
            "_view_module": "@jupyter-widgets/base",
            "_view_module_version": "1.2.0",
            "_view_name": "LayoutView",
            "align_content": null,
            "align_items": null,
            "align_self": null,
            "border": null,
            "bottom": null,
            "display": null,
            "flex": null,
            "flex_flow": null,
            "grid_area": null,
            "grid_auto_columns": null,
            "grid_auto_flow": null,
            "grid_auto_rows": null,
            "grid_column": null,
            "grid_gap": null,
            "grid_row": null,
            "grid_template_areas": null,
            "grid_template_columns": null,
            "grid_template_rows": null,
            "height": null,
            "justify_content": null,
            "justify_items": null,
            "left": null,
            "margin": null,
            "max_height": null,
            "max_width": null,
            "min_height": null,
            "min_width": null,
            "object_fit": null,
            "object_position": null,
            "order": null,
            "overflow": null,
            "overflow_x": null,
            "overflow_y": null,
            "padding": null,
            "right": null,
            "top": null,
            "visibility": null,
            "width": null
          }
        },
        "1be722349eda4386b83730a410574212": {
          "model_module": "@jupyter-widgets/base",
          "model_name": "LayoutModel",
          "model_module_version": "1.2.0",
          "state": {
            "_model_module": "@jupyter-widgets/base",
            "_model_module_version": "1.2.0",
            "_model_name": "LayoutModel",
            "_view_count": null,
            "_view_module": "@jupyter-widgets/base",
            "_view_module_version": "1.2.0",
            "_view_name": "LayoutView",
            "align_content": null,
            "align_items": null,
            "align_self": null,
            "border": null,
            "bottom": null,
            "display": null,
            "flex": null,
            "flex_flow": null,
            "grid_area": null,
            "grid_auto_columns": null,
            "grid_auto_flow": null,
            "grid_auto_rows": null,
            "grid_column": null,
            "grid_gap": null,
            "grid_row": null,
            "grid_template_areas": null,
            "grid_template_columns": null,
            "grid_template_rows": null,
            "height": null,
            "justify_content": null,
            "justify_items": null,
            "left": null,
            "margin": null,
            "max_height": null,
            "max_width": null,
            "min_height": null,
            "min_width": null,
            "object_fit": null,
            "object_position": null,
            "order": null,
            "overflow": null,
            "overflow_x": null,
            "overflow_y": null,
            "padding": null,
            "right": null,
            "top": null,
            "visibility": null,
            "width": null
          }
        },
        "a2dd5c1eb3a64f75ab1eb538f673f4ca": {
          "model_module": "@jupyter-widgets/controls",
          "model_name": "DescriptionStyleModel",
          "model_module_version": "1.5.0",
          "state": {
            "_model_module": "@jupyter-widgets/controls",
            "_model_module_version": "1.5.0",
            "_model_name": "DescriptionStyleModel",
            "_view_count": null,
            "_view_module": "@jupyter-widgets/base",
            "_view_module_version": "1.2.0",
            "_view_name": "StyleView",
            "description_width": ""
          }
        },
        "147664e5015040ffa6f879d181720fb4": {
          "model_module": "@jupyter-widgets/base",
          "model_name": "LayoutModel",
          "model_module_version": "1.2.0",
          "state": {
            "_model_module": "@jupyter-widgets/base",
            "_model_module_version": "1.2.0",
            "_model_name": "LayoutModel",
            "_view_count": null,
            "_view_module": "@jupyter-widgets/base",
            "_view_module_version": "1.2.0",
            "_view_name": "LayoutView",
            "align_content": null,
            "align_items": null,
            "align_self": null,
            "border": null,
            "bottom": null,
            "display": null,
            "flex": null,
            "flex_flow": null,
            "grid_area": null,
            "grid_auto_columns": null,
            "grid_auto_flow": null,
            "grid_auto_rows": null,
            "grid_column": null,
            "grid_gap": null,
            "grid_row": null,
            "grid_template_areas": null,
            "grid_template_columns": null,
            "grid_template_rows": null,
            "height": null,
            "justify_content": null,
            "justify_items": null,
            "left": null,
            "margin": null,
            "max_height": null,
            "max_width": null,
            "min_height": null,
            "min_width": null,
            "object_fit": null,
            "object_position": null,
            "order": null,
            "overflow": null,
            "overflow_x": null,
            "overflow_y": null,
            "padding": null,
            "right": null,
            "top": null,
            "visibility": null,
            "width": null
          }
        },
        "0ca9ceea3d334593ae147d4afe7603cd": {
          "model_module": "@jupyter-widgets/controls",
          "model_name": "ProgressStyleModel",
          "model_module_version": "1.5.0",
          "state": {
            "_model_module": "@jupyter-widgets/controls",
            "_model_module_version": "1.5.0",
            "_model_name": "ProgressStyleModel",
            "_view_count": null,
            "_view_module": "@jupyter-widgets/base",
            "_view_module_version": "1.2.0",
            "_view_name": "StyleView",
            "bar_color": null,
            "description_width": ""
          }
        },
        "3328435b3ecc49ec82f17135d9a01ac5": {
          "model_module": "@jupyter-widgets/base",
          "model_name": "LayoutModel",
          "model_module_version": "1.2.0",
          "state": {
            "_model_module": "@jupyter-widgets/base",
            "_model_module_version": "1.2.0",
            "_model_name": "LayoutModel",
            "_view_count": null,
            "_view_module": "@jupyter-widgets/base",
            "_view_module_version": "1.2.0",
            "_view_name": "LayoutView",
            "align_content": null,
            "align_items": null,
            "align_self": null,
            "border": null,
            "bottom": null,
            "display": null,
            "flex": null,
            "flex_flow": null,
            "grid_area": null,
            "grid_auto_columns": null,
            "grid_auto_flow": null,
            "grid_auto_rows": null,
            "grid_column": null,
            "grid_gap": null,
            "grid_row": null,
            "grid_template_areas": null,
            "grid_template_columns": null,
            "grid_template_rows": null,
            "height": null,
            "justify_content": null,
            "justify_items": null,
            "left": null,
            "margin": null,
            "max_height": null,
            "max_width": null,
            "min_height": null,
            "min_width": null,
            "object_fit": null,
            "object_position": null,
            "order": null,
            "overflow": null,
            "overflow_x": null,
            "overflow_y": null,
            "padding": null,
            "right": null,
            "top": null,
            "visibility": null,
            "width": null
          }
        },
        "17406bdf72cb46fabdd644afa72ebd3d": {
          "model_module": "@jupyter-widgets/controls",
          "model_name": "DescriptionStyleModel",
          "model_module_version": "1.5.0",
          "state": {
            "_model_module": "@jupyter-widgets/controls",
            "_model_module_version": "1.5.0",
            "_model_name": "DescriptionStyleModel",
            "_view_count": null,
            "_view_module": "@jupyter-widgets/base",
            "_view_module_version": "1.2.0",
            "_view_name": "StyleView",
            "description_width": ""
          }
        },
        "b5d0e4db8f9b4742908155c9b2aba692": {
          "model_module": "@jupyter-widgets/controls",
          "model_name": "HBoxModel",
          "model_module_version": "1.5.0",
          "state": {
            "_dom_classes": [],
            "_model_module": "@jupyter-widgets/controls",
            "_model_module_version": "1.5.0",
            "_model_name": "HBoxModel",
            "_view_count": null,
            "_view_module": "@jupyter-widgets/controls",
            "_view_module_version": "1.5.0",
            "_view_name": "HBoxView",
            "box_style": "",
            "children": [
              "IPY_MODEL_7b63968934de41289f5fb9b5970e6962",
              "IPY_MODEL_53a7e41875c741159b02bd0cdee817d1",
              "IPY_MODEL_86be35b403ce4424b0ed7e2dcbba241b"
            ],
            "layout": "IPY_MODEL_516822bbe11b47749c81615b82b5b978"
          }
        },
        "7b63968934de41289f5fb9b5970e6962": {
          "model_module": "@jupyter-widgets/controls",
          "model_name": "HTMLModel",
          "model_module_version": "1.5.0",
          "state": {
            "_dom_classes": [],
            "_model_module": "@jupyter-widgets/controls",
            "_model_module_version": "1.5.0",
            "_model_name": "HTMLModel",
            "_view_count": null,
            "_view_module": "@jupyter-widgets/controls",
            "_view_module_version": "1.5.0",
            "_view_name": "HTMLView",
            "description": "",
            "description_tooltip": null,
            "layout": "IPY_MODEL_9e015c7e1ccc4f0c945fae804f7d74e2",
            "placeholder": "​",
            "style": "IPY_MODEL_fc333167f74d46a8abc5046c841cd71b",
            "value": "spiece.model: 100%"
          }
        },
        "53a7e41875c741159b02bd0cdee817d1": {
          "model_module": "@jupyter-widgets/controls",
          "model_name": "FloatProgressModel",
          "model_module_version": "1.5.0",
          "state": {
            "_dom_classes": [],
            "_model_module": "@jupyter-widgets/controls",
            "_model_module_version": "1.5.0",
            "_model_name": "FloatProgressModel",
            "_view_count": null,
            "_view_module": "@jupyter-widgets/controls",
            "_view_module_version": "1.5.0",
            "_view_name": "ProgressView",
            "bar_style": "success",
            "description": "",
            "description_tooltip": null,
            "layout": "IPY_MODEL_030f07507e654ab690ef59fab0f141cd",
            "max": 1912529,
            "min": 0,
            "orientation": "horizontal",
            "style": "IPY_MODEL_aea589a466c2434d95ce3661aacffb7a",
            "value": 1912529
          }
        },
        "86be35b403ce4424b0ed7e2dcbba241b": {
          "model_module": "@jupyter-widgets/controls",
          "model_name": "HTMLModel",
          "model_module_version": "1.5.0",
          "state": {
            "_dom_classes": [],
            "_model_module": "@jupyter-widgets/controls",
            "_model_module_version": "1.5.0",
            "_model_name": "HTMLModel",
            "_view_count": null,
            "_view_module": "@jupyter-widgets/controls",
            "_view_module_version": "1.5.0",
            "_view_name": "HTMLView",
            "description": "",
            "description_tooltip": null,
            "layout": "IPY_MODEL_663adee1a0fa4a9a992006f31ec3ffb8",
            "placeholder": "​",
            "style": "IPY_MODEL_a0eb53ed39da41d6baf0ae61ef96aa6a",
            "value": " 1.91M/1.91M [00:00&lt;00:00, 5.47MB/s]"
          }
        },
        "516822bbe11b47749c81615b82b5b978": {
          "model_module": "@jupyter-widgets/base",
          "model_name": "LayoutModel",
          "model_module_version": "1.2.0",
          "state": {
            "_model_module": "@jupyter-widgets/base",
            "_model_module_version": "1.2.0",
            "_model_name": "LayoutModel",
            "_view_count": null,
            "_view_module": "@jupyter-widgets/base",
            "_view_module_version": "1.2.0",
            "_view_name": "LayoutView",
            "align_content": null,
            "align_items": null,
            "align_self": null,
            "border": null,
            "bottom": null,
            "display": null,
            "flex": null,
            "flex_flow": null,
            "grid_area": null,
            "grid_auto_columns": null,
            "grid_auto_flow": null,
            "grid_auto_rows": null,
            "grid_column": null,
            "grid_gap": null,
            "grid_row": null,
            "grid_template_areas": null,
            "grid_template_columns": null,
            "grid_template_rows": null,
            "height": null,
            "justify_content": null,
            "justify_items": null,
            "left": null,
            "margin": null,
            "max_height": null,
            "max_width": null,
            "min_height": null,
            "min_width": null,
            "object_fit": null,
            "object_position": null,
            "order": null,
            "overflow": null,
            "overflow_x": null,
            "overflow_y": null,
            "padding": null,
            "right": null,
            "top": null,
            "visibility": null,
            "width": null
          }
        },
        "9e015c7e1ccc4f0c945fae804f7d74e2": {
          "model_module": "@jupyter-widgets/base",
          "model_name": "LayoutModel",
          "model_module_version": "1.2.0",
          "state": {
            "_model_module": "@jupyter-widgets/base",
            "_model_module_version": "1.2.0",
            "_model_name": "LayoutModel",
            "_view_count": null,
            "_view_module": "@jupyter-widgets/base",
            "_view_module_version": "1.2.0",
            "_view_name": "LayoutView",
            "align_content": null,
            "align_items": null,
            "align_self": null,
            "border": null,
            "bottom": null,
            "display": null,
            "flex": null,
            "flex_flow": null,
            "grid_area": null,
            "grid_auto_columns": null,
            "grid_auto_flow": null,
            "grid_auto_rows": null,
            "grid_column": null,
            "grid_gap": null,
            "grid_row": null,
            "grid_template_areas": null,
            "grid_template_columns": null,
            "grid_template_rows": null,
            "height": null,
            "justify_content": null,
            "justify_items": null,
            "left": null,
            "margin": null,
            "max_height": null,
            "max_width": null,
            "min_height": null,
            "min_width": null,
            "object_fit": null,
            "object_position": null,
            "order": null,
            "overflow": null,
            "overflow_x": null,
            "overflow_y": null,
            "padding": null,
            "right": null,
            "top": null,
            "visibility": null,
            "width": null
          }
        },
        "fc333167f74d46a8abc5046c841cd71b": {
          "model_module": "@jupyter-widgets/controls",
          "model_name": "DescriptionStyleModel",
          "model_module_version": "1.5.0",
          "state": {
            "_model_module": "@jupyter-widgets/controls",
            "_model_module_version": "1.5.0",
            "_model_name": "DescriptionStyleModel",
            "_view_count": null,
            "_view_module": "@jupyter-widgets/base",
            "_view_module_version": "1.2.0",
            "_view_name": "StyleView",
            "description_width": ""
          }
        },
        "030f07507e654ab690ef59fab0f141cd": {
          "model_module": "@jupyter-widgets/base",
          "model_name": "LayoutModel",
          "model_module_version": "1.2.0",
          "state": {
            "_model_module": "@jupyter-widgets/base",
            "_model_module_version": "1.2.0",
            "_model_name": "LayoutModel",
            "_view_count": null,
            "_view_module": "@jupyter-widgets/base",
            "_view_module_version": "1.2.0",
            "_view_name": "LayoutView",
            "align_content": null,
            "align_items": null,
            "align_self": null,
            "border": null,
            "bottom": null,
            "display": null,
            "flex": null,
            "flex_flow": null,
            "grid_area": null,
            "grid_auto_columns": null,
            "grid_auto_flow": null,
            "grid_auto_rows": null,
            "grid_column": null,
            "grid_gap": null,
            "grid_row": null,
            "grid_template_areas": null,
            "grid_template_columns": null,
            "grid_template_rows": null,
            "height": null,
            "justify_content": null,
            "justify_items": null,
            "left": null,
            "margin": null,
            "max_height": null,
            "max_width": null,
            "min_height": null,
            "min_width": null,
            "object_fit": null,
            "object_position": null,
            "order": null,
            "overflow": null,
            "overflow_x": null,
            "overflow_y": null,
            "padding": null,
            "right": null,
            "top": null,
            "visibility": null,
            "width": null
          }
        },
        "aea589a466c2434d95ce3661aacffb7a": {
          "model_module": "@jupyter-widgets/controls",
          "model_name": "ProgressStyleModel",
          "model_module_version": "1.5.0",
          "state": {
            "_model_module": "@jupyter-widgets/controls",
            "_model_module_version": "1.5.0",
            "_model_name": "ProgressStyleModel",
            "_view_count": null,
            "_view_module": "@jupyter-widgets/base",
            "_view_module_version": "1.2.0",
            "_view_name": "StyleView",
            "bar_color": null,
            "description_width": ""
          }
        },
        "663adee1a0fa4a9a992006f31ec3ffb8": {
          "model_module": "@jupyter-widgets/base",
          "model_name": "LayoutModel",
          "model_module_version": "1.2.0",
          "state": {
            "_model_module": "@jupyter-widgets/base",
            "_model_module_version": "1.2.0",
            "_model_name": "LayoutModel",
            "_view_count": null,
            "_view_module": "@jupyter-widgets/base",
            "_view_module_version": "1.2.0",
            "_view_name": "LayoutView",
            "align_content": null,
            "align_items": null,
            "align_self": null,
            "border": null,
            "bottom": null,
            "display": null,
            "flex": null,
            "flex_flow": null,
            "grid_area": null,
            "grid_auto_columns": null,
            "grid_auto_flow": null,
            "grid_auto_rows": null,
            "grid_column": null,
            "grid_gap": null,
            "grid_row": null,
            "grid_template_areas": null,
            "grid_template_columns": null,
            "grid_template_rows": null,
            "height": null,
            "justify_content": null,
            "justify_items": null,
            "left": null,
            "margin": null,
            "max_height": null,
            "max_width": null,
            "min_height": null,
            "min_width": null,
            "object_fit": null,
            "object_position": null,
            "order": null,
            "overflow": null,
            "overflow_x": null,
            "overflow_y": null,
            "padding": null,
            "right": null,
            "top": null,
            "visibility": null,
            "width": null
          }
        },
        "a0eb53ed39da41d6baf0ae61ef96aa6a": {
          "model_module": "@jupyter-widgets/controls",
          "model_name": "DescriptionStyleModel",
          "model_module_version": "1.5.0",
          "state": {
            "_model_module": "@jupyter-widgets/controls",
            "_model_module_version": "1.5.0",
            "_model_name": "DescriptionStyleModel",
            "_view_count": null,
            "_view_module": "@jupyter-widgets/base",
            "_view_module_version": "1.2.0",
            "_view_name": "StyleView",
            "description_width": ""
          }
        },
        "c72a6d0b99f64daf87f603995f621ed0": {
          "model_module": "@jupyter-widgets/controls",
          "model_name": "HBoxModel",
          "model_module_version": "1.5.0",
          "state": {
            "_dom_classes": [],
            "_model_module": "@jupyter-widgets/controls",
            "_model_module_version": "1.5.0",
            "_model_name": "HBoxModel",
            "_view_count": null,
            "_view_module": "@jupyter-widgets/controls",
            "_view_module_version": "1.5.0",
            "_view_name": "HBoxView",
            "box_style": "",
            "children": [
              "IPY_MODEL_e42ffd57a0a3404f8d6df04a3c2159a5",
              "IPY_MODEL_d5acb2e055524a818a5cd4352918aaff",
              "IPY_MODEL_ccd3fa63c5a844698a00dc1774d6e76c"
            ],
            "layout": "IPY_MODEL_f2c2af914d064dc5985bdce482c5e1c4"
          }
        },
        "e42ffd57a0a3404f8d6df04a3c2159a5": {
          "model_module": "@jupyter-widgets/controls",
          "model_name": "HTMLModel",
          "model_module_version": "1.5.0",
          "state": {
            "_dom_classes": [],
            "_model_module": "@jupyter-widgets/controls",
            "_model_module_version": "1.5.0",
            "_model_name": "HTMLModel",
            "_view_count": null,
            "_view_module": "@jupyter-widgets/controls",
            "_view_module_version": "1.5.0",
            "_view_name": "HTMLView",
            "description": "",
            "description_tooltip": null,
            "layout": "IPY_MODEL_1c4c0647759c4bc09193b9cf1b4a1cb8",
            "placeholder": "​",
            "style": "IPY_MODEL_a2092c6fd0a347b7ab87397461613995",
            "value": "special_tokens_map.json: 100%"
          }
        },
        "d5acb2e055524a818a5cd4352918aaff": {
          "model_module": "@jupyter-widgets/controls",
          "model_name": "FloatProgressModel",
          "model_module_version": "1.5.0",
          "state": {
            "_dom_classes": [],
            "_model_module": "@jupyter-widgets/controls",
            "_model_module_version": "1.5.0",
            "_model_name": "FloatProgressModel",
            "_view_count": null,
            "_view_module": "@jupyter-widgets/controls",
            "_view_module_version": "1.5.0",
            "_view_name": "ProgressView",
            "bar_style": "success",
            "description": "",
            "description_tooltip": null,
            "layout": "IPY_MODEL_1d630cf63fd5429f9936bb1c84ba47f9",
            "max": 65,
            "min": 0,
            "orientation": "horizontal",
            "style": "IPY_MODEL_e572287e656b43138d89538e2045429f",
            "value": 65
          }
        },
        "ccd3fa63c5a844698a00dc1774d6e76c": {
          "model_module": "@jupyter-widgets/controls",
          "model_name": "HTMLModel",
          "model_module_version": "1.5.0",
          "state": {
            "_dom_classes": [],
            "_model_module": "@jupyter-widgets/controls",
            "_model_module_version": "1.5.0",
            "_model_name": "HTMLModel",
            "_view_count": null,
            "_view_module": "@jupyter-widgets/controls",
            "_view_module_version": "1.5.0",
            "_view_name": "HTMLView",
            "description": "",
            "description_tooltip": null,
            "layout": "IPY_MODEL_acf71eb59963493aaf3704ddbbfeadbe",
            "placeholder": "​",
            "style": "IPY_MODEL_bbcea164fdcf4a43ae6b5bbf1cf7292a",
            "value": " 65.0/65.0 [00:00&lt;00:00, 1.69kB/s]"
          }
        },
        "f2c2af914d064dc5985bdce482c5e1c4": {
          "model_module": "@jupyter-widgets/base",
          "model_name": "LayoutModel",
          "model_module_version": "1.2.0",
          "state": {
            "_model_module": "@jupyter-widgets/base",
            "_model_module_version": "1.2.0",
            "_model_name": "LayoutModel",
            "_view_count": null,
            "_view_module": "@jupyter-widgets/base",
            "_view_module_version": "1.2.0",
            "_view_name": "LayoutView",
            "align_content": null,
            "align_items": null,
            "align_self": null,
            "border": null,
            "bottom": null,
            "display": null,
            "flex": null,
            "flex_flow": null,
            "grid_area": null,
            "grid_auto_columns": null,
            "grid_auto_flow": null,
            "grid_auto_rows": null,
            "grid_column": null,
            "grid_gap": null,
            "grid_row": null,
            "grid_template_areas": null,
            "grid_template_columns": null,
            "grid_template_rows": null,
            "height": null,
            "justify_content": null,
            "justify_items": null,
            "left": null,
            "margin": null,
            "max_height": null,
            "max_width": null,
            "min_height": null,
            "min_width": null,
            "object_fit": null,
            "object_position": null,
            "order": null,
            "overflow": null,
            "overflow_x": null,
            "overflow_y": null,
            "padding": null,
            "right": null,
            "top": null,
            "visibility": null,
            "width": null
          }
        },
        "1c4c0647759c4bc09193b9cf1b4a1cb8": {
          "model_module": "@jupyter-widgets/base",
          "model_name": "LayoutModel",
          "model_module_version": "1.2.0",
          "state": {
            "_model_module": "@jupyter-widgets/base",
            "_model_module_version": "1.2.0",
            "_model_name": "LayoutModel",
            "_view_count": null,
            "_view_module": "@jupyter-widgets/base",
            "_view_module_version": "1.2.0",
            "_view_name": "LayoutView",
            "align_content": null,
            "align_items": null,
            "align_self": null,
            "border": null,
            "bottom": null,
            "display": null,
            "flex": null,
            "flex_flow": null,
            "grid_area": null,
            "grid_auto_columns": null,
            "grid_auto_flow": null,
            "grid_auto_rows": null,
            "grid_column": null,
            "grid_gap": null,
            "grid_row": null,
            "grid_template_areas": null,
            "grid_template_columns": null,
            "grid_template_rows": null,
            "height": null,
            "justify_content": null,
            "justify_items": null,
            "left": null,
            "margin": null,
            "max_height": null,
            "max_width": null,
            "min_height": null,
            "min_width": null,
            "object_fit": null,
            "object_position": null,
            "order": null,
            "overflow": null,
            "overflow_x": null,
            "overflow_y": null,
            "padding": null,
            "right": null,
            "top": null,
            "visibility": null,
            "width": null
          }
        },
        "a2092c6fd0a347b7ab87397461613995": {
          "model_module": "@jupyter-widgets/controls",
          "model_name": "DescriptionStyleModel",
          "model_module_version": "1.5.0",
          "state": {
            "_model_module": "@jupyter-widgets/controls",
            "_model_module_version": "1.5.0",
            "_model_name": "DescriptionStyleModel",
            "_view_count": null,
            "_view_module": "@jupyter-widgets/base",
            "_view_module_version": "1.2.0",
            "_view_name": "StyleView",
            "description_width": ""
          }
        },
        "1d630cf63fd5429f9936bb1c84ba47f9": {
          "model_module": "@jupyter-widgets/base",
          "model_name": "LayoutModel",
          "model_module_version": "1.2.0",
          "state": {
            "_model_module": "@jupyter-widgets/base",
            "_model_module_version": "1.2.0",
            "_model_name": "LayoutModel",
            "_view_count": null,
            "_view_module": "@jupyter-widgets/base",
            "_view_module_version": "1.2.0",
            "_view_name": "LayoutView",
            "align_content": null,
            "align_items": null,
            "align_self": null,
            "border": null,
            "bottom": null,
            "display": null,
            "flex": null,
            "flex_flow": null,
            "grid_area": null,
            "grid_auto_columns": null,
            "grid_auto_flow": null,
            "grid_auto_rows": null,
            "grid_column": null,
            "grid_gap": null,
            "grid_row": null,
            "grid_template_areas": null,
            "grid_template_columns": null,
            "grid_template_rows": null,
            "height": null,
            "justify_content": null,
            "justify_items": null,
            "left": null,
            "margin": null,
            "max_height": null,
            "max_width": null,
            "min_height": null,
            "min_width": null,
            "object_fit": null,
            "object_position": null,
            "order": null,
            "overflow": null,
            "overflow_x": null,
            "overflow_y": null,
            "padding": null,
            "right": null,
            "top": null,
            "visibility": null,
            "width": null
          }
        },
        "e572287e656b43138d89538e2045429f": {
          "model_module": "@jupyter-widgets/controls",
          "model_name": "ProgressStyleModel",
          "model_module_version": "1.5.0",
          "state": {
            "_model_module": "@jupyter-widgets/controls",
            "_model_module_version": "1.5.0",
            "_model_name": "ProgressStyleModel",
            "_view_count": null,
            "_view_module": "@jupyter-widgets/base",
            "_view_module_version": "1.2.0",
            "_view_name": "StyleView",
            "bar_color": null,
            "description_width": ""
          }
        },
        "acf71eb59963493aaf3704ddbbfeadbe": {
          "model_module": "@jupyter-widgets/base",
          "model_name": "LayoutModel",
          "model_module_version": "1.2.0",
          "state": {
            "_model_module": "@jupyter-widgets/base",
            "_model_module_version": "1.2.0",
            "_model_name": "LayoutModel",
            "_view_count": null,
            "_view_module": "@jupyter-widgets/base",
            "_view_module_version": "1.2.0",
            "_view_name": "LayoutView",
            "align_content": null,
            "align_items": null,
            "align_self": null,
            "border": null,
            "bottom": null,
            "display": null,
            "flex": null,
            "flex_flow": null,
            "grid_area": null,
            "grid_auto_columns": null,
            "grid_auto_flow": null,
            "grid_auto_rows": null,
            "grid_column": null,
            "grid_gap": null,
            "grid_row": null,
            "grid_template_areas": null,
            "grid_template_columns": null,
            "grid_template_rows": null,
            "height": null,
            "justify_content": null,
            "justify_items": null,
            "left": null,
            "margin": null,
            "max_height": null,
            "max_width": null,
            "min_height": null,
            "min_width": null,
            "object_fit": null,
            "object_position": null,
            "order": null,
            "overflow": null,
            "overflow_x": null,
            "overflow_y": null,
            "padding": null,
            "right": null,
            "top": null,
            "visibility": null,
            "width": null
          }
        },
        "bbcea164fdcf4a43ae6b5bbf1cf7292a": {
          "model_module": "@jupyter-widgets/controls",
          "model_name": "DescriptionStyleModel",
          "model_module_version": "1.5.0",
          "state": {
            "_model_module": "@jupyter-widgets/controls",
            "_model_module_version": "1.5.0",
            "_model_name": "DescriptionStyleModel",
            "_view_count": null,
            "_view_module": "@jupyter-widgets/base",
            "_view_module_version": "1.2.0",
            "_view_name": "StyleView",
            "description_width": ""
          }
        }
      }
    },
    "accelerator": "GPU"
  },
  "cells": [
    {
      "cell_type": "markdown",
      "source": [
        "# Deliverables\n",
        "\n",
        "Your final submission will be three things:\n",
        "\n",
        "A Github repo with your code and results, with instructions on how to run the code\n",
        "A powerpoint presentation detailing your project and findings\n",
        "A video presenting your presentation and code"
      ],
      "metadata": {
        "id": "rfdmx8-IOq1k"
      }
    },
    {
      "cell_type": "markdown",
      "source": [
        "### Option 1: Visual and Genre Classification\n",
        "\n",
        "Data Processing: Easy\n",
        "Modeling: Hard\n",
        "Interactive: Medium <br>\n",
        "\n",
        "This dataset is a unique collection of high-quality movie and series poster images from IMDB, meticulously handpicked to represent their respective genres accurately. Accompanying these images are detailed plot summaries, each containing more than 150 words, providing rich textual data for analysis.\n",
        "<br>\n",
        "The dataset focuses on four primary genres: Action, Comedy, Horror, and Romance. The combination of visual and textual data makes this dataset ideal for multimodal analysis and genre classification tasks. It offers an excellent opportunity for researchers and enthusiasts to delve into the world of movies and series, explore genre characteristics, and develop models that can understand and predict genre based on visual cues and plot descriptions. This dataset is a valuable resource for anyone interested in film studies, machine learning, and data science.\n",
        "<br>\n",
        "You are tasked to do the following:\n",
        "<br>\n",
        "1. Load in the data and analyze each column.\n",
        "2. Clean the movie summary column in any way you see fit.\n",
        "3. Build a summarization tool and summarize a few of the movies.\n",
        "4. Build at least four models on the dataset. You must have at least one naive bayes model, one generalized linear model (ex: logistic regression), and one tensorflow model (ex: LSTM).\n",
        "5. Evaulate the models in terms of overall accuracy and accuracy by genre.\n",
        "6. For your tensorflow model(s), plot your models and plot accuracy over epoch number.\n",
        "7. Show the most important words from each model and build a word cloud accompanying it.\n",
        "8. Find movies that had a different prediction based on the model. Explain why you think those models predicted one genre vs. the other.\n",
        "9. Build an interactive tool that can take a real or fake movie summary, clean the text, and predict the movie genre based on your models.\n",
        "10. Add any other techniques taught from the course that could be applied for this project.\n",
        "11. Present these findings in a 10 minute video with slides, sample code and a demonstration of your interactive tool.\n",
        "12. BONUS (optional): extract the images and map them with the genre of movie. Build a model classifying the genre based on the movie images."
      ],
      "metadata": {
        "id": "ouOzoczvB3bN"
      }
    },
    {
      "cell_type": "code",
      "source": [
        "# ! pip install kaggle\n",
        "# ! pip install gdown\n",
        "# ! apt-get install -y libgl1-mesa-glx"
      ],
      "metadata": {
        "id": "Q2HqlzrqCBJX"
      },
      "execution_count": null,
      "outputs": []
    },
    {
      "cell_type": "markdown",
      "source": [
        "## 1. Data Loading"
      ],
      "metadata": {
        "id": "h5q5LHrdHPN6"
      }
    },
    {
      "cell_type": "code",
      "execution_count": null,
      "metadata": {
        "id": "K87hvCKNBHne"
      },
      "outputs": [],
      "source": [
        "# for local:\n",
        "#! pip install kaggle\n",
        "# import kaggle\n",
        "\n",
        "# # Download latest version\n",
        "# path = kagglehub.dataset_download(\"zulkarnainsaurav/imdb-multimodal-vision-and-nlp-genre-classification\")\n",
        "\n",
        "# print(\"Path to dataset files:\", path)"
      ]
    },
    {
      "cell_type": "code",
      "source": [
        "import kagglehub\n",
        "import pandas as pd\n",
        "import numpy as np\n",
        "import os\n",
        "import cv2\n",
        "import csv\n",
        "from sklearn.preprocessing import LabelEncoder\n",
        "from sklearn.model_selection import train_test_split"
      ],
      "metadata": {
        "id": "4Ucc7p_rH47M"
      },
      "execution_count": 2,
      "outputs": []
    },
    {
      "cell_type": "code",
      "source": [
        "# for colab - download the data\n",
        "\n",
        "from google.colab import drive\n",
        "import os\n",
        "\n",
        "# Mount Google Drive if needed\n",
        "drive.mount('/content/drive')\n",
        "\n",
        "# Only download if the dataset folder doesn't already exist\n",
        "if not os.path.exists(\"dataset\"):\n",
        "    # Install gdown (if not already installed)\n",
        "    !pip install -U gdown\n",
        "\n",
        "    # Download the dataset froSm shared Google Drive link via file ID\n",
        "    !gdown --id 1o06RUiQJtQrAh2h28c4Ib_l_jeeAT3l6 --output dataset.zip\n",
        "\n",
        "    # Unzip quietly into the \"dataset\" folder\n",
        "    !unzip -q dataset.zip -d dataset/\n",
        "else:\n",
        "    print(\"'dataset/' folder already exists. Skipping download.\")\n",
        "\n"
      ],
      "metadata": {
        "colab": {
          "base_uri": "https://localhost:8080/"
        },
        "id": "2yDFHiTOCrD9",
        "outputId": "2bdc6c17-5dd0-458b-9f08-212e9742c463",
        "collapsed": true
      },
      "execution_count": 3,
      "outputs": [
        {
          "output_type": "stream",
          "name": "stdout",
          "text": [
            "Mounted at /content/drive\n",
            "Requirement already satisfied: gdown in /usr/local/lib/python3.11/dist-packages (5.2.0)\n",
            "Requirement already satisfied: beautifulsoup4 in /usr/local/lib/python3.11/dist-packages (from gdown) (4.13.4)\n",
            "Requirement already satisfied: filelock in /usr/local/lib/python3.11/dist-packages (from gdown) (3.18.0)\n",
            "Requirement already satisfied: requests[socks] in /usr/local/lib/python3.11/dist-packages (from gdown) (2.32.3)\n",
            "Requirement already satisfied: tqdm in /usr/local/lib/python3.11/dist-packages (from gdown) (4.67.1)\n",
            "Requirement already satisfied: soupsieve>1.2 in /usr/local/lib/python3.11/dist-packages (from beautifulsoup4->gdown) (2.7)\n",
            "Requirement already satisfied: typing-extensions>=4.0.0 in /usr/local/lib/python3.11/dist-packages (from beautifulsoup4->gdown) (4.13.2)\n",
            "Requirement already satisfied: charset-normalizer<4,>=2 in /usr/local/lib/python3.11/dist-packages (from requests[socks]->gdown) (3.4.2)\n",
            "Requirement already satisfied: idna<4,>=2.5 in /usr/local/lib/python3.11/dist-packages (from requests[socks]->gdown) (3.10)\n",
            "Requirement already satisfied: urllib3<3,>=1.21.1 in /usr/local/lib/python3.11/dist-packages (from requests[socks]->gdown) (2.4.0)\n",
            "Requirement already satisfied: certifi>=2017.4.17 in /usr/local/lib/python3.11/dist-packages (from requests[socks]->gdown) (2025.4.26)\n",
            "Requirement already satisfied: PySocks!=1.5.7,>=1.5.6 in /usr/local/lib/python3.11/dist-packages (from requests[socks]->gdown) (1.7.1)\n",
            "/usr/local/lib/python3.11/dist-packages/gdown/__main__.py:140: FutureWarning: Option `--id` was deprecated in version 4.3.1 and will be removed in 5.0. You don't need to pass it anymore to use a file ID.\n",
            "  warnings.warn(\n",
            "Downloading...\n",
            "From (original): https://drive.google.com/uc?id=1o06RUiQJtQrAh2h28c4Ib_l_jeeAT3l6\n",
            "From (redirected): https://drive.google.com/uc?id=1o06RUiQJtQrAh2h28c4Ib_l_jeeAT3l6&confirm=t&uuid=0662f096-9fe7-4df5-90ea-f57587d108e9\n",
            "To: /content/dataset.zip\n",
            "100% 58.8M/58.8M [00:01<00:00, 39.5MB/s]\n"
          ]
        }
      ]
    },
    {
      "cell_type": "code",
      "source": [
        "\n",
        "# load dataset - eg: IMDB_four_genre_larger_plot_description\n",
        "import pandas as pd\n",
        "\n",
        "df = pd.read_csv(\"dataset/IMDB_four_genre_larger_plot_description.csv\")  # Replace with actual CSV name\n",
        "df.head()\n"
      ],
      "metadata": {
        "colab": {
          "base_uri": "https://localhost:8080/",
          "height": 206
        },
        "id": "klnDz3LjFFmt",
        "outputId": "882edea6-8793-4e40-e617-f66cda056143"
      },
      "execution_count": 4,
      "outputs": [
        {
          "output_type": "execute_result",
          "data": {
            "text/plain": [
              "     movie_id                                        description    genre\n",
              "0  tt12783454  Elle Evans (Joey King) has finally completed h...  romance\n",
              "1   tt1798632  A young girl tries to understand how she myste...   horror\n",
              "2   tt9214832  In 1800s England, a well meaning but selfish y...   comedy\n",
              "3   tt8522006  Abby Holland (Kristen Stewart) and Harper Cald...  romance\n",
              "4  tt21249656  Olga and Maks are 15 years apart. She is a suc...  romance"
            ],
            "text/html": [
              "\n",
              "  <div id=\"df-2c0efe70-4750-4430-b853-63599ed7e87d\" class=\"colab-df-container\">\n",
              "    <div>\n",
              "<style scoped>\n",
              "    .dataframe tbody tr th:only-of-type {\n",
              "        vertical-align: middle;\n",
              "    }\n",
              "\n",
              "    .dataframe tbody tr th {\n",
              "        vertical-align: top;\n",
              "    }\n",
              "\n",
              "    .dataframe thead th {\n",
              "        text-align: right;\n",
              "    }\n",
              "</style>\n",
              "<table border=\"1\" class=\"dataframe\">\n",
              "  <thead>\n",
              "    <tr style=\"text-align: right;\">\n",
              "      <th></th>\n",
              "      <th>movie_id</th>\n",
              "      <th>description</th>\n",
              "      <th>genre</th>\n",
              "    </tr>\n",
              "  </thead>\n",
              "  <tbody>\n",
              "    <tr>\n",
              "      <th>0</th>\n",
              "      <td>tt12783454</td>\n",
              "      <td>Elle Evans (Joey King) has finally completed h...</td>\n",
              "      <td>romance</td>\n",
              "    </tr>\n",
              "    <tr>\n",
              "      <th>1</th>\n",
              "      <td>tt1798632</td>\n",
              "      <td>A young girl tries to understand how she myste...</td>\n",
              "      <td>horror</td>\n",
              "    </tr>\n",
              "    <tr>\n",
              "      <th>2</th>\n",
              "      <td>tt9214832</td>\n",
              "      <td>In 1800s England, a well meaning but selfish y...</td>\n",
              "      <td>comedy</td>\n",
              "    </tr>\n",
              "    <tr>\n",
              "      <th>3</th>\n",
              "      <td>tt8522006</td>\n",
              "      <td>Abby Holland (Kristen Stewart) and Harper Cald...</td>\n",
              "      <td>romance</td>\n",
              "    </tr>\n",
              "    <tr>\n",
              "      <th>4</th>\n",
              "      <td>tt21249656</td>\n",
              "      <td>Olga and Maks are 15 years apart. She is a suc...</td>\n",
              "      <td>romance</td>\n",
              "    </tr>\n",
              "  </tbody>\n",
              "</table>\n",
              "</div>\n",
              "    <div class=\"colab-df-buttons\">\n",
              "\n",
              "  <div class=\"colab-df-container\">\n",
              "    <button class=\"colab-df-convert\" onclick=\"convertToInteractive('df-2c0efe70-4750-4430-b853-63599ed7e87d')\"\n",
              "            title=\"Convert this dataframe to an interactive table.\"\n",
              "            style=\"display:none;\">\n",
              "\n",
              "  <svg xmlns=\"http://www.w3.org/2000/svg\" height=\"24px\" viewBox=\"0 -960 960 960\">\n",
              "    <path d=\"M120-120v-720h720v720H120Zm60-500h600v-160H180v160Zm220 220h160v-160H400v160Zm0 220h160v-160H400v160ZM180-400h160v-160H180v160Zm440 0h160v-160H620v160ZM180-180h160v-160H180v160Zm440 0h160v-160H620v160Z\"/>\n",
              "  </svg>\n",
              "    </button>\n",
              "\n",
              "  <style>\n",
              "    .colab-df-container {\n",
              "      display:flex;\n",
              "      gap: 12px;\n",
              "    }\n",
              "\n",
              "    .colab-df-convert {\n",
              "      background-color: #E8F0FE;\n",
              "      border: none;\n",
              "      border-radius: 50%;\n",
              "      cursor: pointer;\n",
              "      display: none;\n",
              "      fill: #1967D2;\n",
              "      height: 32px;\n",
              "      padding: 0 0 0 0;\n",
              "      width: 32px;\n",
              "    }\n",
              "\n",
              "    .colab-df-convert:hover {\n",
              "      background-color: #E2EBFA;\n",
              "      box-shadow: 0px 1px 2px rgba(60, 64, 67, 0.3), 0px 1px 3px 1px rgba(60, 64, 67, 0.15);\n",
              "      fill: #174EA6;\n",
              "    }\n",
              "\n",
              "    .colab-df-buttons div {\n",
              "      margin-bottom: 4px;\n",
              "    }\n",
              "\n",
              "    [theme=dark] .colab-df-convert {\n",
              "      background-color: #3B4455;\n",
              "      fill: #D2E3FC;\n",
              "    }\n",
              "\n",
              "    [theme=dark] .colab-df-convert:hover {\n",
              "      background-color: #434B5C;\n",
              "      box-shadow: 0px 1px 3px 1px rgba(0, 0, 0, 0.15);\n",
              "      filter: drop-shadow(0px 1px 2px rgba(0, 0, 0, 0.3));\n",
              "      fill: #FFFFFF;\n",
              "    }\n",
              "  </style>\n",
              "\n",
              "    <script>\n",
              "      const buttonEl =\n",
              "        document.querySelector('#df-2c0efe70-4750-4430-b853-63599ed7e87d button.colab-df-convert');\n",
              "      buttonEl.style.display =\n",
              "        google.colab.kernel.accessAllowed ? 'block' : 'none';\n",
              "\n",
              "      async function convertToInteractive(key) {\n",
              "        const element = document.querySelector('#df-2c0efe70-4750-4430-b853-63599ed7e87d');\n",
              "        const dataTable =\n",
              "          await google.colab.kernel.invokeFunction('convertToInteractive',\n",
              "                                                    [key], {});\n",
              "        if (!dataTable) return;\n",
              "\n",
              "        const docLinkHtml = 'Like what you see? Visit the ' +\n",
              "          '<a target=\"_blank\" href=https://colab.research.google.com/notebooks/data_table.ipynb>data table notebook</a>'\n",
              "          + ' to learn more about interactive tables.';\n",
              "        element.innerHTML = '';\n",
              "        dataTable['output_type'] = 'display_data';\n",
              "        await google.colab.output.renderOutput(dataTable, element);\n",
              "        const docLink = document.createElement('div');\n",
              "        docLink.innerHTML = docLinkHtml;\n",
              "        element.appendChild(docLink);\n",
              "      }\n",
              "    </script>\n",
              "  </div>\n",
              "\n",
              "\n",
              "    <div id=\"df-cade4850-e5e1-41c0-898b-bd4040b80bd4\">\n",
              "      <button class=\"colab-df-quickchart\" onclick=\"quickchart('df-cade4850-e5e1-41c0-898b-bd4040b80bd4')\"\n",
              "                title=\"Suggest charts\"\n",
              "                style=\"display:none;\">\n",
              "\n",
              "<svg xmlns=\"http://www.w3.org/2000/svg\" height=\"24px\"viewBox=\"0 0 24 24\"\n",
              "     width=\"24px\">\n",
              "    <g>\n",
              "        <path d=\"M19 3H5c-1.1 0-2 .9-2 2v14c0 1.1.9 2 2 2h14c1.1 0 2-.9 2-2V5c0-1.1-.9-2-2-2zM9 17H7v-7h2v7zm4 0h-2V7h2v10zm4 0h-2v-4h2v4z\"/>\n",
              "    </g>\n",
              "</svg>\n",
              "      </button>\n",
              "\n",
              "<style>\n",
              "  .colab-df-quickchart {\n",
              "      --bg-color: #E8F0FE;\n",
              "      --fill-color: #1967D2;\n",
              "      --hover-bg-color: #E2EBFA;\n",
              "      --hover-fill-color: #174EA6;\n",
              "      --disabled-fill-color: #AAA;\n",
              "      --disabled-bg-color: #DDD;\n",
              "  }\n",
              "\n",
              "  [theme=dark] .colab-df-quickchart {\n",
              "      --bg-color: #3B4455;\n",
              "      --fill-color: #D2E3FC;\n",
              "      --hover-bg-color: #434B5C;\n",
              "      --hover-fill-color: #FFFFFF;\n",
              "      --disabled-bg-color: #3B4455;\n",
              "      --disabled-fill-color: #666;\n",
              "  }\n",
              "\n",
              "  .colab-df-quickchart {\n",
              "    background-color: var(--bg-color);\n",
              "    border: none;\n",
              "    border-radius: 50%;\n",
              "    cursor: pointer;\n",
              "    display: none;\n",
              "    fill: var(--fill-color);\n",
              "    height: 32px;\n",
              "    padding: 0;\n",
              "    width: 32px;\n",
              "  }\n",
              "\n",
              "  .colab-df-quickchart:hover {\n",
              "    background-color: var(--hover-bg-color);\n",
              "    box-shadow: 0 1px 2px rgba(60, 64, 67, 0.3), 0 1px 3px 1px rgba(60, 64, 67, 0.15);\n",
              "    fill: var(--button-hover-fill-color);\n",
              "  }\n",
              "\n",
              "  .colab-df-quickchart-complete:disabled,\n",
              "  .colab-df-quickchart-complete:disabled:hover {\n",
              "    background-color: var(--disabled-bg-color);\n",
              "    fill: var(--disabled-fill-color);\n",
              "    box-shadow: none;\n",
              "  }\n",
              "\n",
              "  .colab-df-spinner {\n",
              "    border: 2px solid var(--fill-color);\n",
              "    border-color: transparent;\n",
              "    border-bottom-color: var(--fill-color);\n",
              "    animation:\n",
              "      spin 1s steps(1) infinite;\n",
              "  }\n",
              "\n",
              "  @keyframes spin {\n",
              "    0% {\n",
              "      border-color: transparent;\n",
              "      border-bottom-color: var(--fill-color);\n",
              "      border-left-color: var(--fill-color);\n",
              "    }\n",
              "    20% {\n",
              "      border-color: transparent;\n",
              "      border-left-color: var(--fill-color);\n",
              "      border-top-color: var(--fill-color);\n",
              "    }\n",
              "    30% {\n",
              "      border-color: transparent;\n",
              "      border-left-color: var(--fill-color);\n",
              "      border-top-color: var(--fill-color);\n",
              "      border-right-color: var(--fill-color);\n",
              "    }\n",
              "    40% {\n",
              "      border-color: transparent;\n",
              "      border-right-color: var(--fill-color);\n",
              "      border-top-color: var(--fill-color);\n",
              "    }\n",
              "    60% {\n",
              "      border-color: transparent;\n",
              "      border-right-color: var(--fill-color);\n",
              "    }\n",
              "    80% {\n",
              "      border-color: transparent;\n",
              "      border-right-color: var(--fill-color);\n",
              "      border-bottom-color: var(--fill-color);\n",
              "    }\n",
              "    90% {\n",
              "      border-color: transparent;\n",
              "      border-bottom-color: var(--fill-color);\n",
              "    }\n",
              "  }\n",
              "</style>\n",
              "\n",
              "      <script>\n",
              "        async function quickchart(key) {\n",
              "          const quickchartButtonEl =\n",
              "            document.querySelector('#' + key + ' button');\n",
              "          quickchartButtonEl.disabled = true;  // To prevent multiple clicks.\n",
              "          quickchartButtonEl.classList.add('colab-df-spinner');\n",
              "          try {\n",
              "            const charts = await google.colab.kernel.invokeFunction(\n",
              "                'suggestCharts', [key], {});\n",
              "          } catch (error) {\n",
              "            console.error('Error during call to suggestCharts:', error);\n",
              "          }\n",
              "          quickchartButtonEl.classList.remove('colab-df-spinner');\n",
              "          quickchartButtonEl.classList.add('colab-df-quickchart-complete');\n",
              "        }\n",
              "        (() => {\n",
              "          let quickchartButtonEl =\n",
              "            document.querySelector('#df-cade4850-e5e1-41c0-898b-bd4040b80bd4 button');\n",
              "          quickchartButtonEl.style.display =\n",
              "            google.colab.kernel.accessAllowed ? 'block' : 'none';\n",
              "        })();\n",
              "      </script>\n",
              "    </div>\n",
              "\n",
              "    </div>\n",
              "  </div>\n"
            ],
            "application/vnd.google.colaboratory.intrinsic+json": {
              "type": "dataframe",
              "variable_name": "df",
              "summary": "{\n  \"name\": \"df\",\n  \"rows\": 1000,\n  \"fields\": [\n    {\n      \"column\": \"movie_id\",\n      \"properties\": {\n        \"dtype\": \"string\",\n        \"num_unique_values\": 1000,\n        \"samples\": [\n          \"tt21651560\",\n          \"tt8110330\",\n          \"tt1298644\"\n        ],\n        \"semantic_type\": \"\",\n        \"description\": \"\"\n      }\n    },\n    {\n      \"column\": \"description\",\n      \"properties\": {\n        \"dtype\": \"string\",\n        \"num_unique_values\": 1000,\n        \"samples\": [\n          \"Witness a hellish vision of , as social isolation, analog technology and disturbing home videos fuse into a nightmare of found footage savagery. Set at the dawn of a new millennium, VHS presents viewers with five gory tales of found footage POV terror. In \\\"Shredding,\\\" a bratty punk rock band breaks into the ruins of an abandoned art collective where a previous band met their grisly fate in a freak accident. In \\\"Suicide Bid,\\\" a girl partakes in a claustrophobic hazing ritual for a sorority that soon unleashes the supernatural. Next, in \\\"Ozzy's Dungeon,\\\" a sleazy TV show host is forced to endure a brutal obstacle gauntlet inspired by his own show, which caused the permanent disfigurement of a former contestant. In \\\"The Gawkers,\\\" voyeuristic teenagers unearth the horrifying truth behind the girl next door. Finally, in \\\"To Hell And Back,\\\" two filmmakers asked to document a summoning ritual on the eve of YK are accidentally transported to a hellish dimension, where a tormented soul guides them in escaping its demonic inhabitants. Offering a fresh batch of deadly encounters with the macabre and the supernatural, VHS continues the VHS  saga, picking up where VHS  left off. This time, five new shocking, foundfootage horror tales unfold before the launch of the new millennium. Starting with \\\"Shredding\\\", a poppunk band breaks into the site of a punk concert tragedy, only to learn firsthand that rock, and evil, never die. Then, in \\\"Suicide Bid\\\", a cruel sorority hazing ritual that takes teasing too far harbours a ghastly secret. Next, in \\\"Ozzy's Dungeon\\\", the unfeeling, selfcentred host of a twisted game show gets a taste of his own medicine. And in \\\"The Gawkers\\\", a team of suburban teenage perverts mess with the wrong persontheir cute new neighbour. Finally, in \\\"To Hell and Back\\\", two unsuspecting filmmakers find themselves neckdeep in trouble when, instead of recording a demonsummoning ritual on New Year's Eve, they discover dark portals work both ways. \\\"The Gawkers\\\" Frame OneA stopmotion war video scene plays where the WWII soldiers are preparing for combat. Some of the soldiers aren't doing very well with their roles of battle. Eventually, one of the soldiers, Johnson went out of control, drives a tank, and kills  of the armed soldiers. The tape glitches showing portions of scenes from the other films of the franchise.\\\"Shredding\\\"R.A.C.K. acronym for members Rachel Jesse LaTourette, Ankur Keanush Tafreshi, Chris Dashiell Derrickson and Kaleb Jackson Kelly are a punk rock band who loves pulling pranks, and regularly record their antics on a web show that they host. \",\n          \"The emotional journey of two hopelessly-in-love youngsters; a young girl, Kizie, who is suffering from cancer; and Manny, a boy Kizie meets at a support group.\\nBased on the bestselling novel \\\"The Fault in Our Stars\\\" by author John Green, \\\"Dil Bechara\\\" is the story of Kizie and Manny, two ordinary people with an extraordinary love story. Both have a tragic twist to their lives that is the start of exploring a funny, thrilling and tragic business of being alive and in love. Kizie and Manny embark on an, on/off, up/down, bittersweet, profound journey into the heart of that crazy little thing called 'life'.\\nDil Bechara traces the emotional journey of two hopelessly-in-love youngsters a young girl (Kizie) suffering from cancer, and a boy (Manny) who she meets at a support group. The two explore the funny, thrilling, and tragic adventure of being alive and in love.\\nYoung Kizie Basu is suffering from thyroid cancer and is dependent on an oxygen cylinder all her life. She feels that her life is boring and she dreams of meeting singer Abhimanya Veer, who has left one of his songs incomplete. During cancer counseling sessions she meets Immanuel Rajkumar Junior, a fan of Superstar Rajnikanth and also suffering from Osteosarcoma. Immanuel and his friend JP, who suffers from glaucoma, are making a film similar to Rajnikant's film and offer Kizie a lead role. During this phase, Kizzie's life changes and blossoms and she falls in love, but death can call them anytime.\",\n          \"Two con women one low rent and the other high class - team up to take down the men who have wronged them. In this remake of 1988's \\\"Dirty Rotten Scoundrels,\\\" 2 con-women hustle in a small French Riviera town one for small amounts from average men, and one for higher amounts wealthier men. They bet on what looks like an easy target. Winner gets $500K from him, and the loser leaves town forever. Josephine is a rich con woman that only takes on the richest men, while Penny is a low-class con woman who hustles men for money in nearby bars. Both take on a tech millionaire, and whoever fails to con money from him before the other loses. The film starts in a bar where a guy named Jeremy (Timothy Simons) is waiting for his date, a model-like blonde woman. Instead, he is met by con artist Penny Rust (Rebel Wilson). She pretends that the girl in the picture that Jeremy was waiting for is her sister who was too shy to meet him because she is ashamed of her small breasts, so Penny almost tricks Jeremy into giving her money for her \\\"sister's\\\" boob job. However, another guy that Penny swindled finds her in the bar with the cops, and she runs out of there, managing to hide among trash bags since her dress looks like one. Somewhere in France, a Danish man named Mathias (Casper Christensen) spots an American woman, Josephine Chesterfield (Anne Hathaway), sitting alone at a bar. He approaches her and hears her story about winning a lot of chips at the casino. Mathias offers to sell Josephine his mother's valuable bracelet, only for an Interpol officer, Brigitte Desjardins (Ingrid Oliver), to come by and say that Josephine is an international criminal and that she stole the chips from an old man. In reality, Brigitte and the old man, Albert (Nicholas Woodeson), are in cahoots with Josephine, who is really an English woman posing as a dim-witted American to try and con other men. She manages to swipe Mathias's bracelet and swap it with a fake.\"\n        ],\n        \"semantic_type\": \"\",\n        \"description\": \"\"\n      }\n    },\n    {\n      \"column\": \"genre\",\n      \"properties\": {\n        \"dtype\": \"category\",\n        \"num_unique_values\": 4,\n        \"samples\": [\n          \"horror\",\n          \"action\",\n          \"romance\"\n        ],\n        \"semantic_type\": \"\",\n        \"description\": \"\"\n      }\n    }\n  ]\n}"
            }
          },
          "metadata": {},
          "execution_count": 4
        }
      ]
    },
    {
      "cell_type": "code",
      "source": [
        "# Set paths after unzip\n",
        "DATA_DIR = \"dataset/IMDB four_genre_posters\"\n",
        "CSV_FILE = \"dataset/IMDB four_genre_larger_plot_description.csv\"\n",
        "IMAGE_SIZE = (128, 192)\n",
        "GENRES = ['Comedy', 'Horror', 'Romance', 'Action']"
      ],
      "metadata": {
        "id": "qPnll-4oFKeB"
      },
      "execution_count": 5,
      "outputs": []
    },
    {
      "cell_type": "code",
      "source": [
        "# image_path = os.path.join(DATA_DIR, genre, filename)"
      ],
      "metadata": {
        "id": "8_i3QC9WJKZy"
      },
      "execution_count": null,
      "outputs": []
    },
    {
      "cell_type": "code",
      "source": [
        "# # 1. Load Descriptions from CSV\n",
        "# def load_descriptions(csv_file):\n",
        "#     \"\"\"\n",
        "#     Load the movie descriptions from the CSV file\n",
        "#     into a dictionary keyed by movie_id\n",
        "#     \"\"\"\n",
        "#     descriptions = {}\n",
        "#     with open(csv_file, 'r') as csvfile:\n",
        "#         csv_reader = csv.DictReader(csvfile)\n",
        "#         for row in csv_reader:\n",
        "#             movie_id = row['movie_id'].strip()\n",
        "#             description = row['description'].strip()\n",
        "#             descriptions[movie_id] = description\n",
        "#     return descriptions\n",
        "\n",
        "# image_descriptions = load_descriptions(CSV_FILE)\n",
        "\n",
        "\n",
        "# # 2. Load and Preprocess a Single Image\n",
        "# def load_image(image_path, target_size=IMAGE_SIZE):\n",
        "#     \"\"\"\n",
        "#     Load a grayscale image, resize it, and normalize pixel values to [0, 1].\n",
        "#     \"\"\"\n",
        "#     try:\n",
        "#         image = cv2.imread(image_path, cv2.IMREAD_GRAYSCALE)\n",
        "#         if image is not None:\n",
        "#             image = cv2.resize(image, target_size)\n",
        "#             return image / 255.0\n",
        "#         else:\n",
        "#             print(f\"[Warning] Failed to load image: {image_path}\")\n",
        "#             return None\n",
        "#     except Exception as e:\n",
        "#         print(f\"[Error] Processing image {image_path}: {str(e)}\")\n",
        "#         return None\n",
        "\n",
        "\n",
        "# # 3. Load the Full Dataset (Images + Labels)\n",
        "# def load_dataset(image_dir, descriptions_dict, genres=GENRES):\n",
        "#     \"\"\"\n",
        "#     Load images and labels, filter out entries with no matching description.\n",
        "#     Returns: image array, label array, id array\n",
        "#     \"\"\"\n",
        "#     images, labels, movie_ids = [], [], []\n",
        "\n",
        "#     # Initialize label encoder\n",
        "#     label_encoder = LabelEncoder()\n",
        "#     label_encoder.fit(genres)\n",
        "#     print(\"Class to Label Mapping:\", dict(zip(genres, label_encoder.transform(genres))))\n",
        "\n",
        "#     # Traverse genre folders\n",
        "#     for genre in genres:\n",
        "#         genre_path = os.path.join(image_dir, genre)\n",
        "#         for filename in os.listdir(genre_path):\n",
        "#             movie_id = filename.replace('.jpg', '').strip()\n",
        "#             full_path = os.path.join(genre_path, filename)\n",
        "#             image = load_image(full_path)\n",
        "\n",
        "#             if image is not None and movie_id in descriptions_dict:\n",
        "#                 images.append(image)\n",
        "#                 labels.append(label_encoder.transform([genre])[0])\n",
        "#                 movie_ids.append(movie_id)\n",
        "\n",
        "#     return np.array(images), np.array(labels), np.array(movie_ids)"
      ],
      "metadata": {
        "id": "CGEPbzCwJne-"
      },
      "execution_count": null,
      "outputs": []
    },
    {
      "cell_type": "code",
      "source": [
        "# data, labels, ids = load_dataset(DATA_DIR, image_descriptions)\n",
        "# print(data.shape, labels.shape, ids.shape)"
      ],
      "metadata": {
        "id": "zkCes4-bLHx4"
      },
      "execution_count": 6,
      "outputs": []
    },
    {
      "cell_type": "code",
      "source": [
        "# Load image descriptiond\n",
        "# image_descriptions = load_descriptions(CSV_FILE)"
      ],
      "metadata": {
        "id": "xrudhcC6JbB2"
      },
      "execution_count": null,
      "outputs": []
    },
    {
      "cell_type": "code",
      "source": [
        "# Load the poster pixel data\n",
        "\n",
        "# Check if file already exists\n",
        "if not os.path.exists(\"imdb_posters.npz\"):\n",
        "    # Install gdown if needed\n",
        "    !pip install -U -q gdown\n",
        "\n",
        "    # Download the file using the file ID from the shareable link\n",
        "    # Your link: https://drive.google.com/file/d/1NWTzNRxoYgj0IXYvZm7kAcQ0ljbb-6re/view?usp=sharing\n",
        "    # Extract the ID: 1NWTzNRxoYgj0IXYvZm7kAcQ0ljbb-6re\n",
        "    !gdown --id 1NWTzNRxoYgj0IXYvZm7kAcQ0ljbb-6re --output imdb_posters.npz\n",
        "\n",
        "    print(\"Downloaded imdb_posters.npz\")\n",
        "else:\n",
        "    print(\"imdb_posters.npz already exists. Skipping download.\")\n",
        "\n",
        "# Load compressed NumPy archive\n",
        "npzfile = np.load(\"imdb_posters.npz\", allow_pickle=True)\n",
        "\n",
        "# Preview keys in the archive\n",
        "print(\"Contents of NPZ file:\", npzfile.files)\n",
        "\n"
      ],
      "metadata": {
        "colab": {
          "base_uri": "https://localhost:8080/"
        },
        "id": "StDpwHCmWz9X",
        "outputId": "b7d1ecaf-31be-4704-876b-cf777d0e3de4"
      },
      "execution_count": 7,
      "outputs": [
        {
          "output_type": "stream",
          "name": "stdout",
          "text": [
            "/usr/local/lib/python3.11/dist-packages/gdown/__main__.py:140: FutureWarning: Option `--id` was deprecated in version 4.3.1 and will be removed in 5.0. You don't need to pass it anymore to use a file ID.\n",
            "  warnings.warn(\n",
            "Downloading...\n",
            "From: https://drive.google.com/uc?id=1NWTzNRxoYgj0IXYvZm7kAcQ0ljbb-6re\n",
            "To: /content/imdb_posters.npz\n",
            "100% 22.6M/22.6M [00:00<00:00, 77.3MB/s]\n",
            "Downloaded imdb_posters.npz\n",
            "Contents of NPZ file: ['data', 'labels', 'ids']\n"
          ]
        }
      ]
    },
    {
      "cell_type": "code",
      "source": [
        "# Load compressed NumPy archive\n",
        "npzfile = np.load(\"imdb_posters.npz\", allow_pickle=True)\n",
        "\n",
        "data = npzfile['data']\n",
        "labels = npzfile['labels']\n",
        "ids = npzfile['ids']\n",
        "\n",
        "print(data.shape, labels.shape, ids.shape)"
      ],
      "metadata": {
        "colab": {
          "base_uri": "https://localhost:8080/"
        },
        "id": "83KzVr1hLuNH",
        "outputId": "ed99ddf1-1b4e-4c96-fe68-6884d10069ef"
      },
      "execution_count": 8,
      "outputs": [
        {
          "output_type": "stream",
          "name": "stdout",
          "text": [
            "(724, 192, 128) (724,) (724,)\n"
          ]
        }
      ]
    },
    {
      "cell_type": "code",
      "source": [
        "data"
      ],
      "metadata": {
        "colab": {
          "base_uri": "https://localhost:8080/"
        },
        "id": "SD_pj6mwSfjJ",
        "outputId": "ceea9e97-b880-4698-d734-3b55edd44a3f"
      },
      "execution_count": 9,
      "outputs": [
        {
          "output_type": "execute_result",
          "data": {
            "text/plain": [
              "array([[[0.09803922, 0.08627451, 0.10196078, ..., 0.10588235,\n",
              "         0.10588235, 0.10588235],\n",
              "        [0.10196078, 0.08627451, 0.09411765, ..., 0.10588235,\n",
              "         0.10588235, 0.10588235],\n",
              "        [0.10588235, 0.08627451, 0.09019608, ..., 0.10588235,\n",
              "         0.10588235, 0.10588235],\n",
              "        ...,\n",
              "        [0.08235294, 0.05098039, 0.04313725, ..., 0.04705882,\n",
              "         0.03921569, 0.08627451],\n",
              "        [0.08235294, 0.01568627, 0.02352941, ..., 0.01960784,\n",
              "         0.01960784, 0.07058824],\n",
              "        [0.02745098, 0.02745098, 0.02745098, ..., 0.03921569,\n",
              "         0.05098039, 0.03529412]],\n",
              "\n",
              "       [[0.78431373, 0.78823529, 0.79215686, ..., 0.85882353,\n",
              "         0.8627451 , 0.8627451 ],\n",
              "        [0.76862745, 0.77647059, 0.77647059, ..., 0.83921569,\n",
              "         0.84313725, 0.84313725],\n",
              "        [0.76078431, 0.76470588, 0.76862745, ..., 0.82745098,\n",
              "         0.83137255, 0.83137255],\n",
              "        ...,\n",
              "        [0.12156863, 0.07843137, 0.12941176, ..., 0.26666667,\n",
              "         0.1372549 , 0.10980392],\n",
              "        [0.05098039, 0.11372549, 0.05882353, ..., 0.08627451,\n",
              "         0.23137255, 0.27058824],\n",
              "        [0.09019608, 0.17254902, 0.15686275, ..., 0.09019608,\n",
              "         0.08235294, 0.01960784]],\n",
              "\n",
              "       [[1.        , 1.        , 1.        , ..., 1.        ,\n",
              "         1.        , 1.        ],\n",
              "        [0.        , 0.        , 0.        , ..., 0.        ,\n",
              "         0.        , 0.        ],\n",
              "        [0.00392157, 0.00392157, 0.00392157, ..., 0.00392157,\n",
              "         0.00392157, 0.00392157],\n",
              "        ...,\n",
              "        [0.01176471, 0.03529412, 0.04705882, ..., 0.        ,\n",
              "         0.        , 0.        ],\n",
              "        [0.10196078, 0.12941176, 0.14117647, ..., 0.        ,\n",
              "         0.        , 0.        ],\n",
              "        [0.99607843, 0.99607843, 0.99607843, ..., 1.        ,\n",
              "         1.        , 1.        ]],\n",
              "\n",
              "       ...,\n",
              "\n",
              "       [[0.23137255, 0.23137255, 0.23137255, ..., 0.19607843,\n",
              "         0.19607843, 0.19215686],\n",
              "        [0.23529412, 0.23529412, 0.23529412, ..., 0.2       ,\n",
              "         0.2       , 0.19607843],\n",
              "        [0.23921569, 0.23921569, 0.23921569, ..., 0.20392157,\n",
              "         0.20392157, 0.2       ],\n",
              "        ...,\n",
              "        [0.46666667, 0.49803922, 0.48235294, ..., 0.35294118,\n",
              "         0.33333333, 0.32941176],\n",
              "        [0.49019608, 0.47843137, 0.4745098 , ..., 0.34509804,\n",
              "         0.35294118, 0.34509804],\n",
              "        [0.48235294, 0.4745098 , 0.4745098 , ..., 0.35686275,\n",
              "         0.36470588, 0.35686275]],\n",
              "\n",
              "       [[1.        , 1.        , 1.        , ..., 1.        ,\n",
              "         1.        , 1.        ],\n",
              "        [1.        , 1.        , 1.        , ..., 1.        ,\n",
              "         1.        , 1.        ],\n",
              "        [1.        , 1.        , 1.        , ..., 1.        ,\n",
              "         1.        , 1.        ],\n",
              "        ...,\n",
              "        [1.        , 1.        , 1.        , ..., 1.        ,\n",
              "         1.        , 1.        ],\n",
              "        [1.        , 1.        , 1.        , ..., 1.        ,\n",
              "         1.        , 1.        ],\n",
              "        [1.        , 1.        , 1.        , ..., 1.        ,\n",
              "         1.        , 1.        ]],\n",
              "\n",
              "       [[0.67058824, 0.81568627, 0.8       , ..., 0.25098039,\n",
              "         0.14117647, 0.0627451 ],\n",
              "        [0.87058824, 0.77647059, 0.73333333, ..., 0.15294118,\n",
              "         0.29019608, 0.1254902 ],\n",
              "        [0.60784314, 0.80392157, 0.77647059, ..., 0.0745098 ,\n",
              "         0.21960784, 0.09803922],\n",
              "        ...,\n",
              "        [0.45490196, 0.43529412, 0.44313725, ..., 0.18039216,\n",
              "         0.1372549 , 0.2       ],\n",
              "        [0.5372549 , 0.47843137, 0.43529412, ..., 0.08235294,\n",
              "         0.14509804, 0.27843137],\n",
              "        [0.5254902 , 0.51764706, 0.50196078, ..., 0.0627451 ,\n",
              "         0.49803922, 0.17647059]]])"
            ]
          },
          "metadata": {},
          "execution_count": 9
        }
      ]
    },
    {
      "cell_type": "markdown",
      "source": [
        "##### Data\n",
        "- 724 images, size as 192 * 128\n",
        "- each image as a 2D NumPy array with normalized pixel ranging in [0.0, 1.0] <br>\n",
        "\n",
        "##### Label\n",
        "- one label per image, as integer of 1 to 4\n",
        "\n",
        "##### Movie IDs\n",
        "\n",
        "##### Movie Description\n",
        "- dictionary with movie id as key, movie description as value"
      ],
      "metadata": {
        "id": "3D0xQc_fL64o"
      }
    },
    {
      "cell_type": "markdown",
      "source": [
        "## 2. Movie Description Cleaning\n"
      ],
      "metadata": {
        "id": "2UAgK8VMOATQ"
      }
    },
    {
      "cell_type": "code",
      "source": [
        "!pip install contractions\n"
      ],
      "metadata": {
        "id": "IZI1-sucTwpW",
        "colab": {
          "base_uri": "https://localhost:8080/"
        },
        "outputId": "191685a1-875f-421f-f269-96ca44bfb244"
      },
      "execution_count": 10,
      "outputs": [
        {
          "output_type": "stream",
          "name": "stdout",
          "text": [
            "Collecting contractions\n",
            "  Downloading contractions-0.1.73-py2.py3-none-any.whl.metadata (1.2 kB)\n",
            "Collecting textsearch>=0.0.21 (from contractions)\n",
            "  Downloading textsearch-0.0.24-py2.py3-none-any.whl.metadata (1.2 kB)\n",
            "Collecting anyascii (from textsearch>=0.0.21->contractions)\n",
            "  Downloading anyascii-0.3.2-py3-none-any.whl.metadata (1.5 kB)\n",
            "Collecting pyahocorasick (from textsearch>=0.0.21->contractions)\n",
            "  Downloading pyahocorasick-2.1.0-cp311-cp311-manylinux_2_17_x86_64.manylinux2014_x86_64.whl.metadata (13 kB)\n",
            "Downloading contractions-0.1.73-py2.py3-none-any.whl (8.7 kB)\n",
            "Downloading textsearch-0.0.24-py2.py3-none-any.whl (7.6 kB)\n",
            "Downloading anyascii-0.3.2-py3-none-any.whl (289 kB)\n",
            "\u001b[2K   \u001b[90m━━━━━━━━━━━━━━━━━━━━━━━━━━━━━━━━━━━━━━━━\u001b[0m \u001b[32m289.9/289.9 kB\u001b[0m \u001b[31m14.2 MB/s\u001b[0m eta \u001b[36m0:00:00\u001b[0m\n",
            "\u001b[?25hDownloading pyahocorasick-2.1.0-cp311-cp311-manylinux_2_17_x86_64.manylinux2014_x86_64.whl (118 kB)\n",
            "\u001b[2K   \u001b[90m━━━━━━━━━━━━━━━━━━━━━━━━━━━━━━━━━━━━━━━━\u001b[0m \u001b[32m118.3/118.3 kB\u001b[0m \u001b[31m12.4 MB/s\u001b[0m eta \u001b[36m0:00:00\u001b[0m\n",
            "\u001b[?25hInstalling collected packages: pyahocorasick, anyascii, textsearch, contractions\n",
            "Successfully installed anyascii-0.3.2 contractions-0.1.73 pyahocorasick-2.1.0 textsearch-0.0.24\n"
          ]
        }
      ]
    },
    {
      "cell_type": "code",
      "source": [
        "# Movie Description Cleaning\n",
        "import re, string, nltk\n",
        "from nltk.tokenize import word_tokenize\n",
        "from nltk.corpus import stopwords\n",
        "from nltk.stem import WordNetLemmatizer\n",
        "from tqdm.auto import tqdm\n",
        "import contractions\n",
        "\n",
        "nltk.download('stopwords')\n",
        "\n",
        "stop_words = set(stopwords.words(\"english\"))\n",
        "lemmatizer = WordNetLemmatizer()\n",
        "punct_tbl  = str.maketrans(\"\", \"\", string.punctuation)\n",
        "\n",
        "\n",
        "def clean_text(text: str) -> str:\n",
        "    if not isinstance(text, str):\n",
        "        return \"\"\n",
        "    text = contractions.fix(text) # \"doesn't\" → \"does not\"\n",
        "    text = text.strip().lower() # convert to lower case letters\n",
        "    text = re.sub(r\"[^a-z\\s]\", \"\", text) # keep only English letters\n",
        "    text = re.sub(r\"(https?://\\S+|www\\.\\S+|\\S+@\\S+)\", \" \", text)  # drop URLs & e-mails\n",
        "    text = re.sub(r\"\\b\\d+\\b\", \" \", text)                          # replace standalone numbers with space\n",
        "    text = text.translate(punct_tbl)                              # punctuation\n",
        "\n",
        "    # drop stop words\n",
        "    words = text.split()\n",
        "    words = [w for w in words if w not in stop_words]\n",
        "    cleaned = \" \".join(words)\n",
        "\n",
        "    return re.sub(r\"\\s{2,}\", \" \", cleaned).strip()\n",
        "\n",
        "# def tokenize_and_lemmatise(text: str) -> list[str]:\n",
        "#     tokens = word_tokenize(text)\n",
        "#     tokens = [t for t in tokens if t not in stop_words]\n",
        "#     return [lemmatizer.lemmatize(t) for t in tokens]"
      ],
      "metadata": {
        "id": "zKh13OiANn-5",
        "colab": {
          "base_uri": "https://localhost:8080/"
        },
        "outputId": "3b10c674-3efc-4795-a0c2-7191e6524ab6"
      },
      "execution_count": 11,
      "outputs": [
        {
          "output_type": "stream",
          "name": "stderr",
          "text": [
            "[nltk_data] Downloading package stopwords to /root/nltk_data...\n",
            "[nltk_data]   Unzipping corpora/stopwords.zip.\n"
          ]
        }
      ]
    },
    {
      "cell_type": "code",
      "source": [
        "df[\"cleaned_description\"] = df[\"description\"].apply(clean_text)"
      ],
      "metadata": {
        "id": "zgOuOoFGPSh0"
      },
      "execution_count": 12,
      "outputs": []
    },
    {
      "cell_type": "code",
      "source": [
        "df[df[\"movie_id\"] == \"tt12783454\"][\"cleaned_description\"].values[0] # test case"
      ],
      "metadata": {
        "colab": {
          "base_uri": "https://localhost:8080/",
          "height": 178
        },
        "id": "MQt7CCYTS8qe",
        "outputId": "caad0efc-9468-4752-f3cd-db4c86e9a08c"
      },
      "execution_count": null,
      "outputs": [
        {
          "output_type": "execute_result",
          "data": {
            "text/plain": [
              "'elle evans joey king finally completed high school goes road trip week noah flynn jacob elordi lee flynn joel courtney rachel meganne young elle finally decide future unluckily enough elle got accepted two schools harvard berkeley noah got harvard lee berkeley lie saying got waitlisted crush feelings unforgettable adventures camping fishing watching shooting star going aquarium watching sunset although lee elle rule saying must always go school bestie decides think later leave san francisco embarking amazing adventures together unfortunately road trip comes end elle got job waiter get money college despite knowing one go days later noah elle flynns summer house noah asks unexpected question harvard suggested elle gets wait list could go campus get apartment together eventually lee ends jumping balcony drenching noah elle water rachel comes hands drinks elle still ignoring schools buy time noah elle leave lee rachel talk college plans later day lunch mr mrs flynn lee mentions go beach house sadly announce planning sell elle gets call berkeley administration want elles answer would want apply asks small extension give next day decide elle needs decide whether goes noah harvard berkeley lee elles family playing uno little brad carson white wins dances triumph father stephen jennings mentions going date lady called linda bianca amato elle seem thrilled ignores whole situation next day elle lee noah rachel head beach house help flynns sell moment remember beach house meant much crazy adventures rachel lee room rachel accidentally removes doorknob lee remembers elle lee smaller used pretend diamond lee takes rachels hand puts doorknob finger share moment join elle noah looking photo kids elle lee asked start cleaning playroom make two piles stuff want keep stuff donate play stuff stuff goes things want keep elle remembers beach bucket list things wanted going college meet mr mrs flynn balcony discussing would take months get house officially sold elle lee plan persuade ask mr mrs flynn could stay beach house would real hassle clean take care put together flynns parents convinced elle gets reminder berkeley apply calls let know turn offer talks noah said going harvard noah gets excited lee immediately understood happened lee runs away playroom put toys away argument going different schools would affect friendship promises lee ever stay remain friends elle comes idea could make summer best summer ever going complete bucket list elle goes back home tells father staying beach house whole summer father agrees elle lee rachel noah get settled beach house noah announces invited people celebrate last best summer beach house lot friends join omg girls bianco bosch camilla wolfson zandile madliwa tuppen joshua daniel eady ashton cameron scott ashton finished first year berkeley lee ashton get along well makes elle worried next day elle wakes lee air horn elle shows lee bucket list made computer start away start stuff bucket list elle work lee joins boss may daneel van der walt asks elle could extra shifts elle feel comfortable still agrees elle goes table finds marco taylor zakhar perez family back beach house chloe maisie richardsonsellers calls noah mentioning family going la noah invites stay beach house elle noah go walk beach night noah tells elle chloe going around invited stay beach house elle seem bother much invites water park marco invited elle noah happy leaves next day lee elle try convince noah wear costume race day noah denies lee leaves frustratedly ashton lee hang lot elle expected marco stops restaurant elle works says everything settled elle lees event noah chloe hang familys boat talk afterwards chloes parents argue background elle eventually finishes work gets call dad explaining brads babysitter canceled elle take care promised noah chloe hang elle got little bit creative asks brad like join beach house agrees elle asks wanted eat anything said linda already made someone food linda accidentally bumps elle making clothes wet elle happy linda around dating dad leaves hurry back beach house elle chloe play games chloe mentions go pro good video games denies later lee ashton rachel come home lee explains went comic book show went mini golfing next day elle friends go water park compete mario kart race numerous players get left noah marco lead marco wins noah happy noah elle argue marco later day noah chloe play pool talk marco chloe gets message parents getting divorce tells noah tries make big deal elle lee go favorite arcade find note ddr machine saying would get rid back restaurant lee elle talking ddr machine gone lee added last dance ddr machine bucket list elle feeling frustrated overwhelmed bucket list harvard friendship elle goes beach house finds noah made dinner elle apologize last argument elle tells going lee bucket list noah thrilled walks away tears later elle lee friends perform flash mob restaurant gets reminder walks away restaurant goes beach house next morning noah painting doorway frame lee steps says eventually noah walks away elle hand picking brad soccer could find anywhere elle feels worried goes home find brad brad fine tells elle linda picked elle feels little disappointed angry back work elle feeling frustrated chloe noah beach talking elle chloe gets upset noah giving way parents walk marriage elle marco small talk job harvard relationship noah lee elles finish work someone enters realizes noah dance together eventually make marco comes sees window elle noah make amends marco feels disappointed walks away next day noah finds elles application letter berkeley elle calls marco apologize last night explains happened marco understands still feels little disappointed noah tells chloe letter forth july beach party marco shows noah okay elle friends play volleyball marco ends punching noah face assumes still elle noah gives dirty look marco leaves elle upset marco pushes away marco confesses feelings elle elle rejects night elles family rachel lee lees parents play monopoly elle still upset linda picks dog piece elle takes anyway explains linda cannot replace mother walk life like father disappointed elle walks away fury elle realizes noah could meets hollywood sign talk noah thinks good idea split elle runs away devastated realizes late dance last dance ddr machine finds lee argue next day chloe elle talk noah elles relationship rachel overhears rachel reconsiders relationship lee elle mrs flynn talk elles future choices rachel lee talk relationship rachel thinks break distance end tears hug elles house elle apologizes father linda explains linda mother used always pick dog piece linda understands make amends realizes passionate everyone says last goodbyes elle explains got berkeley lee want crush feelings decided best elle roams around beach house last time remembers memories elle lee last talk lee leaves takes diamond doorknob mrs flynn finalize deal reconsiders sell beach house years later la elle lee still touch lee rachel got back together got engaged quickly find people still kissing booth noah appears elle noah reconcile stay touch well final shot ride motorcycles together sun'"
            ],
            "application/vnd.google.colaboratory.intrinsic+json": {
              "type": "string"
            }
          },
          "metadata": {},
          "execution_count": 22
        }
      ]
    },
    {
      "cell_type": "code",
      "source": [
        "# # Load movie descriptions as dictionary\n",
        "# description_dict = dict(zip(df['movie_id'], df['description']))\n",
        "# print(description_dict['tt12783454'][:100]) # testting\n",
        "\n",
        "# # Get descriptions that match image ids\n",
        "# matched_descriptions = [description_dict[movie_id] for movie_id in ids]\n"
      ],
      "metadata": {
        "id": "ckwW5jM-L84N"
      },
      "execution_count": null,
      "outputs": []
    },
    {
      "cell_type": "markdown",
      "source": [
        "## 3. Movie Description Summarization Tool - Build a summarization tool and summarize a few of the movies."
      ],
      "metadata": {
        "id": "2TyXcJwfRb2a"
      }
    },
    {
      "cell_type": "code",
      "source": [
        "# !pip install transformers"
      ],
      "metadata": {
        "id": "RZWw9IBPSCQ-"
      },
      "execution_count": null,
      "outputs": []
    },
    {
      "cell_type": "code",
      "source": [
        "from transformers import PegasusTokenizer, PegasusForConditionalGeneration\n",
        "from transformers import pipeline\n",
        "\n",
        "# Load Pegasus\n",
        "model_name = \"google/pegasus-cnn_dailymail\"\n",
        "summarizer = pipeline(\"summarization\", model=model_name, tokenizer=model_name)\n"
      ],
      "metadata": {
        "id": "wAA7YrGIRfGZ",
        "colab": {
          "base_uri": "https://localhost:8080/",
          "height": 422,
          "referenced_widgets": [
            "6721889693b04558b4618c4ac658d313",
            "53fdff721ea649318e415a04f1463bf9",
            "fdadf302599e48db9176143f6a3b053f",
            "904ec1d2cad84b8d8d24c9a5c64b5398",
            "bab8099a7777442682b7b45c90b6889e",
            "f12f1b7b94324328ab166f2af0ac87c8",
            "811f0cd882d3412dae78ed28dfee8994",
            "a3b7ac9901ad4d59ae203006661b1be0",
            "eb47bff994c64c88962fbff30e6c6b13",
            "c7c816e9b2dd4d56aa24cb9145d91168",
            "1ed617f690934daa8e7c4375b6527281",
            "1f5a1d12037e48aa8902f8fca121c983",
            "34d1d0e64324430ba7b7542a6ecff1a5",
            "a191d78b6c584d61a213450d0e8233c2",
            "6f1b2b25cb28428789f3dcb9bb4e69d5",
            "98503acbe25c4505aef06f0415d772c6",
            "5d79456bf9634e02bae37ff3249ba597",
            "c34616f55550429fbc19f2bcc6eeec0b",
            "c364c8c14bb4443b9ddd318dbeab65ff",
            "a134968dad5b41ecb8f7b494e47d893d",
            "a8915a1fbc214a8493ac8657089ceb77",
            "0cdc43977120467081eb876ed4980fb1",
            "ee1204ce7ba648fdad7334b2f28176a9",
            "e52cec7bcbba4c159fc83788d5d1ef3d",
            "157035b67a194fefb2de8f07a546953d",
            "58c2434c8cc549cdb05564c674da986e",
            "82facc790c0e43219c162bd1dc10bfc7",
            "12388fb7c4d2479ab125b833ef031141",
            "e55138145085403fa56f955f85e82e8b",
            "7698f0c7e40a466897767b2d57278f8f",
            "ae2ab43c938848eea11c63357b3180bf",
            "e2ac9bd18b4c4c3d850659ad5d8845ab",
            "b5972b861db14b93962122357714b9c3",
            "dfa084a048574182a5a0893a45ed5b04",
            "0c03e67959884a2abd710a4c8f371bdd",
            "0ccb14de302844259228da761bd6921c",
            "b7a3411b75dc4fd2a4889c2e64326696",
            "4016add14c924fdd9487f43d99c765f5",
            "8f661fc0ed8541b58614220d6bce04e9",
            "ef842fc472f24d29979f76982902a1b2",
            "f7d720e7f5df4e0cac4b11770e5b7d36",
            "dd7f69470c9a458aafec3b5531db8014",
            "b7f7a9a61deb4e429c2a8628eecda3c2",
            "37d930c39cd5466f9c66a529d13ef2d9",
            "af771d26dfc343bdb9762288760a7c63",
            "fd075f2746924ccc88df7f971db756b2",
            "0acc0404a9174c8a9b63051b0010a488",
            "19e3105829054e28ab73d8fcfb09ce65",
            "9b45605f085d432290bb996b91e7f962",
            "1be722349eda4386b83730a410574212",
            "a2dd5c1eb3a64f75ab1eb538f673f4ca",
            "147664e5015040ffa6f879d181720fb4",
            "0ca9ceea3d334593ae147d4afe7603cd",
            "3328435b3ecc49ec82f17135d9a01ac5",
            "17406bdf72cb46fabdd644afa72ebd3d",
            "b5d0e4db8f9b4742908155c9b2aba692",
            "7b63968934de41289f5fb9b5970e6962",
            "53a7e41875c741159b02bd0cdee817d1",
            "86be35b403ce4424b0ed7e2dcbba241b",
            "516822bbe11b47749c81615b82b5b978",
            "9e015c7e1ccc4f0c945fae804f7d74e2",
            "fc333167f74d46a8abc5046c841cd71b",
            "030f07507e654ab690ef59fab0f141cd",
            "aea589a466c2434d95ce3661aacffb7a",
            "663adee1a0fa4a9a992006f31ec3ffb8",
            "a0eb53ed39da41d6baf0ae61ef96aa6a",
            "c72a6d0b99f64daf87f603995f621ed0",
            "e42ffd57a0a3404f8d6df04a3c2159a5",
            "d5acb2e055524a818a5cd4352918aaff",
            "ccd3fa63c5a844698a00dc1774d6e76c",
            "f2c2af914d064dc5985bdce482c5e1c4",
            "1c4c0647759c4bc09193b9cf1b4a1cb8",
            "a2092c6fd0a347b7ab87397461613995",
            "1d630cf63fd5429f9936bb1c84ba47f9",
            "e572287e656b43138d89538e2045429f",
            "acf71eb59963493aaf3704ddbbfeadbe",
            "bbcea164fdcf4a43ae6b5bbf1cf7292a"
          ]
        },
        "outputId": "76d25aeb-3bb7-4cd4-efc8-1c6ec73b80be"
      },
      "execution_count": null,
      "outputs": [
        {
          "output_type": "stream",
          "name": "stderr",
          "text": [
            "/usr/local/lib/python3.11/dist-packages/huggingface_hub/utils/_auth.py:94: UserWarning: \n",
            "The secret `HF_TOKEN` does not exist in your Colab secrets.\n",
            "To authenticate with the Hugging Face Hub, create a token in your settings tab (https://huggingface.co/settings/tokens), set it as secret in your Google Colab and restart your session.\n",
            "You will be able to reuse this secret in all of your notebooks.\n",
            "Please note that authentication is recommended but still optional to access public models or datasets.\n",
            "  warnings.warn(\n"
          ]
        },
        {
          "output_type": "display_data",
          "data": {
            "text/plain": [
              "config.json:   0%|          | 0.00/1.12k [00:00<?, ?B/s]"
            ],
            "application/vnd.jupyter.widget-view+json": {
              "version_major": 2,
              "version_minor": 0,
              "model_id": "6721889693b04558b4618c4ac658d313"
            }
          },
          "metadata": {}
        },
        {
          "output_type": "display_data",
          "data": {
            "text/plain": [
              "pytorch_model.bin:   0%|          | 0.00/2.28G [00:00<?, ?B/s]"
            ],
            "application/vnd.jupyter.widget-view+json": {
              "version_major": 2,
              "version_minor": 0,
              "model_id": "1f5a1d12037e48aa8902f8fca121c983"
            }
          },
          "metadata": {}
        },
        {
          "output_type": "display_data",
          "data": {
            "text/plain": [
              "model.safetensors:   0%|          | 0.00/2.28G [00:00<?, ?B/s]"
            ],
            "application/vnd.jupyter.widget-view+json": {
              "version_major": 2,
              "version_minor": 0,
              "model_id": "ee1204ce7ba648fdad7334b2f28176a9"
            }
          },
          "metadata": {}
        },
        {
          "output_type": "stream",
          "name": "stderr",
          "text": [
            "Some weights of PegasusForConditionalGeneration were not initialized from the model checkpoint at google/pegasus-cnn_dailymail and are newly initialized: ['model.decoder.embed_positions.weight', 'model.encoder.embed_positions.weight']\n",
            "You should probably TRAIN this model on a down-stream task to be able to use it for predictions and inference.\n"
          ]
        },
        {
          "output_type": "display_data",
          "data": {
            "text/plain": [
              "generation_config.json:   0%|          | 0.00/280 [00:00<?, ?B/s]"
            ],
            "application/vnd.jupyter.widget-view+json": {
              "version_major": 2,
              "version_minor": 0,
              "model_id": "dfa084a048574182a5a0893a45ed5b04"
            }
          },
          "metadata": {}
        },
        {
          "output_type": "display_data",
          "data": {
            "text/plain": [
              "tokenizer_config.json:   0%|          | 0.00/88.0 [00:00<?, ?B/s]"
            ],
            "application/vnd.jupyter.widget-view+json": {
              "version_major": 2,
              "version_minor": 0,
              "model_id": "af771d26dfc343bdb9762288760a7c63"
            }
          },
          "metadata": {}
        },
        {
          "output_type": "display_data",
          "data": {
            "text/plain": [
              "spiece.model:   0%|          | 0.00/1.91M [00:00<?, ?B/s]"
            ],
            "application/vnd.jupyter.widget-view+json": {
              "version_major": 2,
              "version_minor": 0,
              "model_id": "b5d0e4db8f9b4742908155c9b2aba692"
            }
          },
          "metadata": {}
        },
        {
          "output_type": "display_data",
          "data": {
            "text/plain": [
              "special_tokens_map.json:   0%|          | 0.00/65.0 [00:00<?, ?B/s]"
            ],
            "application/vnd.jupyter.widget-view+json": {
              "version_major": 2,
              "version_minor": 0,
              "model_id": "c72a6d0b99f64daf87f603995f621ed0"
            }
          },
          "metadata": {}
        },
        {
          "output_type": "stream",
          "name": "stderr",
          "text": [
            "Device set to use cpu\n"
          ]
        }
      ]
    },
    {
      "cell_type": "code",
      "source": [
        "def summarize_with_pegasus(text, max_length=120, min_length=30):\n",
        "    text = text.strip().replace(\"\\n\", \" \")\n",
        "    # Truncate to avoid exceeding token limit (~1024 tokens)\n",
        "    if len(text.split()) > 500:\n",
        "        text = \" \".join(text.split()[:500])\n",
        "\n",
        "    summary = summarizer(text, max_length=max_length, min_length=min_length, do_sample=False)\n",
        "    return summary[0]['summary_text']\n"
      ],
      "metadata": {
        "id": "BuBL-mprWEtP"
      },
      "execution_count": null,
      "outputs": []
    },
    {
      "cell_type": "code",
      "source": [
        "example_text = df[df['movie_id'] == 'tt12783454']['description'].values[0]\n",
        "print(\"Pegasus Summary:\\n\")\n",
        "print(summarize_with_pegasus(example_text))\n"
      ],
      "metadata": {
        "colab": {
          "base_uri": "https://localhost:8080/",
          "height": 91
        },
        "id": "bQ5U1lokWGgr",
        "outputId": "cfc9274f-5f49-45f6-f3ad-82771acb62f9"
      },
      "execution_count": null,
      "outputs": [
        {
          "output_type": "stream",
          "name": "stdout",
          "text": [
            "Pegasus Summary:\n",
            "\n",
            "Elle Evans (Joey King) has finally completed high school and goes on a road trip for a week with Noah Flynn (Jacob Elordi), Lee Flynn (Joel Courtney), and Rachel (Meganne Young)<n>Unluckily enough, Elle got accepted into two schools: Harvard and Berkeley.<n>Now, Elle needs to decide, whether she goes with Noah to Harvard or to Berkeley with Lee.\n"
          ]
        }
      ]
    },
    {
      "cell_type": "code",
      "source": [
        "example_text = df[df['movie_id'] == 'tt12783454']['cleaned_description'].values[0]\n",
        "print(\"Pegasus Summary:\\n\")\n",
        "print(summarize_with_pegasus(example_text))"
      ],
      "metadata": {
        "colab": {
          "base_uri": "https://localhost:8080/"
        },
        "id": "uVXndJp3Wf6g",
        "outputId": "7578a296-61d4-4fd8-b135-22b44916b571"
      },
      "execution_count": null,
      "outputs": [
        {
          "output_type": "stream",
          "name": "stdout",
          "text": [
            "Pegasus Summary:\n",
            "\n",
            "elle evans finally completed high school goes road noah flynn jacob elordi lee flynn joel courtney nne young elle finally decide enough elle got accepted two schools berkeley fishing noah got lee lee lying saying got waitlisted crush feelings unforgettable adventures .\n"
          ]
        }
      ]
    },
    {
      "cell_type": "code",
      "source": [],
      "metadata": {
        "id": "nccPbCPjYIut"
      },
      "execution_count": null,
      "outputs": []
    },
    {
      "cell_type": "code",
      "source": [],
      "metadata": {
        "id": "X9CdAmPEYIpL"
      },
      "execution_count": null,
      "outputs": []
    },
    {
      "cell_type": "code",
      "source": [],
      "metadata": {
        "id": "M0tmk_QkYIjG"
      },
      "execution_count": null,
      "outputs": []
    },
    {
      "cell_type": "markdown",
      "source": [],
      "metadata": {
        "id": "RofM9wo7YI5o"
      }
    },
    {
      "cell_type": "code",
      "source": [],
      "metadata": {
        "id": "rwN3yW5EYIdP"
      },
      "execution_count": null,
      "outputs": []
    },
    {
      "cell_type": "code",
      "source": [],
      "metadata": {
        "id": "VcmPtojHYIWZ"
      },
      "execution_count": 20,
      "outputs": []
    },
    {
      "cell_type": "code",
      "source": [],
      "metadata": {
        "id": "FN6zM5J0YIKl"
      },
      "execution_count": 14,
      "outputs": []
    },
    {
      "cell_type": "code",
      "source": [],
      "metadata": {
        "id": "0OJLysjTYH30"
      },
      "execution_count": null,
      "outputs": []
    },
    {
      "cell_type": "markdown",
      "source": [
        "## 4+5. Build at least four models on the dataset. You must have at least one naive bayes model, one generalized linear model (ex: logistic regression), and one tensorflow model (ex: LSTM) & Evaulate the models in terms of overall accuracy and accuracy by genre.\n"
      ],
      "metadata": {
        "id": "4gjdWauJYJkb"
      }
    },
    {
      "cell_type": "code",
      "source": [
        "!pip install -q scikit-learn pandas\n",
        "!pip install --upgrade transformers datasets"
      ],
      "metadata": {
        "id": "crLVUOAeZaEg"
      },
      "execution_count": null,
      "outputs": []
    },
    {
      "cell_type": "code",
      "source": [
        "import pandas as pd\n",
        "import numpy as np\n",
        "import re\n",
        "import torch\n",
        "import tensorflow as tf\n",
        "\n",
        "from sklearn.model_selection import train_test_split\n",
        "from sklearn.preprocessing import LabelEncoder\n",
        "from sklearn.feature_extraction.text import TfidfVectorizer\n",
        "from sklearn.naive_bayes import MultinomialNB\n",
        "from sklearn.linear_model import LogisticRegression\n",
        "from sklearn.metrics import classification_report, confusion_matrix\n",
        "\n",
        "from tensorflow.keras.models import Sequential\n",
        "from tensorflow.keras.layers import Embedding, LSTM, Dense, Bidirectional\n",
        "from tensorflow.keras.preprocessing.text import Tokenizer\n",
        "from tensorflow.keras.preprocessing.sequence import pad_sequences\n",
        "from tensorflow.keras.layers import Dropout\n",
        "\n",
        "from transformers import DistilBertTokenizerFast, DistilBertForSequenceClassification, Trainer, TrainingArguments\n",
        "from datasets import Dataset"
      ],
      "metadata": {
        "id": "V6DJjyGy12_V"
      },
      "execution_count": 13,
      "outputs": []
    },
    {
      "cell_type": "markdown",
      "source": [
        "- preprocess"
      ],
      "metadata": {
        "id": "ohx8HU5_1wwN"
      }
    },
    {
      "cell_type": "code",
      "source": [
        "# Label encoding\n",
        "le = LabelEncoder()\n",
        "df[\"label\"] = le.fit_transform(df[\"genre\"])  # 0–3 for 4 genres\n",
        "\n",
        "# Split text and labels\n",
        "X = df[\"cleaned_description\"]\n",
        "y = df[\"label\"]\n",
        "X_train, X_test, y_train, y_test = train_test_split(X, y, test_size=0.2, stratify=y, random_state=42)\n"
      ],
      "metadata": {
        "id": "RU77fFf81rwm"
      },
      "execution_count": 14,
      "outputs": []
    },
    {
      "cell_type": "markdown",
      "source": [
        "* model 1:  Naive Bayes (required) + Logisitc Regression (required)"
      ],
      "metadata": {
        "id": "5RIJMTyIYhjY"
      }
    },
    {
      "cell_type": "markdown",
      "source": [
        "### Why Naive Bayes and Logistic Regression do NOT use tokenized sequences\n",
        "They operate on vectorized text features, like from TfidfVectorizer, not raw tokens or sequences.\n",
        "\n",
        "These are linear models and require fixed-length feature vectors (not sequences).\n",
        "\n",
        "So instead of using sequences of word indices (like [4, 98, 23, ...]), they use a term-document matrix generated by:"
      ],
      "metadata": {
        "id": "lEaL-OFveNP-"
      }
    },
    {
      "cell_type": "code",
      "source": [
        "# TF-IDF vectorizer\n",
        "vectorizer = TfidfVectorizer(max_features=5000, ngram_range=(1, 2))\n",
        "X_train_vec = vectorizer.fit_transform(X_train)\n",
        "X_test_vec = vectorizer.transform(X_test)\n",
        "\n",
        "# Naive Bayes\n",
        "nb_model = MultinomialNB().fit(X_train_vec, y_train)\n",
        "y_pred_nb = nb_model.predict(X_test_vec)\n",
        "\n",
        "# Logistic Regression\n",
        "lr_model = LogisticRegression(max_iter=1000).fit(X_train_vec, y_train)\n",
        "y_pred_lr = lr_model.predict(X_test_vec)\n",
        "\n",
        "# Evaluation\n",
        "print(\"=== Naive Bayes ===\")\n",
        "print(classification_report(y_test, y_pred_nb, target_names=le.classes_))\n",
        "\n",
        "print(\"=== Logistic Regression ===\")\n",
        "print(classification_report(y_test, y_pred_lr, target_names=le.classes_))\n"
      ],
      "metadata": {
        "colab": {
          "base_uri": "https://localhost:8080/"
        },
        "id": "vQFf0d2iYM2z",
        "outputId": "c75ca27b-406f-4da5-8c98-48c4bbb5b51d"
      },
      "execution_count": 22,
      "outputs": [
        {
          "output_type": "stream",
          "name": "stdout",
          "text": [
            "=== Naive Bayes ===\n",
            "              precision    recall  f1-score   support\n",
            "\n",
            "      action       0.78      0.86      0.82        50\n",
            "      comedy       0.64      0.46      0.53        50\n",
            "      horror       0.76      0.78      0.77        50\n",
            "     romance       0.64      0.74      0.69        50\n",
            "\n",
            "    accuracy                           0.71       200\n",
            "   macro avg       0.71      0.71      0.70       200\n",
            "weighted avg       0.71      0.71      0.70       200\n",
            "\n",
            "=== Logistic Regression ===\n",
            "              precision    recall  f1-score   support\n",
            "\n",
            "      action       0.75      0.88      0.81        50\n",
            "      comedy       0.63      0.66      0.65        50\n",
            "      horror       0.84      0.72      0.77        50\n",
            "     romance       0.72      0.66      0.69        50\n",
            "\n",
            "    accuracy                           0.73       200\n",
            "   macro avg       0.73      0.73      0.73       200\n",
            "weighted avg       0.73      0.73      0.73       200\n",
            "\n"
          ]
        }
      ]
    },
    {
      "cell_type": "markdown",
      "source": [
        "* model 3: LSTM / BiLSTM (required - TensorFlow)\n"
      ],
      "metadata": {
        "id": "DfpEykK3YovR"
      }
    },
    {
      "cell_type": "code",
      "source": [
        "keras_tokenizer = Tokenizer(num_words=10000, oov_token=\"<OOV>\")\n",
        "keras_tokenizer.fit_on_texts(X)\n",
        "\n",
        "X_seq = keras_tokenizer.texts_to_sequences(X)\n",
        "X_seq = pad_sequences(X_seq, maxlen=300)\n",
        "\n",
        "X_seq_train, X_seq_test, y_seq_train, y_seq_test = train_test_split(X_seq, y, test_size=0.2, stratify=y, random_state=42)\n",
        "\n",
        "lstm_model = Sequential([\n",
        "    Embedding(input_dim=10000, output_dim=64),\n",
        "    Bidirectional(LSTM(64, return_sequences=False)),\n",
        "    Dropout(0.5),\n",
        "    Dense(64, activation='relu'),\n",
        "    Dropout(0.5),\n",
        "    Dense(4, activation='softmax')\n",
        "])\n",
        "\n",
        "lstm_model.compile(loss='sparse_categorical_crossentropy', optimizer='adam', metrics=['accuracy'])\n",
        "history = lstm_model.fit(\n",
        "    X_seq_train, y_seq_train,\n",
        "    epochs=5,\n",
        "    validation_split=0.1,\n",
        "    batch_size=32\n",
        ")\n",
        "# 3. Evaluate the model\n",
        "lstm_loss, lstm_acc = lstm_model.evaluate(X_seq_test, y_seq_test)\n",
        "print(f\"LSTM Accuracy: {lstm_acc:.4f}\")\n",
        "\n",
        "# 4. Plot accuracy over epochs\n",
        "import matplotlib.pyplot as plt\n",
        "\n",
        "plt.plot(history.history['accuracy'], label='Train')\n",
        "plt.plot(history.history['val_accuracy'], label='Validation')\n",
        "plt.title('LSTM Model Accuracy')\n",
        "plt.xlabel('Epoch')\n",
        "plt.ylabel('Accuracy')\n",
        "plt.legend()\n",
        "plt.grid(True)\n",
        "plt.show()\n"
      ],
      "metadata": {
        "colab": {
          "base_uri": "https://localhost:8080/",
          "height": 686
        },
        "id": "z0MLL81Atc3m",
        "outputId": "de395d8d-690a-48fe-da12-739a8b96c7b4"
      },
      "execution_count": 23,
      "outputs": [
        {
          "output_type": "stream",
          "name": "stdout",
          "text": [
            "Epoch 1/5\n",
            "\u001b[1m23/23\u001b[0m \u001b[32m━━━━━━━━━━━━━━━━━━━━\u001b[0m\u001b[37m\u001b[0m \u001b[1m28s\u001b[0m 500ms/step - accuracy: 0.2490 - loss: 1.3877 - val_accuracy: 0.3750 - val_loss: 1.3755\n",
            "Epoch 2/5\n",
            "\u001b[1m23/23\u001b[0m \u001b[32m━━━━━━━━━━━━━━━━━━━━\u001b[0m\u001b[37m\u001b[0m \u001b[1m16s\u001b[0m 354ms/step - accuracy: 0.2938 - loss: 1.3744 - val_accuracy: 0.3625 - val_loss: 1.3667\n",
            "Epoch 3/5\n",
            "\u001b[1m23/23\u001b[0m \u001b[32m━━━━━━━━━━━━━━━━━━━━\u001b[0m\u001b[37m\u001b[0m \u001b[1m16s\u001b[0m 604ms/step - accuracy: 0.3424 - loss: 1.3660 - val_accuracy: 0.4375 - val_loss: 1.3199\n",
            "Epoch 4/5\n",
            "\u001b[1m23/23\u001b[0m \u001b[32m━━━━━━━━━━━━━━━━━━━━\u001b[0m\u001b[37m\u001b[0m \u001b[1m19s\u001b[0m 522ms/step - accuracy: 0.5116 - loss: 1.2196 - val_accuracy: 0.5250 - val_loss: 1.0703\n",
            "Epoch 5/5\n",
            "\u001b[1m23/23\u001b[0m \u001b[32m━━━━━━━━━━━━━━━━━━━━\u001b[0m\u001b[37m\u001b[0m \u001b[1m20s\u001b[0m 477ms/step - accuracy: 0.6330 - loss: 0.8504 - val_accuracy: 0.5500 - val_loss: 1.0218\n",
            "\u001b[1m7/7\u001b[0m \u001b[32m━━━━━━━━━━━━━━━━━━━━\u001b[0m\u001b[37m\u001b[0m \u001b[1m1s\u001b[0m 70ms/step - accuracy: 0.5130 - loss: 1.1269\n",
            "LSTM Accuracy: 0.4600\n"
          ]
        },
        {
          "output_type": "display_data",
          "data": {
            "text/plain": [
              "<Figure size 640x480 with 1 Axes>"
            ],
            "image/png": "[encoded data removed]"
          },
          "metadata": {}
        }
      ]
    },
    {
      "cell_type": "code",
      "source": [
        "# plot model\n",
        "from tensorflow.keras.utils import plot_model\n",
        "\n",
        "# Plot model architecture\n",
        "plot_model(lstm_model, to_file=\"lstm_model_architecture.png\", show_shapes=True, show_layer_names=True)\n"
      ],
      "metadata": {
        "colab": {
          "base_uri": "https://localhost:8080/",
          "height": 1000
        },
        "id": "df7piYJ5ko7Z",
        "outputId": "6f2bc548-84d3-474f-fcaa-452889c510d4"
      },
      "execution_count": 24,
      "outputs": [
        {
          "output_type": "execute_result",
          "data": {
            "image/png": "[encoded data removed]",
            "text/plain": [
              "<IPython.core.display.Image object>"
            ]
          },
          "metadata": {},
          "execution_count": 24
        }
      ]
    },
    {
      "cell_type": "code",
      "source": [
        "from transformers import DistilBertTokenizerFast, DistilBertForSequenceClassification, Trainer, TrainingArguments\n",
        "from sklearn.model_selection import train_test_split\n",
        "from datasets import Dataset\n",
        "import os\n",
        "# Initialize trainer and train\n",
        "from transformers import DataCollatorWithPadding\n",
        "\n",
        "os.environ[\"WANDB_DISABLED\"] = \"true\"\n",
        "# Tokenizer and model\n",
        "hf_tokenizer = DistilBertTokenizerFast.from_pretrained('distilbert-base-uncased')\n",
        "\n",
        "# Train-test split\n",
        "train_texts, val_texts, train_labels, val_labels = train_test_split(\n",
        "    X.tolist(), y.tolist(), test_size=0.2, stratify=y, random_state=42\n",
        ")\n",
        "\n",
        "\n",
        "train_enc = hf_tokenizer(train_texts, truncation=True, padding=True, max_length=256)\n",
        "val_enc = hf_tokenizer(val_texts, truncation=True, padding=True, max_length=256)\n",
        "\n",
        "# Create Hugging Face datasets\n",
        "train_dataset = Dataset.from_dict({\n",
        "    'input_ids': train_enc['input_ids'],\n",
        "    'attention_mask': train_enc['attention_mask'],\n",
        "    'labels': train_labels\n",
        "})\n",
        "val_dataset = Dataset.from_dict({\n",
        "    'input_ids': val_enc['input_ids'],\n",
        "    'attention_mask': val_enc['attention_mask'],\n",
        "    'labels': val_labels\n",
        "})\n",
        "\n",
        "# Load model\n",
        "hf_model = DistilBertForSequenceClassification.from_pretrained('distilbert-base-uncased', num_labels=4)\n",
        "\n",
        "# Define training arguments\n",
        "training_args = TrainingArguments(\n",
        "    output_dir=\"./results\",\n",
        "    do_train=True,\n",
        "    do_eval=True,\n",
        "    logging_dir='./logs',\n",
        "    logging_steps=20,\n",
        "    per_device_train_batch_size=16,\n",
        "    per_device_eval_batch_size=16,\n",
        "    num_train_epochs=3,\n",
        "    learning_rate=2e-5,\n",
        "    weight_decay=0.01\n",
        ")\n",
        "\n",
        "data_collator = DataCollatorWithPadding(tokenizer=hf_tokenizer)\n",
        "\n",
        "trainer = Trainer(\n",
        "    model=hf_model,\n",
        "    args=training_args,\n",
        "    train_dataset=train_dataset,\n",
        "    eval_dataset=val_dataset,\n",
        "    data_collator=data_collator,  # ← new\n",
        ")\n",
        "\n",
        "\n",
        "trainer.train()\n",
        "\n"
      ],
      "metadata": {
        "colab": {
          "base_uri": "https://localhost:8080/",
          "height": 422
        },
        "id": "DiZYYXyousVb",
        "outputId": "adaa28f3-5f7c-406f-9a3f-71aa25f111c8"
      },
      "execution_count": 16,
      "outputs": [
        {
          "output_type": "stream",
          "name": "stderr",
          "text": [
            "Some weights of DistilBertForSequenceClassification were not initialized from the model checkpoint at distilbert-base-uncased and are newly initialized: ['classifier.bias', 'classifier.weight', 'pre_classifier.bias', 'pre_classifier.weight']\n",
            "You should probably TRAIN this model on a down-stream task to be able to use it for predictions and inference.\n",
            "Using the `WANDB_DISABLED` environment variable is deprecated and will be removed in v5. Use the --report_to flag to control the integrations used for logging result (for instance --report_to none).\n"
          ]
        },
        {
          "output_type": "display_data",
          "data": {
            "text/plain": [
              "<IPython.core.display.HTML object>"
            ],
            "text/html": [
              "\n",
              "    <div>\n",
              "      \n",
              "      <progress value='150' max='150' style='width:300px; height:20px; vertical-align: middle;'></progress>\n",
              "      [150/150 00:54, Epoch 3/3]\n",
              "    </div>\n",
              "    <table border=\"1\" class=\"dataframe\">\n",
              "  <thead>\n",
              " <tr style=\"text-align: left;\">\n",
              "      <th>Step</th>\n",
              "      <th>Training Loss</th>\n",
              "    </tr>\n",
              "  </thead>\n",
              "  <tbody>\n",
              "    <tr>\n",
              "      <td>20</td>\n",
              "      <td>1.381200</td>\n",
              "    </tr>\n",
              "    <tr>\n",
              "      <td>40</td>\n",
              "      <td>1.315500</td>\n",
              "    </tr>\n",
              "    <tr>\n",
              "      <td>60</td>\n",
              "      <td>1.201000</td>\n",
              "    </tr>\n",
              "    <tr>\n",
              "      <td>80</td>\n",
              "      <td>1.006100</td>\n",
              "    </tr>\n",
              "    <tr>\n",
              "      <td>100</td>\n",
              "      <td>0.899900</td>\n",
              "    </tr>\n",
              "    <tr>\n",
              "      <td>120</td>\n",
              "      <td>0.829800</td>\n",
              "    </tr>\n",
              "    <tr>\n",
              "      <td>140</td>\n",
              "      <td>0.782800</td>\n",
              "    </tr>\n",
              "  </tbody>\n",
              "</table><p>"
            ]
          },
          "metadata": {}
        },
        {
          "output_type": "execute_result",
          "data": {
            "text/plain": [
              "TrainOutput(global_step=150, training_loss=1.0373131529490154, metrics={'train_runtime': 56.3016, 'train_samples_per_second': 42.628, 'train_steps_per_second': 2.664, 'total_flos': 158966548070400.0, 'train_loss': 1.0373131529490154, 'epoch': 3.0})"
            ]
          },
          "metadata": {},
          "execution_count": 16
        }
      ]
    },
    {
      "cell_type": "markdown",
      "source": [
        "* model 4: Transformer - DistilBERT or BERT (fine-tuned)"
      ],
      "metadata": {
        "id": "MJ8lTbUEusdS"
      }
    },
    {
      "cell_type": "code",
      "source": [
        "\n",
        "eval_results = trainer.evaluate()\n",
        "print(eval_results)\n",
        "\n"
      ],
      "metadata": {
        "colab": {
          "base_uri": "https://localhost:8080/",
          "height": 75
        },
        "id": "SrchmvpxJ0fI",
        "outputId": "509a677c-4ee1-448f-901d-2c38b2f77404"
      },
      "execution_count": 17,
      "outputs": [
        {
          "output_type": "display_data",
          "data": {
            "text/plain": [
              "<IPython.core.display.HTML object>"
            ],
            "text/html": [
              "\n",
              "    <div>\n",
              "      \n",
              "      <progress value='13' max='13' style='width:300px; height:20px; vertical-align: middle;'></progress>\n",
              "      [13/13 00:01]\n",
              "    </div>\n",
              "    "
            ]
          },
          "metadata": {}
        },
        {
          "output_type": "stream",
          "name": "stdout",
          "text": [
            "{'eval_loss': 0.7909554839134216, 'eval_runtime': 1.3648, 'eval_samples_per_second': 146.541, 'eval_steps_per_second': 9.525, 'epoch': 3.0}\n"
          ]
        }
      ]
    },
    {
      "cell_type": "markdown",
      "source": [
        "# save & load models"
      ],
      "metadata": {
        "id": "mkYL6trA-U-8"
      }
    },
    {
      "cell_type": "code",
      "source": [
        "# save models: Naive Bayes & Logistic Regression (Scikit-Learn)\n",
        "\n",
        "import joblib\n",
        "\n",
        "joblib.dump(nb_model, \"naive_bayes_model.pkl\")\n",
        "joblib.dump(lr_model, \"logistic_regression_model.pkl\")\n",
        "joblib.dump(vectorizer, \"tfidf_vectorizer.pkl\")\n",
        "\n",
        "# load\n",
        "nb_model = joblib.load(\"naive_bayes_model.pkl\")\n",
        "lr_model = joblib.load(\"logistic_regression_model.pkl\")\n",
        "vectorizer = joblib.load(\"tfidf_vectorizer.pkl\")\n"
      ],
      "metadata": {
        "id": "K1Iu5yKF94mf"
      },
      "execution_count": 26,
      "outputs": []
    },
    {
      "cell_type": "code",
      "source": [
        "# save models: LSTM (Keras)\n",
        "\n",
        "lstm_model.save(\"lstm_model.keras\")  # or .h5 for legacy format\n",
        "\n",
        "\n"
      ],
      "metadata": {
        "id": "Sswm53MA-Apq"
      },
      "execution_count": 25,
      "outputs": []
    },
    {
      "cell_type": "code",
      "source": [
        "from tensorflow.keras.models import load_model\n",
        "lstm_model = load_model(\"lstm_model.keras\")\n",
        "\n",
        "import json\n",
        "\n",
        "# Save tokenizer\n",
        "token_json = keras_tokenizer.to_json()\n",
        "with open(\"lstm_tokenizer.json\", \"w\") as f:\n",
        "    f.write(token_json)\n",
        "\n",
        "from tensorflow.keras.preprocessing.text import tokenizer_from_json\n",
        "\n",
        "with open(\"lstm_tokenizer.json\") as f:\n",
        "    keras_tokenizer = tokenizer_from_json(f.read())"
      ],
      "metadata": {
        "id": "rkCYqQIpk4DL"
      },
      "execution_count": 27,
      "outputs": []
    },
    {
      "cell_type": "code",
      "source": [
        "# save models: Transformer (Hugging Face DistilBERT)\n",
        "\n",
        "hf_model.save_pretrained(\"bert_model/\", safe_serialization=False)\n",
        "\n",
        "hf_tokenizer.save_pretrained(\"bert_model/\")\n"
      ],
      "metadata": {
        "id": "mzuGNlC9-K54",
        "colab": {
          "base_uri": "https://localhost:8080/"
        },
        "outputId": "9570dbce-31f5-4676-b837-dbead9b70d3a"
      },
      "execution_count": 18,
      "outputs": [
        {
          "output_type": "execute_result",
          "data": {
            "text/plain": [
              "('bert_model/tokenizer_config.json',\n",
              " 'bert_model/special_tokens_map.json',\n",
              " 'bert_model/vocab.txt',\n",
              " 'bert_model/added_tokens.json',\n",
              " 'bert_model/tokenizer.json')"
            ]
          },
          "metadata": {},
          "execution_count": 18
        }
      ]
    },
    {
      "cell_type": "code",
      "source": [
        "from transformers import DistilBertTokenizerFast, DistilBertForSequenceClassification\n",
        "\n",
        "hf_tokenizer = DistilBertTokenizerFast.from_pretrained(\"/content/bert_model\")\n",
        "hf_model = DistilBertForSequenceClassification.from_pretrained(\"/content/bert_model\")"
      ],
      "metadata": {
        "id": "i6sXsQQHla2O"
      },
      "execution_count": 19,
      "outputs": []
    },
    {
      "cell_type": "markdown",
      "source": [
        "# Find movies that had a different prediction based on the model. Explain why you think those models predicted one genre vs. the other."
      ],
      "metadata": {
        "id": "lSxL4TTawJW7"
      }
    },
    {
      "cell_type": "code",
      "source": [
        "# Prepare comparison DataFrame\n",
        "df_test = X_test.reset_index(drop=True).to_frame()\n",
        "df_test['true_label'] = le.inverse_transform(y_test)\n",
        "df_test['nb_pred'] = le.inverse_transform(y_pred_nb)\n",
        "df_test['lr_pred'] = le.inverse_transform(y_pred_lr)\n",
        "\n",
        "# Convert X_test to tokenized & padded sequences for LSTM\n",
        "X_test_seq = keras_tokenizer.texts_to_sequences(X_test)\n",
        "X_test_seq_padded = pad_sequences(X_test_seq, maxlen=300)\n",
        "\n",
        "# Predict with LSTM\n",
        "lstm_preds = tf.argmax(lstm_model.predict(X_test_seq_padded), axis=1).numpy()\n",
        "df_test['lstm_pred'] = le.inverse_transform(lstm_preds)\n",
        "\n",
        "# BERT batch prediction\n",
        "def predict_bert_batch(texts):\n",
        "    inputs = hf_tokenizer(texts, return_tensors=\"pt\", truncation=True, padding=True, max_length=256)\n",
        "    with torch.no_grad():\n",
        "        outputs = hf_model(**inputs)\n",
        "    return torch.argmax(outputs.logits, dim=1).numpy()\n",
        "\n",
        "bert_preds = []\n",
        "batch_size = 32\n",
        "for i in range(0, len(X_test), batch_size):\n",
        "    batch_texts = X_test.iloc[i:i+batch_size].tolist()\n",
        "    bert_preds.extend(predict_bert_batch(batch_texts))\n",
        "\n",
        "df_test['bert_pred'] = le.inverse_transform(bert_preds)\n",
        "\n",
        "\n"
      ],
      "metadata": {
        "colab": {
          "base_uri": "https://localhost:8080/"
        },
        "id": "9YkQHXY_2Urd",
        "outputId": "3698693b-f871-49e5-c7e2-d7c6df3f17af"
      },
      "execution_count": null,
      "outputs": [
        {
          "output_type": "stream",
          "name": "stdout",
          "text": [
            "\u001b[1m7/7\u001b[0m \u001b[32m━━━━━━━━━━━━━━━━━━━━\u001b[0m\u001b[37m\u001b[0m \u001b[1m2s\u001b[0m 151ms/step\n"
          ]
        }
      ]
    },
    {
      "cell_type": "code",
      "source": [
        "df_diff = df_test[\n",
        "    (df_test['nb_pred'] != df_test['true_label']) |\n",
        "    (df_test['lr_pred'] != df_test['true_label']) |\n",
        "    (df_test['lstm_pred'] != df_test['true_label']) |\n",
        "    (df_test['bert_pred'] != df_test['true_label'])\n",
        "]\n",
        "\n",
        "from IPython.display import display\n",
        "display(df_diff.head(10))\n"
      ],
      "metadata": {
        "colab": {
          "base_uri": "https://localhost:8080/",
          "height": 363
        },
        "id": "W_OiCzmxusNW",
        "outputId": "18769482-6360-4616-e7ba-001fae818d7a"
      },
      "execution_count": null,
      "outputs": [
        {
          "output_type": "display_data",
          "data": {
            "text/plain": [
              "                                  cleaned_description true_label  nb_pred  \\\n",
              "0   police raid house el paso find full dead latin...     horror   action   \n",
              "2   mans quotidian world suddenly disrupted strang...    romance  romance   \n",
              "4   divorced couple teams travels bali stop daught...    romance  romance   \n",
              "5   next installment survivors ghostface killings ...     horror   horror   \n",
              "6   elle evans joey king finally completed high sc...    romance  romance   \n",
              "7   landing gig lifetime new york jazz pianist sud...     comedy  romance   \n",
              "8   life luca spinoff movie based television serie...     comedy  romance   \n",
              "11  city doctor forced work remote alaskan town ci...     comedy  romance   \n",
              "12  lines love obsession blur romantic thriller pa...    romance  romance   \n",
              "13  accused inhibited exboyfriend violinist create...    romance  romance   \n",
              "\n",
              "    lr_pred lstm_pred bert_pred  \n",
              "0    action    horror    horror  \n",
              "2   romance    horror   romance  \n",
              "4   romance   romance    comedy  \n",
              "5    comedy    horror    horror  \n",
              "6    comedy   romance    comedy  \n",
              "7    comedy    comedy    comedy  \n",
              "8    comedy    comedy    comedy  \n",
              "11   comedy    horror   romance  \n",
              "12  romance    comedy   romance  \n",
              "13  romance    comedy   romance  "
            ],
            "text/html": [
              "\n",
              "  <div id=\"df-b5e0ac9e-610d-44c4-9824-8618ee181809\" class=\"colab-df-container\">\n",
              "    <div>\n",
              "<style scoped>\n",
              "    .dataframe tbody tr th:only-of-type {\n",
              "        vertical-align: middle;\n",
              "    }\n",
              "\n",
              "    .dataframe tbody tr th {\n",
              "        vertical-align: top;\n",
              "    }\n",
              "\n",
              "    .dataframe thead th {\n",
              "        text-align: right;\n",
              "    }\n",
              "</style>\n",
              "<table border=\"1\" class=\"dataframe\">\n",
              "  <thead>\n",
              "    <tr style=\"text-align: right;\">\n",
              "      <th></th>\n",
              "      <th>cleaned_description</th>\n",
              "      <th>true_label</th>\n",
              "      <th>nb_pred</th>\n",
              "      <th>lr_pred</th>\n",
              "      <th>lstm_pred</th>\n",
              "      <th>bert_pred</th>\n",
              "    </tr>\n",
              "  </thead>\n",
              "  <tbody>\n",
              "    <tr>\n",
              "      <th>0</th>\n",
              "      <td>police raid house el paso find full dead latin...</td>\n",
              "      <td>horror</td>\n",
              "      <td>action</td>\n",
              "      <td>action</td>\n",
              "      <td>horror</td>\n",
              "      <td>horror</td>\n",
              "    </tr>\n",
              "    <tr>\n",
              "      <th>2</th>\n",
              "      <td>mans quotidian world suddenly disrupted strang...</td>\n",
              "      <td>romance</td>\n",
              "      <td>romance</td>\n",
              "      <td>romance</td>\n",
              "      <td>horror</td>\n",
              "      <td>romance</td>\n",
              "    </tr>\n",
              "    <tr>\n",
              "      <th>4</th>\n",
              "      <td>divorced couple teams travels bali stop daught...</td>\n",
              "      <td>romance</td>\n",
              "      <td>romance</td>\n",
              "      <td>romance</td>\n",
              "      <td>romance</td>\n",
              "      <td>comedy</td>\n",
              "    </tr>\n",
              "    <tr>\n",
              "      <th>5</th>\n",
              "      <td>next installment survivors ghostface killings ...</td>\n",
              "      <td>horror</td>\n",
              "      <td>horror</td>\n",
              "      <td>comedy</td>\n",
              "      <td>horror</td>\n",
              "      <td>horror</td>\n",
              "    </tr>\n",
              "    <tr>\n",
              "      <th>6</th>\n",
              "      <td>elle evans joey king finally completed high sc...</td>\n",
              "      <td>romance</td>\n",
              "      <td>romance</td>\n",
              "      <td>comedy</td>\n",
              "      <td>romance</td>\n",
              "      <td>comedy</td>\n",
              "    </tr>\n",
              "    <tr>\n",
              "      <th>7</th>\n",
              "      <td>landing gig lifetime new york jazz pianist sud...</td>\n",
              "      <td>comedy</td>\n",
              "      <td>romance</td>\n",
              "      <td>comedy</td>\n",
              "      <td>comedy</td>\n",
              "      <td>comedy</td>\n",
              "    </tr>\n",
              "    <tr>\n",
              "      <th>8</th>\n",
              "      <td>life luca spinoff movie based television serie...</td>\n",
              "      <td>comedy</td>\n",
              "      <td>romance</td>\n",
              "      <td>comedy</td>\n",
              "      <td>comedy</td>\n",
              "      <td>comedy</td>\n",
              "    </tr>\n",
              "    <tr>\n",
              "      <th>11</th>\n",
              "      <td>city doctor forced work remote alaskan town ci...</td>\n",
              "      <td>comedy</td>\n",
              "      <td>romance</td>\n",
              "      <td>comedy</td>\n",
              "      <td>horror</td>\n",
              "      <td>romance</td>\n",
              "    </tr>\n",
              "    <tr>\n",
              "      <th>12</th>\n",
              "      <td>lines love obsession blur romantic thriller pa...</td>\n",
              "      <td>romance</td>\n",
              "      <td>romance</td>\n",
              "      <td>romance</td>\n",
              "      <td>comedy</td>\n",
              "      <td>romance</td>\n",
              "    </tr>\n",
              "    <tr>\n",
              "      <th>13</th>\n",
              "      <td>accused inhibited exboyfriend violinist create...</td>\n",
              "      <td>romance</td>\n",
              "      <td>romance</td>\n",
              "      <td>romance</td>\n",
              "      <td>comedy</td>\n",
              "      <td>romance</td>\n",
              "    </tr>\n",
              "  </tbody>\n",
              "</table>\n",
              "</div>\n",
              "    <div class=\"colab-df-buttons\">\n",
              "\n",
              "  <div class=\"colab-df-container\">\n",
              "    <button class=\"colab-df-convert\" onclick=\"convertToInteractive('df-b5e0ac9e-610d-44c4-9824-8618ee181809')\"\n",
              "            title=\"Convert this dataframe to an interactive table.\"\n",
              "            style=\"display:none;\">\n",
              "\n",
              "  <svg xmlns=\"http://www.w3.org/2000/svg\" height=\"24px\" viewBox=\"0 -960 960 960\">\n",
              "    <path d=\"M120-120v-720h720v720H120Zm60-500h600v-160H180v160Zm220 220h160v-160H400v160Zm0 220h160v-160H400v160ZM180-400h160v-160H180v160Zm440 0h160v-160H620v160ZM180-180h160v-160H180v160Zm440 0h160v-160H620v160Z\"/>\n",
              "  </svg>\n",
              "    </button>\n",
              "\n",
              "  <style>\n",
              "    .colab-df-container {\n",
              "      display:flex;\n",
              "      gap: 12px;\n",
              "    }\n",
              "\n",
              "    .colab-df-convert {\n",
              "      background-color: #E8F0FE;\n",
              "      border: none;\n",
              "      border-radius: 50%;\n",
              "      cursor: pointer;\n",
              "      display: none;\n",
              "      fill: #1967D2;\n",
              "      height: 32px;\n",
              "      padding: 0 0 0 0;\n",
              "      width: 32px;\n",
              "    }\n",
              "\n",
              "    .colab-df-convert:hover {\n",
              "      background-color: #E2EBFA;\n",
              "      box-shadow: 0px 1px 2px rgba(60, 64, 67, 0.3), 0px 1px 3px 1px rgba(60, 64, 67, 0.15);\n",
              "      fill: #174EA6;\n",
              "    }\n",
              "\n",
              "    .colab-df-buttons div {\n",
              "      margin-bottom: 4px;\n",
              "    }\n",
              "\n",
              "    [theme=dark] .colab-df-convert {\n",
              "      background-color: #3B4455;\n",
              "      fill: #D2E3FC;\n",
              "    }\n",
              "\n",
              "    [theme=dark] .colab-df-convert:hover {\n",
              "      background-color: #434B5C;\n",
              "      box-shadow: 0px 1px 3px 1px rgba(0, 0, 0, 0.15);\n",
              "      filter: drop-shadow(0px 1px 2px rgba(0, 0, 0, 0.3));\n",
              "      fill: #FFFFFF;\n",
              "    }\n",
              "  </style>\n",
              "\n",
              "    <script>\n",
              "      const buttonEl =\n",
              "        document.querySelector('#df-b5e0ac9e-610d-44c4-9824-8618ee181809 button.colab-df-convert');\n",
              "      buttonEl.style.display =\n",
              "        google.colab.kernel.accessAllowed ? 'block' : 'none';\n",
              "\n",
              "      async function convertToInteractive(key) {\n",
              "        const element = document.querySelector('#df-b5e0ac9e-610d-44c4-9824-8618ee181809');\n",
              "        const dataTable =\n",
              "          await google.colab.kernel.invokeFunction('convertToInteractive',\n",
              "                                                    [key], {});\n",
              "        if (!dataTable) return;\n",
              "\n",
              "        const docLinkHtml = 'Like what you see? Visit the ' +\n",
              "          '<a target=\"_blank\" href=https://colab.research.google.com/notebooks/data_table.ipynb>data table notebook</a>'\n",
              "          + ' to learn more about interactive tables.';\n",
              "        element.innerHTML = '';\n",
              "        dataTable['output_type'] = 'display_data';\n",
              "        await google.colab.output.renderOutput(dataTable, element);\n",
              "        const docLink = document.createElement('div');\n",
              "        docLink.innerHTML = docLinkHtml;\n",
              "        element.appendChild(docLink);\n",
              "      }\n",
              "    </script>\n",
              "  </div>\n",
              "\n",
              "\n",
              "    <div id=\"df-536170f4-37d8-42ab-8a1b-7acd67177884\">\n",
              "      <button class=\"colab-df-quickchart\" onclick=\"quickchart('df-536170f4-37d8-42ab-8a1b-7acd67177884')\"\n",
              "                title=\"Suggest charts\"\n",
              "                style=\"display:none;\">\n",
              "\n",
              "<svg xmlns=\"http://www.w3.org/2000/svg\" height=\"24px\"viewBox=\"0 0 24 24\"\n",
              "     width=\"24px\">\n",
              "    <g>\n",
              "        <path d=\"M19 3H5c-1.1 0-2 .9-2 2v14c0 1.1.9 2 2 2h14c1.1 0 2-.9 2-2V5c0-1.1-.9-2-2-2zM9 17H7v-7h2v7zm4 0h-2V7h2v10zm4 0h-2v-4h2v4z\"/>\n",
              "    </g>\n",
              "</svg>\n",
              "      </button>\n",
              "\n",
              "<style>\n",
              "  .colab-df-quickchart {\n",
              "      --bg-color: #E8F0FE;\n",
              "      --fill-color: #1967D2;\n",
              "      --hover-bg-color: #E2EBFA;\n",
              "      --hover-fill-color: #174EA6;\n",
              "      --disabled-fill-color: #AAA;\n",
              "      --disabled-bg-color: #DDD;\n",
              "  }\n",
              "\n",
              "  [theme=dark] .colab-df-quickchart {\n",
              "      --bg-color: #3B4455;\n",
              "      --fill-color: #D2E3FC;\n",
              "      --hover-bg-color: #434B5C;\n",
              "      --hover-fill-color: #FFFFFF;\n",
              "      --disabled-bg-color: #3B4455;\n",
              "      --disabled-fill-color: #666;\n",
              "  }\n",
              "\n",
              "  .colab-df-quickchart {\n",
              "    background-color: var(--bg-color);\n",
              "    border: none;\n",
              "    border-radius: 50%;\n",
              "    cursor: pointer;\n",
              "    display: none;\n",
              "    fill: var(--fill-color);\n",
              "    height: 32px;\n",
              "    padding: 0;\n",
              "    width: 32px;\n",
              "  }\n",
              "\n",
              "  .colab-df-quickchart:hover {\n",
              "    background-color: var(--hover-bg-color);\n",
              "    box-shadow: 0 1px 2px rgba(60, 64, 67, 0.3), 0 1px 3px 1px rgba(60, 64, 67, 0.15);\n",
              "    fill: var(--button-hover-fill-color);\n",
              "  }\n",
              "\n",
              "  .colab-df-quickchart-complete:disabled,\n",
              "  .colab-df-quickchart-complete:disabled:hover {\n",
              "    background-color: var(--disabled-bg-color);\n",
              "    fill: var(--disabled-fill-color);\n",
              "    box-shadow: none;\n",
              "  }\n",
              "\n",
              "  .colab-df-spinner {\n",
              "    border: 2px solid var(--fill-color);\n",
              "    border-color: transparent;\n",
              "    border-bottom-color: var(--fill-color);\n",
              "    animation:\n",
              "      spin 1s steps(1) infinite;\n",
              "  }\n",
              "\n",
              "  @keyframes spin {\n",
              "    0% {\n",
              "      border-color: transparent;\n",
              "      border-bottom-color: var(--fill-color);\n",
              "      border-left-color: var(--fill-color);\n",
              "    }\n",
              "    20% {\n",
              "      border-color: transparent;\n",
              "      border-left-color: var(--fill-color);\n",
              "      border-top-color: var(--fill-color);\n",
              "    }\n",
              "    30% {\n",
              "      border-color: transparent;\n",
              "      border-left-color: var(--fill-color);\n",
              "      border-top-color: var(--fill-color);\n",
              "      border-right-color: var(--fill-color);\n",
              "    }\n",
              "    40% {\n",
              "      border-color: transparent;\n",
              "      border-right-color: var(--fill-color);\n",
              "      border-top-color: var(--fill-color);\n",
              "    }\n",
              "    60% {\n",
              "      border-color: transparent;\n",
              "      border-right-color: var(--fill-color);\n",
              "    }\n",
              "    80% {\n",
              "      border-color: transparent;\n",
              "      border-right-color: var(--fill-color);\n",
              "      border-bottom-color: var(--fill-color);\n",
              "    }\n",
              "    90% {\n",
              "      border-color: transparent;\n",
              "      border-bottom-color: var(--fill-color);\n",
              "    }\n",
              "  }\n",
              "</style>\n",
              "\n",
              "      <script>\n",
              "        async function quickchart(key) {\n",
              "          const quickchartButtonEl =\n",
              "            document.querySelector('#' + key + ' button');\n",
              "          quickchartButtonEl.disabled = true;  // To prevent multiple clicks.\n",
              "          quickchartButtonEl.classList.add('colab-df-spinner');\n",
              "          try {\n",
              "            const charts = await google.colab.kernel.invokeFunction(\n",
              "                'suggestCharts', [key], {});\n",
              "          } catch (error) {\n",
              "            console.error('Error during call to suggestCharts:', error);\n",
              "          }\n",
              "          quickchartButtonEl.classList.remove('colab-df-spinner');\n",
              "          quickchartButtonEl.classList.add('colab-df-quickchart-complete');\n",
              "        }\n",
              "        (() => {\n",
              "          let quickchartButtonEl =\n",
              "            document.querySelector('#df-536170f4-37d8-42ab-8a1b-7acd67177884 button');\n",
              "          quickchartButtonEl.style.display =\n",
              "            google.colab.kernel.accessAllowed ? 'block' : 'none';\n",
              "        })();\n",
              "      </script>\n",
              "    </div>\n",
              "\n",
              "    </div>\n",
              "  </div>\n"
            ],
            "application/vnd.google.colaboratory.intrinsic+json": {
              "type": "dataframe",
              "summary": "{\n  \"name\": \"display(df_diff\",\n  \"rows\": 10,\n  \"fields\": [\n    {\n      \"column\": \"cleaned_description\",\n      \"properties\": {\n        \"dtype\": \"string\",\n        \"num_unique_values\": 10,\n        \"samples\": [\n          \"lines love obsession blur romantic thriller packed unpredictable twists sharp turns freddy ginwala dentist living lonely life friend tortoise named hardyfreddy trying find match maker since years registered many matrimonial sites always faces rejection confident enough speakonce freddy approaches women party learns already married lives abusive husband rustom next day women visits clinic extract wisdom tooth finds name kainaazfreddy gets fascinated kainaaz starts stalk realizes abusive rustom finds number clinic asks kainaaz meetafter first meet freddy kainaaz start meet often develop feelings problem kainaazs marriage rustomfreddy plans kill rustom kainaaz succeeds first attempt realizes made scapegoat everything\",\n          \"mans quotidian world suddenly disrupted strange events takes aging father hospital checkup charitable woman hands calling card future hostile ex unleashes public humiliation new love interest suddenly whisks feet odd coincidences segue dream logic patching together scenes past hinting fate enigmatic signs lead eccentric hypnotherapist address fleeting grip reality may late incredibly imaginative film explores ideas memory identity time powerful yet dangerously fragile constructs often beyond simple ken ingeniously playing time space imaginur poses bold questions existence stunning cinematic bravado\",\n          \"landing gig lifetime new york jazz pianist suddenly finds trapped strange land earth afterlife joe middleschool band teacher whose life quite gone way expected true passion jazz good travels another realm help someone find passion soon discovers means soul joe gardner middle school teacher love jazz music successful gig half note club suddenly gets accident separates soul body transported seminar center souls develop gain passions transported newborn child joe must enlist help soulsintraining like soul spent eons seminar order get back earthyusufpiskin joe gardner middle school music teacher pursuing dreams playing great jazz musicians time outside teaching pursuit dream stumbles new world helps mentor realise true passion sparkchristopheyaojoe middle school music teacher new york ambition renowned jazz pianist finally gets big break unfortunately suffers serious accident shortly thereafter finds limboworld somewhere life deathgrantss joe gardner middle school music teacher feels stuck life unfulfilled job dreams career jazz seamstress mother libba objects chance former student curly informs opening band jazz legend dorothea williams joe impresses dorothea piano playing offered job spot joe happily heads prepare first performance later night falls manholejoe finds soul heading great beyond unwilling die big break tries escape ends great soul counselorsall named jerryprepare unborn souls life earth joe poses instructor set train souls assigned cynical soul remained great millennium sees point living earth reveals badge fills traits needs find spark complete says give joe return homejoe tries assist finding passion attempts prove futile options takes zone area people enter passion sets euphoric trance also houses lost souls become obsessed meet moonwind sign twirler enters zone rescue lost souls agrees help joe return body learn joes fall manhole sent coma joe excitedly hops back earth accidentally brings resulting entering body joe ending body therapy cat meanwhile terry accountant designated counting souls headed great beyond finds count convinces jerrys let return missing soul joe escape hospital initially frightened settles joes body finds great enjoyment little things life head joes apartment connie one joes students arrives tell quitting band leaving connie plays passionate trombone solo stunning convinces talent music happy connie thanks joe leaves changed mind next go get haircut holds deep poignant conversation dez barber rips joes pants bending duo go see libba fixed joe reconciles mother libba finally accepts joes passion music offers late fathers old suitbefore moonwind restore joe experiences epiphany decides must find purpose earth refuses proceed joes restoration flees joe tailing behind terry catches brings back great sees badge filled however joe tells experiences tastes earned badge angry tosses badge joe disappears zone joe learns jerry instead lifes purpose spark simply means soul ready live heads back earth successful first performance dorothea quartet feel right happenedinspired objects collected body joe plays piano enter zone look lost soul tries return badge remains hopeless broken purpose using small maple seed collected joe convinces ready live returns normal badge back finally enters earth joe accompanying long prepares head great beyond joe stopped jerry tells inspired give another chance life joe thanks returns body back earth intent live life fullest\"\n        ],\n        \"semantic_type\": \"\",\n        \"description\": \"\"\n      }\n    },\n    {\n      \"column\": \"true_label\",\n      \"properties\": {\n        \"dtype\": \"category\",\n        \"num_unique_values\": 3,\n        \"samples\": [\n          \"horror\",\n          \"romance\",\n          \"comedy\"\n        ],\n        \"semantic_type\": \"\",\n        \"description\": \"\"\n      }\n    },\n    {\n      \"column\": \"nb_pred\",\n      \"properties\": {\n        \"dtype\": \"category\",\n        \"num_unique_values\": 3,\n        \"samples\": [\n          \"action\",\n          \"romance\",\n          \"horror\"\n        ],\n        \"semantic_type\": \"\",\n        \"description\": \"\"\n      }\n    },\n    {\n      \"column\": \"lr_pred\",\n      \"properties\": {\n        \"dtype\": \"category\",\n        \"num_unique_values\": 3,\n        \"samples\": [\n          \"action\",\n          \"romance\",\n          \"comedy\"\n        ],\n        \"semantic_type\": \"\",\n        \"description\": \"\"\n      }\n    },\n    {\n      \"column\": \"lstm_pred\",\n      \"properties\": {\n        \"dtype\": \"category\",\n        \"num_unique_values\": 3,\n        \"samples\": [\n          \"horror\",\n          \"romance\",\n          \"comedy\"\n        ],\n        \"semantic_type\": \"\",\n        \"description\": \"\"\n      }\n    },\n    {\n      \"column\": \"bert_pred\",\n      \"properties\": {\n        \"dtype\": \"category\",\n        \"num_unique_values\": 3,\n        \"samples\": [\n          \"horror\",\n          \"romance\",\n          \"comedy\"\n        ],\n        \"semantic_type\": \"\",\n        \"description\": \"\"\n      }\n    }\n  ]\n}"
            }
          },
          "metadata": {}
        }
      ]
    },
    {
      "cell_type": "markdown",
      "source": [
        "Explain why you think those models predicted one genre vs. the other."
      ],
      "metadata": {
        "id": "Ffp5ms8zLb_2"
      }
    },
    {
      "cell_type": "markdown",
      "source": [
        "# Build an interactive tool that can take a real or fake movie summary, clean the text, and predict the movie genre based on your models."
      ],
      "metadata": {
        "id": "RHxLCv-_wZwD"
      }
    },
    {
      "cell_type": "code",
      "source": [
        "def predict_genre(summary):\n",
        "    import re\n",
        "    import torch\n",
        "\n",
        "    # ── 1. Clean text ─────────────────────\n",
        "    cleaned = re.sub(r\"[^\\w\\s]\", \"\", summary.lower())\n",
        "\n",
        "    # ── 2. Naive Bayes ─────────────────────\n",
        "    vec = vectorizer.transform([cleaned])\n",
        "    nb_result = le.inverse_transform(nb_model.predict(vec))[0]\n",
        "\n",
        "    # ── 3. Logistic Regression ─────────────\n",
        "    lr_result = le.inverse_transform(lr_model.predict(vec))[0]\n",
        "\n",
        "    # ── 4. LSTM ────────────────────────────\n",
        "    seq = keras_tokenizer.texts_to_sequences([cleaned])\n",
        "    padded = pad_sequences(seq, maxlen=300)\n",
        "    l# cdownload the bertmodel\n",
        "!zip -r bert_model.zip /content/bert_model\n",
        "\n",
        "from google.colab import files\n",
        "files.download(\"bert_model.zip\")\n",
        "stm_pred = tf.argmax(lstm_model.predict(padded, verbose=0), axis=1).numpy()[0]\n",
        "    lstm_result = le.inverse_transform([lstm_pred])[0]\n",
        "\n",
        "    # ── 5. Transformer (DistilBERT) ────────\n",
        "    bert_inputs = hf_tokenizer(cleaned, return_tensors=\"pt\", truncation=True, padding=True, max_length=256)\n",
        "    with torch.no_grad():\n",
        "        bert_outputs = hf_model(**bert_inputs)\n",
        "    bert_pred = torch.argmax(bert_outputs.logits, dim=1).item()\n",
        "    bert_result = le.inverse_transform([bert_pred])[0]\n",
        "\n",
        "    # ── 6. Print and return results ────────\n",
        "    print(\"Predicted Genres:\")\n",
        "    print(f\"  Naive Bayes         : {nb_result}\")\n",
        "    print(f\"  Logistic Regression : {lr_result}\")\n",
        "    print(f\"  LSTM                : {lstm_result}\")\n",
        "    print(f\"  Transformer (BERT)  : {bert_result}\")\n",
        "\n",
        "    return {\n",
        "        \"Naive Bayes\": nb_result,\n",
        "        \"Logistic Regression\": lr_result,\n",
        "        \"LSTM\": lstm_result,\n",
        "        \"Transformer\": bert_result\n",
        "    }\n",
        "\n"
      ],
      "metadata": {
        "id": "kkCLGZmUusFd"
      },
      "execution_count": null,
      "outputs": []
    },
    {
      "cell_type": "code",
      "source": [
        "predict_genre(\"A young woman discovers a mysterious portal that leads her into a battle between light and darkness.\")\n"
      ],
      "metadata": {
        "colab": {
          "base_uri": "https://localhost:8080/"
        },
        "id": "hx8PwOu5ur90",
        "outputId": "390de1df-2647-483b-a1fb-4dccdc8206e9"
      },
      "execution_count": null,
      "outputs": [
        {
          "output_type": "stream",
          "name": "stdout",
          "text": [
            "Predicted Genres:\n",
            "  Naive Bayes         : horror\n",
            "  Logistic Regression : horror\n",
            "  LSTM                : action\n",
            "  Transformer (BERT)  : horror\n"
          ]
        },
        {
          "output_type": "execute_result",
          "data": {
            "text/plain": [
              "{'Naive Bayes': 'horror',\n",
              " 'Logistic Regression': 'horror',\n",
              " 'LSTM': 'action',\n",
              " 'Transformer': 'horror'}"
            ]
          },
          "metadata": {},
          "execution_count": 34
        }
      ]
    },
    {
      "cell_type": "markdown",
      "source": [
        "Explain why you think those models predicted one genre vs. the other.\n"
      ],
      "metadata": {
        "id": "moKOmKtzLd78"
      }
    },
    {
      "cell_type": "code",
      "source": [],
      "metadata": {
        "id": "BY3Qd019QOhG"
      },
      "execution_count": null,
      "outputs": []
    },
    {
      "cell_type": "code",
      "source": [
        "# cdownload the bertmodel\n",
        "!zip -r bert_model.zip /content/bert_model\n",
        "\n",
        "from google.colab import files\n",
        "files.download(\"bert_model.zip\")\n"
      ],
      "metadata": {
        "id": "cQiJK3L7ur29",
        "colab": {
          "base_uri": "https://localhost:8080/"
        },
        "outputId": "9ba67745-ec34-4c87-e2da-9341fa1210ea"
      },
      "execution_count": null,
      "outputs": [
        {
          "output_type": "stream",
          "name": "stdout",
          "text": [
            "  adding: content/bert_model/ (stored 0%)\n",
            "  adding: content/bert_model/vocab.txt (deflated 53%)\n",
            "  adding: content/bert_model/tokenizer_config.json (deflated 75%)\n",
            "  adding: content/bert_model/config.json (deflated 50%)\n",
            "  adding: content/bert_model/tokenizer.json (deflated 71%)\n",
            "  adding: content/bert_model/pytorch_model.bin"
          ]
        }
      ]
    },
    {
      "cell_type": "code",
      "source": [],
      "metadata": {
        "id": "-U4vjGkgurv0"
      },
      "execution_count": null,
      "outputs": []
    },
    {
      "cell_type": "code",
      "source": [],
      "metadata": {
        "id": "05LM9xSourll"
      },
      "execution_count": null,
      "outputs": []
    },
    {
      "cell_type": "code",
      "source": [],
      "metadata": {
        "id": "OC3XgqyjurY_"
      },
      "execution_count": null,
      "outputs": []
    },
    {
      "cell_type": "code",
      "source": [
        "# only contains pixel data to predict\n",
        "import numpy as np\n",
        "from sklearn.preprocessing import LabelEncoder\n",
        "from tensorflow.keras.utils import to_categorical\n",
        "from sklearn.model_selection import train_test_split\n",
        "\n",
        "# Expand grayscale to (H, W, 1)\n",
        "X = np.expand_dims(data, axis=-1)  # Now shape is (724, 192, 128, 1)\n",
        "\n",
        "# One-hot encode labels\n",
        "le = LabelEncoder()\n",
        "y = le.fit_transform(labels)\n",
        "y_cat = to_categorical(y, num_classes=4)\n",
        "\n",
        "# Train/test split\n",
        "X_train, X_test, y_train, y_test = train_test_split(X, y_cat, test_size=0.2, stratify=y, random_state=42)\n",
        "\n",
        "# build simple CNN\n",
        "from tensorflow.keras.models import Sequential\n",
        "from tensorflow.keras.layers import Conv2D, MaxPooling2D, Flatten, Dense, Dropout, BatchNormalization\n",
        "\n",
        "model = Sequential([\n",
        "    Conv2D(32, (3,3), activation='relu', input_shape=(192, 128, 1)),\n",
        "    MaxPooling2D((2,2)),\n",
        "    BatchNormalization(),\n",
        "\n",
        "    Conv2D(64, (3,3), activation='relu'),\n",
        "    MaxPooling2D((2,2)),\n",
        "    BatchNormalization(),\n",
        "\n",
        "    Conv2D(128, (3,3), activation='relu'),\n",
        "    MaxPooling2D((2,2)),\n",
        "    Flatten(),\n",
        "\n",
        "    Dense(128, activation='relu'),\n",
        "    Dropout(0.5),\n",
        "    Dense(4, activation='softmax')\n",
        "])\n",
        "\n",
        "model.compile(optimizer='adam', loss='categorical_crossentropy', metrics=['accuracy'])\n",
        "model.summary()\n",
        "\n",
        "history = model.fit(\n",
        "    X_train, y_train,\n",
        "    validation_data=(X_test, y_test),\n",
        "    batch_size=32,\n",
        "    epochs=10\n",
        ")\n",
        "\n",
        "# accuracy plot\n",
        "\n",
        "import matplotlib.pyplot as plt\n",
        "\n",
        "plt.plot(history.history['accuracy'], label='train')\n",
        "plt.plot(history.history['val_accuracy'], label='val')\n",
        "plt.title('Image Model Accuracy')\n",
        "plt.xlabel('Epoch')\n",
        "plt.ylabel('Accuracy')\n",
        "plt.legend()\n",
        "plt.show()"
      ],
      "metadata": {
        "colab": {
          "base_uri": "https://localhost:8080/",
          "height": 974
        },
        "id": "QZCNYgcmYuxa",
        "outputId": "bc228902-e919-4391-a0f5-554b7df24db1"
      },
      "execution_count": null,
      "outputs": [
        {
          "output_type": "stream",
          "name": "stderr",
          "text": [
            "/usr/local/lib/python3.11/dist-packages/keras/src/layers/convolutional/base_conv.py:107: UserWarning: Do not pass an `input_shape`/`input_dim` argument to a layer. When using Sequential models, prefer using an `Input(shape)` object as the first layer in the model instead.\n",
            "  super().__init__(activity_regularizer=activity_regularizer, **kwargs)\n"
          ]
        },
        {
          "output_type": "display_data",
          "data": {
            "text/plain": [
              "\u001b[1mModel: \"sequential\"\u001b[0m\n"
            ],
            "text/html": [
              "<pre style=\"white-space:pre;overflow-x:auto;line-height:normal;font-family:Menlo,'DejaVu Sans Mono',consolas,'Courier New',monospace\"><span style=\"font-weight: bold\">Model: \"sequential\"</span>\n",
              "</pre>\n"
            ]
          },
          "metadata": {}
        },
        {
          "output_type": "display_data",
          "data": {
            "text/plain": [
              "┏━━━━━━━━━━━━━━━━━━━━━━━━━━━━━━━━━┳━━━━━━━━━━━━━━━━━━━━━━━━┳━━━━━━━━━━━━━━━┓\n",
              "┃\u001b[1m \u001b[0m\u001b[1mLayer (type)                   \u001b[0m\u001b[1m \u001b[0m┃\u001b[1m \u001b[0m\u001b[1mOutput Shape          \u001b[0m\u001b[1m \u001b[0m┃\u001b[1m \u001b[0m\u001b[1m      Param #\u001b[0m\u001b[1m \u001b[0m┃\n",
              "┡━━━━━━━━━━━━━━━━━━━━━━━━━━━━━━━━━╇━━━━━━━━━━━━━━━━━━━━━━━━╇━━━━━━━━━━━━━━━┩\n",
              "│ conv2d (\u001b[38;5;33mConv2D\u001b[0m)                 │ (\u001b[38;5;45mNone\u001b[0m, \u001b[38;5;34m190\u001b[0m, \u001b[38;5;34m126\u001b[0m, \u001b[38;5;34m32\u001b[0m)   │           \u001b[38;5;34m320\u001b[0m │\n",
              "├─────────────────────────────────┼────────────────────────┼───────────────┤\n",
              "│ max_pooling2d (\u001b[38;5;33mMaxPooling2D\u001b[0m)    │ (\u001b[38;5;45mNone\u001b[0m, \u001b[38;5;34m95\u001b[0m, \u001b[38;5;34m63\u001b[0m, \u001b[38;5;34m32\u001b[0m)     │             \u001b[38;5;34m0\u001b[0m │\n",
              "├─────────────────────────────────┼────────────────────────┼───────────────┤\n",
              "│ batch_normalization             │ (\u001b[38;5;45mNone\u001b[0m, \u001b[38;5;34m95\u001b[0m, \u001b[38;5;34m63\u001b[0m, \u001b[38;5;34m32\u001b[0m)     │           \u001b[38;5;34m128\u001b[0m │\n",
              "│ (\u001b[38;5;33mBatchNormalization\u001b[0m)            │                        │               │\n",
              "├─────────────────────────────────┼────────────────────────┼───────────────┤\n",
              "│ conv2d_1 (\u001b[38;5;33mConv2D\u001b[0m)               │ (\u001b[38;5;45mNone\u001b[0m, \u001b[38;5;34m93\u001b[0m, \u001b[38;5;34m61\u001b[0m, \u001b[38;5;34m64\u001b[0m)     │        \u001b[38;5;34m18,496\u001b[0m │\n",
              "├─────────────────────────────────┼────────────────────────┼───────────────┤\n",
              "│ max_pooling2d_1 (\u001b[38;5;33mMaxPooling2D\u001b[0m)  │ (\u001b[38;5;45mNone\u001b[0m, \u001b[38;5;34m46\u001b[0m, \u001b[38;5;34m30\u001b[0m, \u001b[38;5;34m64\u001b[0m)     │             \u001b[38;5;34m0\u001b[0m │\n",
              "├─────────────────────────────────┼────────────────────────┼───────────────┤\n",
              "│ batch_normalization_1           │ (\u001b[38;5;45mNone\u001b[0m, \u001b[38;5;34m46\u001b[0m, \u001b[38;5;34m30\u001b[0m, \u001b[38;5;34m64\u001b[0m)     │           \u001b[38;5;34m256\u001b[0m │\n",
              "│ (\u001b[38;5;33mBatchNormalization\u001b[0m)            │                        │               │\n",
              "├─────────────────────────────────┼────────────────────────┼───────────────┤\n",
              "│ conv2d_2 (\u001b[38;5;33mConv2D\u001b[0m)               │ (\u001b[38;5;45mNone\u001b[0m, \u001b[38;5;34m44\u001b[0m, \u001b[38;5;34m28\u001b[0m, \u001b[38;5;34m128\u001b[0m)    │        \u001b[38;5;34m73,856\u001b[0m │\n",
              "├─────────────────────────────────┼────────────────────────┼───────────────┤\n",
              "│ max_pooling2d_2 (\u001b[38;5;33mMaxPooling2D\u001b[0m)  │ (\u001b[38;5;45mNone\u001b[0m, \u001b[38;5;34m22\u001b[0m, \u001b[38;5;34m14\u001b[0m, \u001b[38;5;34m128\u001b[0m)    │             \u001b[38;5;34m0\u001b[0m │\n",
              "├─────────────────────────────────┼────────────────────────┼───────────────┤\n",
              "│ flatten (\u001b[38;5;33mFlatten\u001b[0m)               │ (\u001b[38;5;45mNone\u001b[0m, \u001b[38;5;34m39424\u001b[0m)          │             \u001b[38;5;34m0\u001b[0m │\n",
              "├─────────────────────────────────┼────────────────────────┼───────────────┤\n",
              "│ dense (\u001b[38;5;33mDense\u001b[0m)                   │ (\u001b[38;5;45mNone\u001b[0m, \u001b[38;5;34m128\u001b[0m)            │     \u001b[38;5;34m5,046,400\u001b[0m │\n",
              "├─────────────────────────────────┼────────────────────────┼───────────────┤\n",
              "│ dropout (\u001b[38;5;33mDropout\u001b[0m)               │ (\u001b[38;5;45mNone\u001b[0m, \u001b[38;5;34m128\u001b[0m)            │             \u001b[38;5;34m0\u001b[0m │\n",
              "├─────────────────────────────────┼────────────────────────┼───────────────┤\n",
              "│ dense_1 (\u001b[38;5;33mDense\u001b[0m)                 │ (\u001b[38;5;45mNone\u001b[0m, \u001b[38;5;34m4\u001b[0m)              │           \u001b[38;5;34m516\u001b[0m │\n",
              "└─────────────────────────────────┴────────────────────────┴───────────────┘\n"
            ],
            "text/html": [
              "<pre style=\"white-space:pre;overflow-x:auto;line-height:normal;font-family:Menlo,'DejaVu Sans Mono',consolas,'Courier New',monospace\">┏━━━━━━━━━━━━━━━━━━━━━━━━━━━━━━━━━┳━━━━━━━━━━━━━━━━━━━━━━━━┳━━━━━━━━━━━━━━━┓\n",
              "┃<span style=\"font-weight: bold\"> Layer (type)                    </span>┃<span style=\"font-weight: bold\"> Output Shape           </span>┃<span style=\"font-weight: bold\">       Param # </span>┃\n",
              "┡━━━━━━━━━━━━━━━━━━━━━━━━━━━━━━━━━╇━━━━━━━━━━━━━━━━━━━━━━━━╇━━━━━━━━━━━━━━━┩\n",
              "│ conv2d (<span style=\"color: #0087ff; text-decoration-color: #0087ff\">Conv2D</span>)                 │ (<span style=\"color: #00d7ff; text-decoration-color: #00d7ff\">None</span>, <span style=\"color: #00af00; text-decoration-color: #00af00\">190</span>, <span style=\"color: #00af00; text-decoration-color: #00af00\">126</span>, <span style=\"color: #00af00; text-decoration-color: #00af00\">32</span>)   │           <span style=\"color: #00af00; text-decoration-color: #00af00\">320</span> │\n",
              "├─────────────────────────────────┼────────────────────────┼───────────────┤\n",
              "│ max_pooling2d (<span style=\"color: #0087ff; text-decoration-color: #0087ff\">MaxPooling2D</span>)    │ (<span style=\"color: #00d7ff; text-decoration-color: #00d7ff\">None</span>, <span style=\"color: #00af00; text-decoration-color: #00af00\">95</span>, <span style=\"color: #00af00; text-decoration-color: #00af00\">63</span>, <span style=\"color: #00af00; text-decoration-color: #00af00\">32</span>)     │             <span style=\"color: #00af00; text-decoration-color: #00af00\">0</span> │\n",
              "├─────────────────────────────────┼────────────────────────┼───────────────┤\n",
              "│ batch_normalization             │ (<span style=\"color: #00d7ff; text-decoration-color: #00d7ff\">None</span>, <span style=\"color: #00af00; text-decoration-color: #00af00\">95</span>, <span style=\"color: #00af00; text-decoration-color: #00af00\">63</span>, <span style=\"color: #00af00; text-decoration-color: #00af00\">32</span>)     │           <span style=\"color: #00af00; text-decoration-color: #00af00\">128</span> │\n",
              "│ (<span style=\"color: #0087ff; text-decoration-color: #0087ff\">BatchNormalization</span>)            │                        │               │\n",
              "├─────────────────────────────────┼────────────────────────┼───────────────┤\n",
              "│ conv2d_1 (<span style=\"color: #0087ff; text-decoration-color: #0087ff\">Conv2D</span>)               │ (<span style=\"color: #00d7ff; text-decoration-color: #00d7ff\">None</span>, <span style=\"color: #00af00; text-decoration-color: #00af00\">93</span>, <span style=\"color: #00af00; text-decoration-color: #00af00\">61</span>, <span style=\"color: #00af00; text-decoration-color: #00af00\">64</span>)     │        <span style=\"color: #00af00; text-decoration-color: #00af00\">18,496</span> │\n",
              "├─────────────────────────────────┼────────────────────────┼───────────────┤\n",
              "│ max_pooling2d_1 (<span style=\"color: #0087ff; text-decoration-color: #0087ff\">MaxPooling2D</span>)  │ (<span style=\"color: #00d7ff; text-decoration-color: #00d7ff\">None</span>, <span style=\"color: #00af00; text-decoration-color: #00af00\">46</span>, <span style=\"color: #00af00; text-decoration-color: #00af00\">30</span>, <span style=\"color: #00af00; text-decoration-color: #00af00\">64</span>)     │             <span style=\"color: #00af00; text-decoration-color: #00af00\">0</span> │\n",
              "├─────────────────────────────────┼────────────────────────┼───────────────┤\n",
              "│ batch_normalization_1           │ (<span style=\"color: #00d7ff; text-decoration-color: #00d7ff\">None</span>, <span style=\"color: #00af00; text-decoration-color: #00af00\">46</span>, <span style=\"color: #00af00; text-decoration-color: #00af00\">30</span>, <span style=\"color: #00af00; text-decoration-color: #00af00\">64</span>)     │           <span style=\"color: #00af00; text-decoration-color: #00af00\">256</span> │\n",
              "│ (<span style=\"color: #0087ff; text-decoration-color: #0087ff\">BatchNormalization</span>)            │                        │               │\n",
              "├─────────────────────────────────┼────────────────────────┼───────────────┤\n",
              "│ conv2d_2 (<span style=\"color: #0087ff; text-decoration-color: #0087ff\">Conv2D</span>)               │ (<span style=\"color: #00d7ff; text-decoration-color: #00d7ff\">None</span>, <span style=\"color: #00af00; text-decoration-color: #00af00\">44</span>, <span style=\"color: #00af00; text-decoration-color: #00af00\">28</span>, <span style=\"color: #00af00; text-decoration-color: #00af00\">128</span>)    │        <span style=\"color: #00af00; text-decoration-color: #00af00\">73,856</span> │\n",
              "├─────────────────────────────────┼────────────────────────┼───────────────┤\n",
              "│ max_pooling2d_2 (<span style=\"color: #0087ff; text-decoration-color: #0087ff\">MaxPooling2D</span>)  │ (<span style=\"color: #00d7ff; text-decoration-color: #00d7ff\">None</span>, <span style=\"color: #00af00; text-decoration-color: #00af00\">22</span>, <span style=\"color: #00af00; text-decoration-color: #00af00\">14</span>, <span style=\"color: #00af00; text-decoration-color: #00af00\">128</span>)    │             <span style=\"color: #00af00; text-decoration-color: #00af00\">0</span> │\n",
              "├─────────────────────────────────┼────────────────────────┼───────────────┤\n",
              "│ flatten (<span style=\"color: #0087ff; text-decoration-color: #0087ff\">Flatten</span>)               │ (<span style=\"color: #00d7ff; text-decoration-color: #00d7ff\">None</span>, <span style=\"color: #00af00; text-decoration-color: #00af00\">39424</span>)          │             <span style=\"color: #00af00; text-decoration-color: #00af00\">0</span> │\n",
              "├─────────────────────────────────┼────────────────────────┼───────────────┤\n",
              "│ dense (<span style=\"color: #0087ff; text-decoration-color: #0087ff\">Dense</span>)                   │ (<span style=\"color: #00d7ff; text-decoration-color: #00d7ff\">None</span>, <span style=\"color: #00af00; text-decoration-color: #00af00\">128</span>)            │     <span style=\"color: #00af00; text-decoration-color: #00af00\">5,046,400</span> │\n",
              "├─────────────────────────────────┼────────────────────────┼───────────────┤\n",
              "│ dropout (<span style=\"color: #0087ff; text-decoration-color: #0087ff\">Dropout</span>)               │ (<span style=\"color: #00d7ff; text-decoration-color: #00d7ff\">None</span>, <span style=\"color: #00af00; text-decoration-color: #00af00\">128</span>)            │             <span style=\"color: #00af00; text-decoration-color: #00af00\">0</span> │\n",
              "├─────────────────────────────────┼────────────────────────┼───────────────┤\n",
              "│ dense_1 (<span style=\"color: #0087ff; text-decoration-color: #0087ff\">Dense</span>)                 │ (<span style=\"color: #00d7ff; text-decoration-color: #00d7ff\">None</span>, <span style=\"color: #00af00; text-decoration-color: #00af00\">4</span>)              │           <span style=\"color: #00af00; text-decoration-color: #00af00\">516</span> │\n",
              "└─────────────────────────────────┴────────────────────────┴───────────────┘\n",
              "</pre>\n"
            ]
          },
          "metadata": {}
        },
        {
          "output_type": "display_data",
          "data": {
            "text/plain": [
              "\u001b[1m Total params: \u001b[0m\u001b[38;5;34m5,139,972\u001b[0m (19.61 MB)\n"
            ],
            "text/html": [
              "<pre style=\"white-space:pre;overflow-x:auto;line-height:normal;font-family:Menlo,'DejaVu Sans Mono',consolas,'Courier New',monospace\"><span style=\"font-weight: bold\"> Total params: </span><span style=\"color: #00af00; text-decoration-color: #00af00\">5,139,972</span> (19.61 MB)\n",
              "</pre>\n"
            ]
          },
          "metadata": {}
        },
        {
          "output_type": "display_data",
          "data": {
            "text/plain": [
              "\u001b[1m Trainable params: \u001b[0m\u001b[38;5;34m5,139,780\u001b[0m (19.61 MB)\n"
            ],
            "text/html": [
              "<pre style=\"white-space:pre;overflow-x:auto;line-height:normal;font-family:Menlo,'DejaVu Sans Mono',consolas,'Courier New',monospace\"><span style=\"font-weight: bold\"> Trainable params: </span><span style=\"color: #00af00; text-decoration-color: #00af00\">5,139,780</span> (19.61 MB)\n",
              "</pre>\n"
            ]
          },
          "metadata": {}
        },
        {
          "output_type": "display_data",
          "data": {
            "text/plain": [
              "\u001b[1m Non-trainable params: \u001b[0m\u001b[38;5;34m192\u001b[0m (768.00 B)\n"
            ],
            "text/html": [
              "<pre style=\"white-space:pre;overflow-x:auto;line-height:normal;font-family:Menlo,'DejaVu Sans Mono',consolas,'Courier New',monospace\"><span style=\"font-weight: bold\"> Non-trainable params: </span><span style=\"color: #00af00; text-decoration-color: #00af00\">192</span> (768.00 B)\n",
              "</pre>\n"
            ]
          },
          "metadata": {}
        },
        {
          "output_type": "stream",
          "name": "stdout",
          "text": [
            "Epoch 1/10\n",
            "\u001b[1m19/19\u001b[0m \u001b[32m━━━━━━━━━━━━━━━━━━━━\u001b[0m\u001b[37m\u001b[0m \u001b[1m36s\u001b[0m 2s/step - accuracy: 0.3028 - loss: 17.7166 - val_accuracy: 0.2966 - val_loss: 1.4384\n",
            "Epoch 2/10\n",
            "\u001b[1m19/19\u001b[0m \u001b[32m━━━━━━━━━━━━━━━━━━━━\u001b[0m\u001b[37m\u001b[0m \u001b[1m40s\u001b[0m 2s/step - accuracy: 0.3806 - loss: 1.2889 - val_accuracy: 0.3103 - val_loss: 1.3900\n",
            "Epoch 3/10\n",
            "\u001b[1m19/19\u001b[0m \u001b[32m━━━━━━━━━━━━━━━━━━━━\u001b[0m\u001b[37m\u001b[0m \u001b[1m40s\u001b[0m 2s/step - accuracy: 0.4351 - loss: 1.2014 - val_accuracy: 0.1655 - val_loss: 1.4281\n",
            "Epoch 4/10\n",
            "\u001b[1m19/19\u001b[0m \u001b[32m━━━━━━━━━━━━━━━━━━━━\u001b[0m\u001b[37m\u001b[0m \u001b[1m41s\u001b[0m 2s/step - accuracy: 0.4384 - loss: 1.2298 - val_accuracy: 0.2552 - val_loss: 1.3810\n",
            "Epoch 5/10\n",
            "\u001b[1m19/19\u001b[0m \u001b[32m━━━━━━━━━━━━━━━━━━━━\u001b[0m\u001b[37m\u001b[0m \u001b[1m42s\u001b[0m 2s/step - accuracy: 0.4822 - loss: 1.1745 - val_accuracy: 0.3448 - val_loss: 1.3793\n",
            "Epoch 6/10\n",
            "\u001b[1m19/19\u001b[0m \u001b[32m━━━━━━━━━━━━━━━━━━━━\u001b[0m\u001b[37m\u001b[0m \u001b[1m39s\u001b[0m 2s/step - accuracy: 0.4669 - loss: 1.1368 - val_accuracy: 0.3448 - val_loss: 1.3757\n",
            "Epoch 7/10\n",
            "\u001b[1m19/19\u001b[0m \u001b[32m━━━━━━━━━━━━━━━━━━━━\u001b[0m\u001b[37m\u001b[0m \u001b[1m32s\u001b[0m 2s/step - accuracy: 0.5200 - loss: 1.1030 - val_accuracy: 0.3586 - val_loss: 1.3780\n",
            "Epoch 8/10\n",
            "\u001b[1m19/19\u001b[0m \u001b[32m━━━━━━━━━━━━━━━━━━━━\u001b[0m\u001b[37m\u001b[0m \u001b[1m41s\u001b[0m 2s/step - accuracy: 0.4634 - loss: 1.1452 - val_accuracy: 0.2207 - val_loss: 1.3828\n",
            "Epoch 9/10\n",
            "\u001b[1m19/19\u001b[0m \u001b[32m━━━━━━━━━━━━━━━━━━━━\u001b[0m\u001b[37m\u001b[0m \u001b[1m32s\u001b[0m 2s/step - accuracy: 0.4839 - loss: 1.1450 - val_accuracy: 0.1655 - val_loss: 1.4032\n",
            "Epoch 10/10\n",
            "\u001b[1m19/19\u001b[0m \u001b[32m━━━━━━━━━━━━━━━━━━━━\u001b[0m\u001b[37m\u001b[0m \u001b[1m40s\u001b[0m 2s/step - accuracy: 0.4396 - loss: 1.2013 - val_accuracy: 0.1655 - val_loss: 1.4352\n"
          ]
        }
      ]
    },
    {
      "cell_type": "markdown",
      "source": [
        "# contains both description data & pixel data"
      ],
      "metadata": {
        "id": "RoVvPGlWYvNu"
      }
    },
    {
      "cell_type": "code",
      "source": [
        "import numpy as np\n",
        "import pandas as pd\n",
        "import matplotlib.pyplot as plt\n",
        "import re, string\n",
        "import nltk\n",
        "from tensorflow.keras.models import Model\n",
        "from tensorflow.keras.layers import (Input, Embedding, LSTM, Dense, Dropout,\n",
        "                                     Conv2D, MaxPooling2D, Flatten, concatenate, BatchNormalization)\n",
        "from tensorflow.keras.preprocessing.text import Tokenizer\n",
        "from tensorflow.keras.preprocessing.sequence import pad_sequences\n",
        "from tensorflow.keras.utils import to_categorical\n",
        "from sklearn.model_selection import train_test_split\n",
        "from sklearn.preprocessing import LabelEncoder\n",
        "from nltk.corpus import stopwords\n",
        "import contractions\n",
        "\n",
        "# --- 4. Align Descriptions with Image IDs ---\n",
        "df_filtered = df[df[\"movie_id\"].isin(ids)].copy()\n",
        "df_filtered = df_filtered.set_index(\"movie_id\").loc[ids].reset_index()\n",
        "\n",
        "# --- 5. Text Tokenization ---\n",
        "tokenizer = Tokenizer(num_words=10000, oov_token=\"<OOV>\")\n",
        "tokenizer.fit_on_texts(df_filtered[\"cleaned_description\"])\n",
        "\n",
        "X_txt = tokenizer.texts_to_sequences(df_filtered[\"cleaned_description\"])\n",
        "X_txt = pad_sequences(X_txt, maxlen=300)\n",
        "\n",
        "# --- 6. Label Encoding ---\n",
        "le = LabelEncoder()\n",
        "y = le.fit_transform(df_filtered[\"genre\"])\n",
        "y_cat = to_categorical(y, num_classes=4)\n",
        "\n",
        "# --- 7. Train/Test Split ---\n",
        "X_txt_train, X_txt_val, X_img_train, X_img_val, y_train, y_val = train_test_split(\n",
        "    X_txt, X_img, y_cat, test_size=0.2, stratify=y, random_state=42\n",
        ")\n",
        "\n",
        "# --- 8. Define Multimodal Model ---\n",
        "# TEXT branch\n",
        "text_input = Input(shape=(300,), name='text_input')\n",
        "x_txt = Embedding(input_dim=10000, output_dim=128)(text_input)\n",
        "x_txt = LSTM(64)(x_txt)\n",
        "x_txt = Dense(64, activation='relu')(x_txt)\n",
        "\n",
        "# IMAGE branch\n",
        "image_input = Input(shape=(192, 128, 1), name='image_input')\n",
        "x_img = Conv2D(32, (3,3), activation='relu')(image_input)\n",
        "x_img = MaxPooling2D((2,2))(x_img)\n",
        "x_img = BatchNormalization()(x_img)\n",
        "x_img = Conv2D(64, (3,3), activation='relu')(x_img)\n",
        "x_img = MaxPooling2D((2,2))(x_img)\n",
        "x_img = Flatten()(x_img)\n",
        "x_img = Dense(64, activation='relu')(x_img)\n",
        "\n",
        "# Combine\n",
        "combined = concatenate([x_txt, x_img])\n",
        "x = Dense(64, activation='relu')(combined)\n",
        "x = Dropout(0.5)(x)\n",
        "output = Dense(4, activation='softmax')(x)\n",
        "\n",
        "model = Model(inputs=[text_input, image_input], outputs=output)\n",
        "model.compile(optimizer='adam', loss='categorical_crossentropy', metrics=['accuracy'])\n",
        "model.summary()\n",
        "\n",
        "# --- 9. Train the Model ---\n",
        "history = model.fit(\n",
        "    [X_txt_train, X_img_train], y_train,\n",
        "    validation_data=([X_txt_val, X_img_val], y_val),\n",
        "    batch_size=32,\n",
        "    epochs=4\n",
        ")\n",
        "\n",
        "# --- 10. Plot Accuracy ---\n",
        "plt.plot(history.history['accuracy'], label='Train')\n",
        "plt.plot(history.history['val_accuracy'], label='Validation')\n",
        "plt.title('Multimodal Model Accuracy')\n",
        "plt.xlabel('Epoch')\n",
        "plt.ylabel('Accuracy')\n",
        "plt.legend()\n",
        "plt.grid(True)\n",
        "plt.show()\n",
        "\n",
        "\n"
      ],
      "metadata": {
        "colab": {
          "base_uri": "https://localhost:8080/",
          "height": 1000
        },
        "id": "os9p__pUY55-",
        "outputId": "3f9bd52d-9705-403c-daa6-e5d8f0302070"
      },
      "execution_count": null,
      "outputs": [
        {
          "output_type": "display_data",
          "data": {
            "text/plain": [
              "\u001b[1mModel: \"functional_2\"\u001b[0m\n"
            ],
            "text/html": [
              "<pre style=\"white-space:pre;overflow-x:auto;line-height:normal;font-family:Menlo,'DejaVu Sans Mono',consolas,'Courier New',monospace\"><span style=\"font-weight: bold\">Model: \"functional_2\"</span>\n",
              "</pre>\n"
            ]
          },
          "metadata": {}
        },
        {
          "output_type": "display_data",
          "data": {
            "text/plain": [
              "┏━━━━━━━━━━━━━━━━━━━━━┳━━━━━━━━━━━━━━━━━━━┳━━━━━━━━━━━━┳━━━━━━━━━━━━━━━━━━━┓\n",
              "┃\u001b[1m \u001b[0m\u001b[1mLayer (type)       \u001b[0m\u001b[1m \u001b[0m┃\u001b[1m \u001b[0m\u001b[1mOutput Shape     \u001b[0m\u001b[1m \u001b[0m┃\u001b[1m \u001b[0m\u001b[1m   Param #\u001b[0m\u001b[1m \u001b[0m┃\u001b[1m \u001b[0m\u001b[1mConnected to     \u001b[0m\u001b[1m \u001b[0m┃\n",
              "┡━━━━━━━━━━━━━━━━━━━━━╇━━━━━━━━━━━━━━━━━━━╇━━━━━━━━━━━━╇━━━━━━━━━━━━━━━━━━━┩\n",
              "│ image_input         │ (\u001b[38;5;45mNone\u001b[0m, \u001b[38;5;34m192\u001b[0m, \u001b[38;5;34m128\u001b[0m,  │          \u001b[38;5;34m0\u001b[0m │ -                 │\n",
              "│ (\u001b[38;5;33mInputLayer\u001b[0m)        │ \u001b[38;5;34m1\u001b[0m)                │            │                   │\n",
              "├─────────────────────┼───────────────────┼────────────┼───────────────────┤\n",
              "│ conv2d_5 (\u001b[38;5;33mConv2D\u001b[0m)   │ (\u001b[38;5;45mNone\u001b[0m, \u001b[38;5;34m190\u001b[0m, \u001b[38;5;34m126\u001b[0m,  │        \u001b[38;5;34m320\u001b[0m │ image_input[\u001b[38;5;34m0\u001b[0m][\u001b[38;5;34m0\u001b[0m] │\n",
              "│                     │ \u001b[38;5;34m32\u001b[0m)               │            │                   │\n",
              "├─────────────────────┼───────────────────┼────────────┼───────────────────┤\n",
              "│ max_pooling2d_5     │ (\u001b[38;5;45mNone\u001b[0m, \u001b[38;5;34m95\u001b[0m, \u001b[38;5;34m63\u001b[0m,    │          \u001b[38;5;34m0\u001b[0m │ conv2d_5[\u001b[38;5;34m0\u001b[0m][\u001b[38;5;34m0\u001b[0m]    │\n",
              "│ (\u001b[38;5;33mMaxPooling2D\u001b[0m)      │ \u001b[38;5;34m32\u001b[0m)               │            │                   │\n",
              "├─────────────────────┼───────────────────┼────────────┼───────────────────┤\n",
              "│ batch_normalizatio… │ (\u001b[38;5;45mNone\u001b[0m, \u001b[38;5;34m95\u001b[0m, \u001b[38;5;34m63\u001b[0m,    │        \u001b[38;5;34m128\u001b[0m │ max_pooling2d_5[\u001b[38;5;34m…\u001b[0m │\n",
              "│ (\u001b[38;5;33mBatchNormalizatio…\u001b[0m │ \u001b[38;5;34m32\u001b[0m)               │            │                   │\n",
              "├─────────────────────┼───────────────────┼────────────┼───────────────────┤\n",
              "│ text_input          │ (\u001b[38;5;45mNone\u001b[0m, \u001b[38;5;34m300\u001b[0m)       │          \u001b[38;5;34m0\u001b[0m │ -                 │\n",
              "│ (\u001b[38;5;33mInputLayer\u001b[0m)        │                   │            │                   │\n",
              "├─────────────────────┼───────────────────┼────────────┼───────────────────┤\n",
              "│ conv2d_6 (\u001b[38;5;33mConv2D\u001b[0m)   │ (\u001b[38;5;45mNone\u001b[0m, \u001b[38;5;34m93\u001b[0m, \u001b[38;5;34m61\u001b[0m,    │     \u001b[38;5;34m18,496\u001b[0m │ batch_normalizat… │\n",
              "│                     │ \u001b[38;5;34m64\u001b[0m)               │            │                   │\n",
              "├─────────────────────┼───────────────────┼────────────┼───────────────────┤\n",
              "│ embedding_1         │ (\u001b[38;5;45mNone\u001b[0m, \u001b[38;5;34m300\u001b[0m, \u001b[38;5;34m128\u001b[0m)  │  \u001b[38;5;34m1,280,000\u001b[0m │ text_input[\u001b[38;5;34m0\u001b[0m][\u001b[38;5;34m0\u001b[0m]  │\n",
              "│ (\u001b[38;5;33mEmbedding\u001b[0m)         │                   │            │                   │\n",
              "├─────────────────────┼───────────────────┼────────────┼───────────────────┤\n",
              "│ max_pooling2d_6     │ (\u001b[38;5;45mNone\u001b[0m, \u001b[38;5;34m46\u001b[0m, \u001b[38;5;34m30\u001b[0m,    │          \u001b[38;5;34m0\u001b[0m │ conv2d_6[\u001b[38;5;34m0\u001b[0m][\u001b[38;5;34m0\u001b[0m]    │\n",
              "│ (\u001b[38;5;33mMaxPooling2D\u001b[0m)      │ \u001b[38;5;34m64\u001b[0m)               │            │                   │\n",
              "├─────────────────────┼───────────────────┼────────────┼───────────────────┤\n",
              "│ lstm_1 (\u001b[38;5;33mLSTM\u001b[0m)       │ (\u001b[38;5;45mNone\u001b[0m, \u001b[38;5;34m64\u001b[0m)        │     \u001b[38;5;34m49,408\u001b[0m │ embedding_1[\u001b[38;5;34m0\u001b[0m][\u001b[38;5;34m0\u001b[0m] │\n",
              "├─────────────────────┼───────────────────┼────────────┼───────────────────┤\n",
              "│ flatten_2 (\u001b[38;5;33mFlatten\u001b[0m) │ (\u001b[38;5;45mNone\u001b[0m, \u001b[38;5;34m88320\u001b[0m)     │          \u001b[38;5;34m0\u001b[0m │ max_pooling2d_6[\u001b[38;5;34m…\u001b[0m │\n",
              "├─────────────────────┼───────────────────┼────────────┼───────────────────┤\n",
              "│ dense_6 (\u001b[38;5;33mDense\u001b[0m)     │ (\u001b[38;5;45mNone\u001b[0m, \u001b[38;5;34m64\u001b[0m)        │      \u001b[38;5;34m4,160\u001b[0m │ lstm_1[\u001b[38;5;34m0\u001b[0m][\u001b[38;5;34m0\u001b[0m]      │\n",
              "├─────────────────────┼───────────────────┼────────────┼───────────────────┤\n",
              "│ dense_7 (\u001b[38;5;33mDense\u001b[0m)     │ (\u001b[38;5;45mNone\u001b[0m, \u001b[38;5;34m64\u001b[0m)        │  \u001b[38;5;34m5,652,544\u001b[0m │ flatten_2[\u001b[38;5;34m0\u001b[0m][\u001b[38;5;34m0\u001b[0m]   │\n",
              "├─────────────────────┼───────────────────┼────────────┼───────────────────┤\n",
              "│ concatenate_1       │ (\u001b[38;5;45mNone\u001b[0m, \u001b[38;5;34m128\u001b[0m)       │          \u001b[38;5;34m0\u001b[0m │ dense_6[\u001b[38;5;34m0\u001b[0m][\u001b[38;5;34m0\u001b[0m],    │\n",
              "│ (\u001b[38;5;33mConcatenate\u001b[0m)       │                   │            │ dense_7[\u001b[38;5;34m0\u001b[0m][\u001b[38;5;34m0\u001b[0m]     │\n",
              "├─────────────────────┼───────────────────┼────────────┼───────────────────┤\n",
              "│ dense_8 (\u001b[38;5;33mDense\u001b[0m)     │ (\u001b[38;5;45mNone\u001b[0m, \u001b[38;5;34m64\u001b[0m)        │      \u001b[38;5;34m8,256\u001b[0m │ concatenate_1[\u001b[38;5;34m0\u001b[0m]… │\n",
              "├─────────────────────┼───────────────────┼────────────┼───────────────────┤\n",
              "│ dropout_2 (\u001b[38;5;33mDropout\u001b[0m) │ (\u001b[38;5;45mNone\u001b[0m, \u001b[38;5;34m64\u001b[0m)        │          \u001b[38;5;34m0\u001b[0m │ dense_8[\u001b[38;5;34m0\u001b[0m][\u001b[38;5;34m0\u001b[0m]     │\n",
              "├─────────────────────┼───────────────────┼────────────┼───────────────────┤\n",
              "│ dense_9 (\u001b[38;5;33mDense\u001b[0m)     │ (\u001b[38;5;45mNone\u001b[0m, \u001b[38;5;34m4\u001b[0m)         │        \u001b[38;5;34m260\u001b[0m │ dropout_2[\u001b[38;5;34m0\u001b[0m][\u001b[38;5;34m0\u001b[0m]   │\n",
              "└─────────────────────┴───────────────────┴────────────┴───────────────────┘\n"
            ],
            "text/html": [
              "<pre style=\"white-space:pre;overflow-x:auto;line-height:normal;font-family:Menlo,'DejaVu Sans Mono',consolas,'Courier New',monospace\">┏━━━━━━━━━━━━━━━━━━━━━┳━━━━━━━━━━━━━━━━━━━┳━━━━━━━━━━━━┳━━━━━━━━━━━━━━━━━━━┓\n",
              "┃<span style=\"font-weight: bold\"> Layer (type)        </span>┃<span style=\"font-weight: bold\"> Output Shape      </span>┃<span style=\"font-weight: bold\">    Param # </span>┃<span style=\"font-weight: bold\"> Connected to      </span>┃\n",
              "┡━━━━━━━━━━━━━━━━━━━━━╇━━━━━━━━━━━━━━━━━━━╇━━━━━━━━━━━━╇━━━━━━━━━━━━━━━━━━━┩\n",
              "│ image_input         │ (<span style=\"color: #00d7ff; text-decoration-color: #00d7ff\">None</span>, <span style=\"color: #00af00; text-decoration-color: #00af00\">192</span>, <span style=\"color: #00af00; text-decoration-color: #00af00\">128</span>,  │          <span style=\"color: #00af00; text-decoration-color: #00af00\">0</span> │ -                 │\n",
              "│ (<span style=\"color: #0087ff; text-decoration-color: #0087ff\">InputLayer</span>)        │ <span style=\"color: #00af00; text-decoration-color: #00af00\">1</span>)                │            │                   │\n",
              "├─────────────────────┼───────────────────┼────────────┼───────────────────┤\n",
              "│ conv2d_5 (<span style=\"color: #0087ff; text-decoration-color: #0087ff\">Conv2D</span>)   │ (<span style=\"color: #00d7ff; text-decoration-color: #00d7ff\">None</span>, <span style=\"color: #00af00; text-decoration-color: #00af00\">190</span>, <span style=\"color: #00af00; text-decoration-color: #00af00\">126</span>,  │        <span style=\"color: #00af00; text-decoration-color: #00af00\">320</span> │ image_input[<span style=\"color: #00af00; text-decoration-color: #00af00\">0</span>][<span style=\"color: #00af00; text-decoration-color: #00af00\">0</span>] │\n",
              "│                     │ <span style=\"color: #00af00; text-decoration-color: #00af00\">32</span>)               │            │                   │\n",
              "├─────────────────────┼───────────────────┼────────────┼───────────────────┤\n",
              "│ max_pooling2d_5     │ (<span style=\"color: #00d7ff; text-decoration-color: #00d7ff\">None</span>, <span style=\"color: #00af00; text-decoration-color: #00af00\">95</span>, <span style=\"color: #00af00; text-decoration-color: #00af00\">63</span>,    │          <span style=\"color: #00af00; text-decoration-color: #00af00\">0</span> │ conv2d_5[<span style=\"color: #00af00; text-decoration-color: #00af00\">0</span>][<span style=\"color: #00af00; text-decoration-color: #00af00\">0</span>]    │\n",
              "│ (<span style=\"color: #0087ff; text-decoration-color: #0087ff\">MaxPooling2D</span>)      │ <span style=\"color: #00af00; text-decoration-color: #00af00\">32</span>)               │            │                   │\n",
              "├─────────────────────┼───────────────────┼────────────┼───────────────────┤\n",
              "│ batch_normalizatio… │ (<span style=\"color: #00d7ff; text-decoration-color: #00d7ff\">None</span>, <span style=\"color: #00af00; text-decoration-color: #00af00\">95</span>, <span style=\"color: #00af00; text-decoration-color: #00af00\">63</span>,    │        <span style=\"color: #00af00; text-decoration-color: #00af00\">128</span> │ max_pooling2d_5[<span style=\"color: #00af00; text-decoration-color: #00af00\">…</span> │\n",
              "│ (<span style=\"color: #0087ff; text-decoration-color: #0087ff\">BatchNormalizatio…</span> │ <span style=\"color: #00af00; text-decoration-color: #00af00\">32</span>)               │            │                   │\n",
              "├─────────────────────┼───────────────────┼────────────┼───────────────────┤\n",
              "│ text_input          │ (<span style=\"color: #00d7ff; text-decoration-color: #00d7ff\">None</span>, <span style=\"color: #00af00; text-decoration-color: #00af00\">300</span>)       │          <span style=\"color: #00af00; text-decoration-color: #00af00\">0</span> │ -                 │\n",
              "│ (<span style=\"color: #0087ff; text-decoration-color: #0087ff\">InputLayer</span>)        │                   │            │                   │\n",
              "├─────────────────────┼───────────────────┼────────────┼───────────────────┤\n",
              "│ conv2d_6 (<span style=\"color: #0087ff; text-decoration-color: #0087ff\">Conv2D</span>)   │ (<span style=\"color: #00d7ff; text-decoration-color: #00d7ff\">None</span>, <span style=\"color: #00af00; text-decoration-color: #00af00\">93</span>, <span style=\"color: #00af00; text-decoration-color: #00af00\">61</span>,    │     <span style=\"color: #00af00; text-decoration-color: #00af00\">18,496</span> │ batch_normalizat… │\n",
              "│                     │ <span style=\"color: #00af00; text-decoration-color: #00af00\">64</span>)               │            │                   │\n",
              "├─────────────────────┼───────────────────┼────────────┼───────────────────┤\n",
              "│ embedding_1         │ (<span style=\"color: #00d7ff; text-decoration-color: #00d7ff\">None</span>, <span style=\"color: #00af00; text-decoration-color: #00af00\">300</span>, <span style=\"color: #00af00; text-decoration-color: #00af00\">128</span>)  │  <span style=\"color: #00af00; text-decoration-color: #00af00\">1,280,000</span> │ text_input[<span style=\"color: #00af00; text-decoration-color: #00af00\">0</span>][<span style=\"color: #00af00; text-decoration-color: #00af00\">0</span>]  │\n",
              "│ (<span style=\"color: #0087ff; text-decoration-color: #0087ff\">Embedding</span>)         │                   │            │                   │\n",
              "├─────────────────────┼───────────────────┼────────────┼───────────────────┤\n",
              "│ max_pooling2d_6     │ (<span style=\"color: #00d7ff; text-decoration-color: #00d7ff\">None</span>, <span style=\"color: #00af00; text-decoration-color: #00af00\">46</span>, <span style=\"color: #00af00; text-decoration-color: #00af00\">30</span>,    │          <span style=\"color: #00af00; text-decoration-color: #00af00\">0</span> │ conv2d_6[<span style=\"color: #00af00; text-decoration-color: #00af00\">0</span>][<span style=\"color: #00af00; text-decoration-color: #00af00\">0</span>]    │\n",
              "│ (<span style=\"color: #0087ff; text-decoration-color: #0087ff\">MaxPooling2D</span>)      │ <span style=\"color: #00af00; text-decoration-color: #00af00\">64</span>)               │            │                   │\n",
              "├─────────────────────┼───────────────────┼────────────┼───────────────────┤\n",
              "│ lstm_1 (<span style=\"color: #0087ff; text-decoration-color: #0087ff\">LSTM</span>)       │ (<span style=\"color: #00d7ff; text-decoration-color: #00d7ff\">None</span>, <span style=\"color: #00af00; text-decoration-color: #00af00\">64</span>)        │     <span style=\"color: #00af00; text-decoration-color: #00af00\">49,408</span> │ embedding_1[<span style=\"color: #00af00; text-decoration-color: #00af00\">0</span>][<span style=\"color: #00af00; text-decoration-color: #00af00\">0</span>] │\n",
              "├─────────────────────┼───────────────────┼────────────┼───────────────────┤\n",
              "│ flatten_2 (<span style=\"color: #0087ff; text-decoration-color: #0087ff\">Flatten</span>) │ (<span style=\"color: #00d7ff; text-decoration-color: #00d7ff\">None</span>, <span style=\"color: #00af00; text-decoration-color: #00af00\">88320</span>)     │          <span style=\"color: #00af00; text-decoration-color: #00af00\">0</span> │ max_pooling2d_6[<span style=\"color: #00af00; text-decoration-color: #00af00\">…</span> │\n",
              "├─────────────────────┼───────────────────┼────────────┼───────────────────┤\n",
              "│ dense_6 (<span style=\"color: #0087ff; text-decoration-color: #0087ff\">Dense</span>)     │ (<span style=\"color: #00d7ff; text-decoration-color: #00d7ff\">None</span>, <span style=\"color: #00af00; text-decoration-color: #00af00\">64</span>)        │      <span style=\"color: #00af00; text-decoration-color: #00af00\">4,160</span> │ lstm_1[<span style=\"color: #00af00; text-decoration-color: #00af00\">0</span>][<span style=\"color: #00af00; text-decoration-color: #00af00\">0</span>]      │\n",
              "├─────────────────────┼───────────────────┼────────────┼───────────────────┤\n",
              "│ dense_7 (<span style=\"color: #0087ff; text-decoration-color: #0087ff\">Dense</span>)     │ (<span style=\"color: #00d7ff; text-decoration-color: #00d7ff\">None</span>, <span style=\"color: #00af00; text-decoration-color: #00af00\">64</span>)        │  <span style=\"color: #00af00; text-decoration-color: #00af00\">5,652,544</span> │ flatten_2[<span style=\"color: #00af00; text-decoration-color: #00af00\">0</span>][<span style=\"color: #00af00; text-decoration-color: #00af00\">0</span>]   │\n",
              "├─────────────────────┼───────────────────┼────────────┼───────────────────┤\n",
              "│ concatenate_1       │ (<span style=\"color: #00d7ff; text-decoration-color: #00d7ff\">None</span>, <span style=\"color: #00af00; text-decoration-color: #00af00\">128</span>)       │          <span style=\"color: #00af00; text-decoration-color: #00af00\">0</span> │ dense_6[<span style=\"color: #00af00; text-decoration-color: #00af00\">0</span>][<span style=\"color: #00af00; text-decoration-color: #00af00\">0</span>],    │\n",
              "│ (<span style=\"color: #0087ff; text-decoration-color: #0087ff\">Concatenate</span>)       │                   │            │ dense_7[<span style=\"color: #00af00; text-decoration-color: #00af00\">0</span>][<span style=\"color: #00af00; text-decoration-color: #00af00\">0</span>]     │\n",
              "├─────────────────────┼───────────────────┼────────────┼───────────────────┤\n",
              "│ dense_8 (<span style=\"color: #0087ff; text-decoration-color: #0087ff\">Dense</span>)     │ (<span style=\"color: #00d7ff; text-decoration-color: #00d7ff\">None</span>, <span style=\"color: #00af00; text-decoration-color: #00af00\">64</span>)        │      <span style=\"color: #00af00; text-decoration-color: #00af00\">8,256</span> │ concatenate_1[<span style=\"color: #00af00; text-decoration-color: #00af00\">0</span>]… │\n",
              "├─────────────────────┼───────────────────┼────────────┼───────────────────┤\n",
              "│ dropout_2 (<span style=\"color: #0087ff; text-decoration-color: #0087ff\">Dropout</span>) │ (<span style=\"color: #00d7ff; text-decoration-color: #00d7ff\">None</span>, <span style=\"color: #00af00; text-decoration-color: #00af00\">64</span>)        │          <span style=\"color: #00af00; text-decoration-color: #00af00\">0</span> │ dense_8[<span style=\"color: #00af00; text-decoration-color: #00af00\">0</span>][<span style=\"color: #00af00; text-decoration-color: #00af00\">0</span>]     │\n",
              "├─────────────────────┼───────────────────┼────────────┼───────────────────┤\n",
              "│ dense_9 (<span style=\"color: #0087ff; text-decoration-color: #0087ff\">Dense</span>)     │ (<span style=\"color: #00d7ff; text-decoration-color: #00d7ff\">None</span>, <span style=\"color: #00af00; text-decoration-color: #00af00\">4</span>)         │        <span style=\"color: #00af00; text-decoration-color: #00af00\">260</span> │ dropout_2[<span style=\"color: #00af00; text-decoration-color: #00af00\">0</span>][<span style=\"color: #00af00; text-decoration-color: #00af00\">0</span>]   │\n",
              "└─────────────────────┴───────────────────┴────────────┴───────────────────┘\n",
              "</pre>\n"
            ]
          },
          "metadata": {}
        },
        {
          "output_type": "display_data",
          "data": {
            "text/plain": [
              "\u001b[1m Total params: \u001b[0m\u001b[38;5;34m7,013,572\u001b[0m (26.75 MB)\n"
            ],
            "text/html": [
              "<pre style=\"white-space:pre;overflow-x:auto;line-height:normal;font-family:Menlo,'DejaVu Sans Mono',consolas,'Courier New',monospace\"><span style=\"font-weight: bold\"> Total params: </span><span style=\"color: #00af00; text-decoration-color: #00af00\">7,013,572</span> (26.75 MB)\n",
              "</pre>\n"
            ]
          },
          "metadata": {}
        },
        {
          "output_type": "display_data",
          "data": {
            "text/plain": [
              "\u001b[1m Trainable params: \u001b[0m\u001b[38;5;34m7,013,508\u001b[0m (26.75 MB)\n"
            ],
            "text/html": [
              "<pre style=\"white-space:pre;overflow-x:auto;line-height:normal;font-family:Menlo,'DejaVu Sans Mono',consolas,'Courier New',monospace\"><span style=\"font-weight: bold\"> Trainable params: </span><span style=\"color: #00af00; text-decoration-color: #00af00\">7,013,508</span> (26.75 MB)\n",
              "</pre>\n"
            ]
          },
          "metadata": {}
        },
        {
          "output_type": "display_data",
          "data": {
            "text/plain": [
              "\u001b[1m Non-trainable params: \u001b[0m\u001b[38;5;34m64\u001b[0m (256.00 B)\n"
            ],
            "text/html": [
              "<pre style=\"white-space:pre;overflow-x:auto;line-height:normal;font-family:Menlo,'DejaVu Sans Mono',consolas,'Courier New',monospace\"><span style=\"font-weight: bold\"> Non-trainable params: </span><span style=\"color: #00af00; text-decoration-color: #00af00\">64</span> (256.00 B)\n",
              "</pre>\n"
            ]
          },
          "metadata": {}
        },
        {
          "output_type": "stream",
          "name": "stdout",
          "text": [
            "Epoch 1/4\n",
            "\u001b[1m19/19\u001b[0m \u001b[32m━━━━━━━━━━━━━━━━━━━━\u001b[0m\u001b[37m\u001b[0m \u001b[1m34s\u001b[0m 2s/step - accuracy: 0.3172 - loss: 4.9785 - val_accuracy: 0.3310 - val_loss: 1.3839\n",
            "Epoch 2/4\n",
            "\u001b[1m19/19\u001b[0m \u001b[32m━━━━━━━━━━━━━━━━━━━━\u001b[0m\u001b[37m\u001b[0m \u001b[1m39s\u001b[0m 1s/step - accuracy: 0.3492 - loss: 1.5867 - val_accuracy: 0.3586 - val_loss: 1.3507\n",
            "Epoch 3/4\n",
            "\u001b[1m19/19\u001b[0m \u001b[32m━━━━━━━━━━━━━━━━━━━━\u001b[0m\u001b[37m\u001b[0m \u001b[1m42s\u001b[0m 1s/step - accuracy: 0.4284 - loss: 1.1951 - val_accuracy: 0.4207 - val_loss: 1.3090\n",
            "Epoch 4/4\n",
            "\u001b[1m19/19\u001b[0m \u001b[32m━━━━━━━━━━━━━━━━━━━━\u001b[0m\u001b[37m\u001b[0m \u001b[1m26s\u001b[0m 1s/step - accuracy: 0.5299 - loss: 1.1165 - val_accuracy: 0.3586 - val_loss: 1.3301\n"
          ]
        },
        {
          "output_type": "display_data",
          "data": {
            "text/plain": [
              "<Figure size 640x480 with 1 Axes>"
            ],
            "image/png": "[encoded data removed]"
          },
          "metadata": {}
        }
      ]
    },
    {
      "cell_type": "code",
      "source": [
        "\n",
        "\n"
      ],
      "metadata": {
        "id": "SgMpmevKY5oP",
        "colab": {
          "base_uri": "https://localhost:8080/",
          "height": 216
        },
        "outputId": "bc162d9c-01ee-4826-e710-7ad5953e5326"
      },
      "execution_count": null,
      "outputs": [
        {
          "output_type": "error",
          "ename": "NameError",
          "evalue": "name 'model' is not defined",
          "traceback": [
            "\u001b[0;31m---------------------------------------------------------------------------\u001b[0m",
            "\u001b[0;31mNameError\u001b[0m                                 Traceback (most recent call last)",
            "\u001b[0;32m<ipython-input-1-339823082fd8>\u001b[0m in \u001b[0;36m<cell line: 0>\u001b[0;34m()\u001b[0m\n\u001b[0;32m----> 1\u001b[0;31m history = model.fit(\n\u001b[0m\u001b[1;32m      2\u001b[0m     \u001b[0;34m[\u001b[0m\u001b[0mX_txt_train\u001b[0m\u001b[0;34m,\u001b[0m \u001b[0mX_img_train\u001b[0m\u001b[0;34m]\u001b[0m\u001b[0;34m,\u001b[0m \u001b[0my_train\u001b[0m\u001b[0;34m,\u001b[0m\u001b[0;34m\u001b[0m\u001b[0;34m\u001b[0m\u001b[0m\n\u001b[1;32m      3\u001b[0m     \u001b[0mvalidation_data\u001b[0m\u001b[0;34m=\u001b[0m\u001b[0;34m(\u001b[0m\u001b[0;34m[\u001b[0m\u001b[0mX_txt_val\u001b[0m\u001b[0;34m,\u001b[0m \u001b[0mX_img_val\u001b[0m\u001b[0;34m]\u001b[0m\u001b[0;34m,\u001b[0m \u001b[0my_val\u001b[0m\u001b[0;34m)\u001b[0m\u001b[0;34m,\u001b[0m\u001b[0;34m\u001b[0m\u001b[0;34m\u001b[0m\u001b[0m\n\u001b[1;32m      4\u001b[0m     \u001b[0mbatch_size\u001b[0m\u001b[0;34m=\u001b[0m\u001b[0;36m32\u001b[0m\u001b[0;34m,\u001b[0m\u001b[0;34m\u001b[0m\u001b[0;34m\u001b[0m\u001b[0m\n\u001b[1;32m      5\u001b[0m     \u001b[0mepochs\u001b[0m\u001b[0;34m=\u001b[0m\u001b[0;36m2\u001b[0m\u001b[0;34m\u001b[0m\u001b[0;34m\u001b[0m\u001b[0m\n",
            "\u001b[0;31mNameError\u001b[0m: name 'model' is not defined"
          ]
        }
      ]
    },
    {
      "cell_type": "markdown",
      "source": [],
      "metadata": {
        "id": "5jyunuuWQD-K"
      }
    },
    {
      "cell_type": "code",
      "source": [],
      "metadata": {
        "colab": {
          "base_uri": "https://localhost:8080/"
        },
        "id": "_3firBAGtU8Q",
        "outputId": "5b1780db-d726-4307-b94d-8cf8450bf630"
      },
      "execution_count": null,
      "outputs": [
        {
          "output_type": "stream",
          "name": "stdout",
          "text": [
            "  adding: content/bert_model/ (stored 0%)\n",
            "  adding: content/bert_model/tokenizer.json (deflated 71%)\n",
            "  adding: content/bert_model/tokenizer_config.json (deflated 75%)\n",
            "  adding: content/bert_model/model.safetensors (deflated 8%)\n",
            "  adding: content/bert_model/special_tokens_map.json (deflated 42%)\n",
            "  adding: content/bert_model/config.json (deflated 50%)\n",
            "  adding: content/bert_model/vocab.txt (deflated 53%)\n"
          ]
        }
      ]
    },
    {
      "cell_type": "code",
      "source": [
        "\n",
        "\n"
      ],
      "metadata": {
        "id": "OxcqvwgWY9YM",
        "colab": {
          "base_uri": "https://localhost:8080/",
          "height": 17
        },
        "outputId": "e0dc58e8-c6ff-45b7-ee8e-9d8b80fad53a"
      },
      "execution_count": null,
      "outputs": [
        {
          "output_type": "display_data",
          "data": {
            "text/plain": [
              "<IPython.core.display.Javascript object>"
            ],
            "application/javascript": [
              "\n",
              "    async function download(id, filename, size) {\n",
              "      if (!google.colab.kernel.accessAllowed) {\n",
              "        return;\n",
              "      }\n",
              "      const div = document.createElement('div');\n",
              "      const label = document.createElement('label');\n",
              "      label.textContent = `Downloading \"${filename}\": `;\n",
              "      div.appendChild(label);\n",
              "      const progress = document.createElement('progress');\n",
              "      progress.max = size;\n",
              "      div.appendChild(progress);\n",
              "      document.body.appendChild(div);\n",
              "\n",
              "      const buffers = [];\n",
              "      let downloaded = 0;\n",
              "\n",
              "      const channel = await google.colab.kernel.comms.open(id);\n",
              "      // Send a message to notify the kernel that we're ready.\n",
              "      channel.send({})\n",
              "\n",
              "      for await (const message of channel.messages) {\n",
              "        // Send a message to notify the kernel that we're ready.\n",
              "        channel.send({})\n",
              "        if (message.buffers) {\n",
              "          for (const buffer of message.buffers) {\n",
              "            buffers.push(buffer);\n",
              "            downloaded += buffer.byteLength;\n",
              "            progress.value = downloaded;\n",
              "          }\n",
              "        }\n",
              "      }\n",
              "      const blob = new Blob(buffers, {type: 'application/binary'});\n",
              "      const a = document.createElement('a');\n",
              "      a.href = window.URL.createObjectURL(blob);\n",
              "      a.download = filename;\n",
              "      div.appendChild(a);\n",
              "      a.click();\n",
              "      div.remove();\n",
              "    }\n",
              "  "
            ]
          },
          "metadata": {}
        },
        {
          "output_type": "display_data",
          "data": {
            "text/plain": [
              "<IPython.core.display.Javascript object>"
            ],
            "application/javascript": [
              "download(\"download_f2618429-212d-42b9-b5ec-1940a8dd0b0d\", \"bert_model.zip\", 247106599)"
            ]
          },
          "metadata": {}
        }
      ]
    },
    {
      "cell_type": "code",
      "source": [],
      "metadata": {
        "id": "5LCS-psWMaxH"
      },
      "execution_count": null,
      "outputs": []
    }
  ]
}